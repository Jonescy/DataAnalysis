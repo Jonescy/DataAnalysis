{
 "cells": [
  {
   "cell_type": "code",
   "execution_count": 45,
   "metadata": {
    "collapsed": true
   },
   "outputs": [],
   "source": [
    "import numpy as np\n",
    "import requests\n",
    "import pandas as pd\n",
    "import re\n",
    "\n",
    "from lxml import etree"
   ]
  },
  {
   "cell_type": "code",
   "execution_count": 46,
   "outputs": [
    {
     "name": "stdout",
     "output_type": "stream",
     "text": [
      "['WHO', 'COVID-19', 'global', 'table', 'data', 'January', '9th', '2021', 'at', '3.15.58', 'PM.csv']\n"
     ]
    }
   ],
   "source": [
    "url = 'https://covid19.who.int/table'\n",
    "headers = {'User-Agent': 'Mozilla/5.0 (Windows NT 10.0; Win64; x64) AppleWebKit/537.36 (KHTML, like Gecko) Chrome/87.0.4280.88 Safari/537.36'}\n",
    "resp = requests.get(url, headers=headers).text\n",
    "doc = etree.HTML(resp)\n",
    "csv_path = doc.xpath('//a[contains(@href,\"csv\")]/@href')[0]\n",
    "published = doc.xpath('//a[contains(@href,\"csv\")]/@download')[0].split(' ')\n",
    "# WHO COVID-19 global table data January 9th 2021 at 1.15.59 PM.csv\n",
    "print(published)"
   ],
   "metadata": {
    "collapsed": false,
    "pycharm": {
     "name": "#%%\n"
    }
   }
  },
  {
   "cell_type": "code",
   "execution_count": 47,
   "outputs": [],
   "source": [
    "sequence = '第1 first 第2 second 第3 third 第4 fourth 第5 fifth 第6 sixth 第7 seventh 第8 eighth 第9 ninth 第10 tenth 第11 eleventh 第12 twelfth 第13 thirteenth 第14 fourteenth 第15 fifteenth 第16 sixteenth 第17 seventeenth 第18 eighteenth 第19 nineteenth 第20 twentieth 第30 thirtieth 第31 thirty-first'\n",
    "sequence_map = {}\n",
    "for i in sequence.split('第'):\n",
    "    if i:\n",
    "        j = i.strip()\n",
    "        head = j[:2].strip(' ')\n",
    "        tail = j[-2:]\n",
    "        sequence_map[head+tail] = int(head)"
   ],
   "metadata": {
    "collapsed": false,
    "pycharm": {
     "name": "#%%\n"
    }
   }
  },
  {
   "cell_type": "code",
   "execution_count": 48,
   "outputs": [
    {
     "name": "stdout",
     "output_type": "stream",
     "text": [
      "国际标准时间:2021-01-09 15:15:58\n",
      "北京时间:2021-01-09 23:15:58\n"
     ]
    }
   ],
   "source": [
    "import time\n",
    "\n",
    "from datetime import datetime\n",
    "from datetime import timedelta\n",
    "from datetime import timezone\n",
    "\n",
    "spilt_list = published[5:]\n",
    "month = time.strptime(spilt_list[0], '%B').tm_mon\n",
    "day = sequence_map[spilt_list[1]]\n",
    "morning_or_afternoon = spilt_list[-1].split('.')[0]\n",
    "date = spilt_list[-2].split('.')\n",
    "if morning_or_afternoon == 'PM':\n",
    "    date[0] = int(date[0]) + 12\n",
    "else:\n",
    "    pass\n",
    "year = int(spilt_list[2])\n",
    "utc_time = datetime(year=year, month=month, day=day, hour=date[0], minute=int(date[1]), second=int(date[2]))\n",
    "bejing_time = datetime(year=year, month=month, day=day, hour=date[0], minute=int(date[1]), second=int(date[2])).replace(\n",
    "            tzinfo=timezone.utc).astimezone(timezone(timedelta(hours=+8)))\n",
    "print(f'国际标准时间:' + utc_time.strftime('%Y-%m-%d %X'))\n",
    "# 时区转换\n",
    "print(\"北京时间:\" + bejing_time.strftime('%Y-%m-%d %X'))"
   ],
   "metadata": {
    "collapsed": false,
    "pycharm": {
     "name": "#%%时区转换\n"
    }
   }
  },
  {
   "cell_type": "code",
   "execution_count": null,
   "outputs": [],
   "source": [],
   "metadata": {
    "collapsed": false,
    "pycharm": {
     "name": "#%%\n"
    }
   }
  }
 ],
 "metadata": {
  "kernelspec": {
   "display_name": "Python 3",
   "language": "python",
   "name": "python3"
  },
  "language_info": {
   "codemirror_mode": {
    "name": "ipython",
    "version": 2
   },
   "file_extension": ".py",
   "mimetype": "text/x-python",
   "name": "python",
   "nbconvert_exporter": "python",
   "pygments_lexer": "ipython2",
   "version": "2.7.6"
  }
 },
 "nbformat": 4,
 "nbformat_minor": 0
}