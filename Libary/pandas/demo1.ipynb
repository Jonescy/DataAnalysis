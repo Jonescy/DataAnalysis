{
 "cells": [
  {
   "cell_type": "code",
   "execution_count": 4,
   "metadata": {
    "collapsed": true
   },
   "outputs": [
    {
     "data": {
      "text/plain": "a    1\nb    2\nc    3\ndtype: int64"
     },
     "execution_count": 4,
     "metadata": {},
     "output_type": "execute_result"
    }
   ],
   "source": [
    "import pandas as pd\n",
    "import numpy as np\n",
    "s = pd.Series([1, 2, 3],index=[\"a\", 'b', 'c'])\n",
    "s"
   ]
  },
  {
   "cell_type": "code",
   "execution_count": 2,
   "outputs": [
    {
     "data": {
      "text/plain": "   a  b  c\n0  1  2  3\n1  4  5  6",
      "text/html": "<div>\n<style scoped>\n    .dataframe tbody tr th:only-of-type {\n        vertical-align: middle;\n    }\n\n    .dataframe tbody tr th {\n        vertical-align: top;\n    }\n\n    .dataframe thead th {\n        text-align: right;\n    }\n</style>\n<table border=\"1\" class=\"dataframe\">\n  <thead>\n    <tr style=\"text-align: right;\">\n      <th></th>\n      <th>a</th>\n      <th>b</th>\n      <th>c</th>\n    </tr>\n  </thead>\n  <tbody>\n    <tr>\n      <th>0</th>\n      <td>1</td>\n      <td>2</td>\n      <td>3</td>\n    </tr>\n    <tr>\n      <th>1</th>\n      <td>4</td>\n      <td>5</td>\n      <td>6</td>\n    </tr>\n  </tbody>\n</table>\n</div>"
     },
     "execution_count": 2,
     "metadata": {},
     "output_type": "execute_result"
    }
   ],
   "source": [
    "data = pd.DataFrame([[1,2,3],[4,5,6]], columns=['a','b','c'])\n",
    "data"
   ],
   "metadata": {
    "collapsed": false,
    "pycharm": {
     "name": "#%%\n"
    }
   }
  },
  {
   "cell_type": "code",
   "execution_count": 1,
   "outputs": [
    {
     "ename": "NameError",
     "evalue": "name 'pd' is not defined",
     "output_type": "error",
     "traceback": [
      "\u001B[1;31m---------------------------------------------------------------------------\u001B[0m",
      "\u001B[1;31mNameError\u001B[0m                                 Traceback (most recent call last)",
      "\u001B[1;32m<ipython-input-1-3fbb5c67e6a1>\u001B[0m in \u001B[0;36m<module>\u001B[1;34m\u001B[0m\n\u001B[1;32m----> 1\u001B[1;33m \u001B[0mcsv_data\u001B[0m \u001B[1;33m=\u001B[0m \u001B[0mpd\u001B[0m\u001B[1;33m.\u001B[0m\u001B[0mread_csv\u001B[0m\u001B[1;33m(\u001B[0m\u001B[1;34m'C:/Users/jonescy/OneDrive/文档/MySQL/total.csv'\u001B[0m\u001B[1;33m)\u001B[0m\u001B[1;33m\u001B[0m\u001B[1;33m\u001B[0m\u001B[0m\n\u001B[0m\u001B[0;32m      2\u001B[0m \u001B[0mcsv_data\u001B[0m\u001B[1;33m\u001B[0m\u001B[1;33m\u001B[0m\u001B[0m\n\u001B[0;32m      3\u001B[0m \u001B[0mpd\u001B[0m\u001B[1;33m.\u001B[0m\u001B[0mrea\u001B[0m\u001B[1;33m\u001B[0m\u001B[1;33m\u001B[0m\u001B[0m\n",
      "\u001B[1;31mNameError\u001B[0m: name 'pd' is not defined"
     ]
    }
   ],
   "source": [
    "csv_data = pd.read_csv('C:/Users/jonescy/OneDrive/文档/MySQL/total.csv')\n",
    "csv_data\n",
    "pd.rea"
   ],
   "metadata": {
    "collapsed": false,
    "pycharm": {
     "name": "#%%\n"
    }
   }
  },
  {
   "cell_type": "code",
   "execution_count": 10,
   "outputs": [
    {
     "data": {
      "text/plain": "a    2.00\nb    8.00\nc    3.01\nd    8.99\ne    8.59\nf    5.18\nName: jonescy, dtype: float64"
     },
     "execution_count": 10,
     "metadata": {},
     "output_type": "execute_result"
    }
   ],
   "source": [
    "series1 = pd.Series([2,8,3.01,8.99,8.59,5.18],index=['a','b','c','d','e','f'],name='jonescy')\n",
    "series1"
   ],
   "metadata": {
    "collapsed": false,
    "pycharm": {
     "name": "#%%\n"
    }
   }
  },
  {
   "cell_type": "code",
   "execution_count": 11,
   "outputs": [
    {
     "data": {
      "text/plain": "pandas.core.series.Series"
     },
     "execution_count": 11,
     "metadata": {},
     "output_type": "execute_result"
    }
   ],
   "source": [
    "type(series1)\n"
   ],
   "metadata": {
    "collapsed": false,
    "pycharm": {
     "name": "#%%\n"
    }
   }
  },
  {
   "cell_type": "code",
   "execution_count": 17,
   "outputs": [
    {
     "data": {
      "text/plain": "北京    2.80\n上海    3.01\n广东    8.99\n江苏    8.59\n浙江    5.18\ndtype: float64"
     },
     "execution_count": 17,
     "metadata": {},
     "output_type": "execute_result"
    }
   ],
   "source": [
    "series2 = pd.Series({'北京':2.8,'上海':3.01,'广东':8.99,'江苏':8.59,'浙江':5.18})\n",
    "series2"
   ],
   "metadata": {
    "collapsed": false,
    "pycharm": {
     "name": "#%%\n"
    }
   }
  },
  {
   "cell_type": "code",
   "execution_count": 19,
   "outputs": [
    {
     "data": {
      "text/plain": "array([2.8 , 3.01, 8.99, 8.59, 5.18])"
     },
     "execution_count": 19,
     "metadata": {},
     "output_type": "execute_result"
    }
   ],
   "source": [
    "series2.values\n"
   ],
   "metadata": {
    "collapsed": false,
    "pycharm": {
     "name": "#%%\n"
    }
   }
  },
  {
   "cell_type": "code",
   "execution_count": 21,
   "outputs": [
    {
     "data": {
      "text/plain": "Index(['北京', '上海', '广东', '江苏', '浙江'], dtype='object')"
     },
     "execution_count": 21,
     "metadata": {},
     "output_type": "execute_result"
    }
   ],
   "source": [
    "series2.index"
   ],
   "metadata": {
    "collapsed": false,
    "pycharm": {
     "name": "#%%\n"
    }
   }
  },
  {
   "cell_type": "code",
   "execution_count": 25,
   "outputs": [
    {
     "data": {
      "text/plain": "dtype('float64')"
     },
     "execution_count": 25,
     "metadata": {},
     "output_type": "execute_result"
    }
   ],
   "source": [
    "series2.dtype"
   ],
   "metadata": {
    "collapsed": false,
    "pycharm": {
     "name": "#%%\n"
    }
   }
  },
  {
   "cell_type": "code",
   "execution_count": 27,
   "outputs": [
    {
     "data": {
      "text/plain": "1"
     },
     "execution_count": 27,
     "metadata": {},
     "output_type": "execute_result"
    }
   ],
   "source": [
    "series2.ndim"
   ],
   "metadata": {
    "collapsed": false,
    "pycharm": {
     "name": "#%%\n"
    }
   }
  },
  {
   "cell_type": "code",
   "execution_count": 29,
   "outputs": [
    {
     "data": {
      "text/plain": "北京    2.80\n上海    3.01\n广东    8.99\n江苏    8.59\ndtype: float64"
     },
     "execution_count": 29,
     "metadata": {},
     "output_type": "execute_result"
    }
   ],
   "source": [
    "series2[0:4]"
   ],
   "metadata": {
    "collapsed": false,
    "pycharm": {
     "name": "#%%\n"
    }
   }
  },
  {
   "cell_type": "code",
   "execution_count": 32,
   "outputs": [
    {
     "data": {
      "text/plain": "北京    2.80\n上海    3.01\n广东    8.99\ndtype: float64"
     },
     "execution_count": 32,
     "metadata": {},
     "output_type": "execute_result"
    }
   ],
   "source": [
    "series2['北京':'广东']"
   ],
   "metadata": {
    "collapsed": false,
    "pycharm": {
     "name": "#%%\n"
    }
   }
  },
  {
   "cell_type": "code",
   "execution_count": 35,
   "outputs": [
    {
     "data": {
      "text/plain": "四川    3.80\n重庆    2.01\ndtype: float64"
     },
     "execution_count": 35,
     "metadata": {},
     "output_type": "execute_result"
    }
   ],
   "source": [
    "series3 = pd.Series({'四川':3.80,'重庆':2.01})\n",
    "series3"
   ],
   "metadata": {
    "collapsed": false,
    "pycharm": {
     "name": "#%%\n"
    }
   }
  },
  {
   "cell_type": "code",
   "execution_count": 41,
   "outputs": [],
   "source": [
    "series4 =series2.append(series3)\n",
    "series4"
   ],
   "metadata": {
    "collapsed": false,
    "pycharm": {
     "name": "#%%\n"
    }
   }
  },
  {
   "cell_type": "code",
   "execution_count": 40,
   "outputs": [
    {
     "data": {
      "text/plain": "北京    2.89\n上海    3.01\n广东    8.99\n江苏    8.59\n浙江    5.18\ndtype: float64"
     },
     "execution_count": 40,
     "metadata": {},
     "output_type": "execute_result"
    }
   ],
   "source": [
    "series2['北京'] = 2.89\n",
    "series2"
   ],
   "metadata": {
    "collapsed": false,
    "pycharm": {
     "name": "#%%\n"
    }
   }
  },
  {
   "cell_type": "code",
   "execution_count": 47,
   "outputs": [],
   "source": [
    "series4.drop(['四川','浙江'],inplace=True)"
   ],
   "metadata": {
    "collapsed": false,
    "pycharm": {
     "name": "#%%\n"
    }
   }
  },
  {
   "cell_type": "code",
   "execution_count": 49,
   "outputs": [
    {
     "data": {
      "text/plain": "北京    2.89\n上海    3.01\n广东    8.99\n江苏    8.59\n重庆    2.01\ndtype: float64"
     },
     "execution_count": 49,
     "metadata": {},
     "output_type": "execute_result"
    }
   ],
   "source": [
    "series4"
   ],
   "metadata": {
    "collapsed": false,
    "pycharm": {
     "name": "#%%\n"
    }
   }
  },
  {
   "cell_type": "code",
   "execution_count": 51,
   "outputs": [
    {
     "data": {
      "text/plain": "[['张三', 23, '男'], ['李四', 24, '女'], ['王二', 25, '女']]"
     },
     "execution_count": 51,
     "metadata": {},
     "output_type": "execute_result"
    }
   ],
   "source": [
    "list1 = [['张三',23,'男'],['李四',24,'女'],['王二',25,'女']]\n",
    "list1"
   ],
   "metadata": {
    "collapsed": false,
    "pycharm": {
     "name": "#%%\n"
    }
   }
  },
  {
   "cell_type": "code",
   "execution_count": 54,
   "outputs": [
    {
     "data": {
      "text/plain": "   姓名  年龄 性别\n0  张三  23  男\n1  李四  24  女\n2  王二  25  女",
      "text/html": "<div>\n<style scoped>\n    .dataframe tbody tr th:only-of-type {\n        vertical-align: middle;\n    }\n\n    .dataframe tbody tr th {\n        vertical-align: top;\n    }\n\n    .dataframe thead th {\n        text-align: right;\n    }\n</style>\n<table border=\"1\" class=\"dataframe\">\n  <thead>\n    <tr style=\"text-align: right;\">\n      <th></th>\n      <th>姓名</th>\n      <th>年龄</th>\n      <th>性别</th>\n    </tr>\n  </thead>\n  <tbody>\n    <tr>\n      <th>0</th>\n      <td>张三</td>\n      <td>23</td>\n      <td>男</td>\n    </tr>\n    <tr>\n      <th>1</th>\n      <td>李四</td>\n      <td>24</td>\n      <td>女</td>\n    </tr>\n    <tr>\n      <th>2</th>\n      <td>王二</td>\n      <td>25</td>\n      <td>女</td>\n    </tr>\n  </tbody>\n</table>\n</div>"
     },
     "execution_count": 54,
     "metadata": {},
     "output_type": "execute_result"
    }
   ],
   "source": [
    "df1 = pd.DataFrame(list1,columns=['姓名','年龄','性别'])\n",
    "df1"
   ],
   "metadata": {
    "collapsed": false,
    "pycharm": {
     "name": "#%%\n"
    }
   }
  },
  {
   "cell_type": "code",
   "execution_count": 57,
   "outputs": [
    {
     "data": {
      "text/plain": "   姓名  年龄 性别\n0  张三  23  男\n1  李四  24  女\n2  王二  25  女",
      "text/html": "<div>\n<style scoped>\n    .dataframe tbody tr th:only-of-type {\n        vertical-align: middle;\n    }\n\n    .dataframe tbody tr th {\n        vertical-align: top;\n    }\n\n    .dataframe thead th {\n        text-align: right;\n    }\n</style>\n<table border=\"1\" class=\"dataframe\">\n  <thead>\n    <tr style=\"text-align: right;\">\n      <th></th>\n      <th>姓名</th>\n      <th>年龄</th>\n      <th>性别</th>\n    </tr>\n  </thead>\n  <tbody>\n    <tr>\n      <th>0</th>\n      <td>张三</td>\n      <td>23</td>\n      <td>男</td>\n    </tr>\n    <tr>\n      <th>1</th>\n      <td>李四</td>\n      <td>24</td>\n      <td>女</td>\n    </tr>\n    <tr>\n      <th>2</th>\n      <td>王二</td>\n      <td>25</td>\n      <td>女</td>\n    </tr>\n  </tbody>\n</table>\n</div>"
     },
     "execution_count": 57,
     "metadata": {},
     "output_type": "execute_result"
    }
   ],
   "source": [
    "df2 = pd.DataFrame({'姓名':['张三','李四','王二'],'年龄':[23,24,25],'性别':['男','女','女']})\n",
    "df2"
   ],
   "metadata": {
    "collapsed": false,
    "pycharm": {
     "name": "#%%\n"
    }
   }
  },
  {
   "cell_type": "code",
   "execution_count": 59,
   "outputs": [
    {
     "data": {
      "text/plain": "array([['张三', '23', '男'],\n       ['李四', '24', '女'],\n       ['王二', '25', '女']], dtype='<U2')"
     },
     "execution_count": 59,
     "metadata": {},
     "output_type": "execute_result"
    }
   ],
   "source": [
    "arr = np.array([['张三',23,'男'],['李四',24,'女'],['王二',25,'女']])\n",
    "arr"
   ],
   "metadata": {
    "collapsed": false,
    "pycharm": {
     "name": "#%%\n"
    }
   }
  },
  {
   "cell_type": "code",
   "execution_count": 62,
   "outputs": [
    {
     "data": {
      "text/plain": "   姓名  年龄 性别\na  张三  23  男\nb  李四  24  女\nc  王二  25  女",
      "text/html": "<div>\n<style scoped>\n    .dataframe tbody tr th:only-of-type {\n        vertical-align: middle;\n    }\n\n    .dataframe tbody tr th {\n        vertical-align: top;\n    }\n\n    .dataframe thead th {\n        text-align: right;\n    }\n</style>\n<table border=\"1\" class=\"dataframe\">\n  <thead>\n    <tr style=\"text-align: right;\">\n      <th></th>\n      <th>姓名</th>\n      <th>年龄</th>\n      <th>性别</th>\n    </tr>\n  </thead>\n  <tbody>\n    <tr>\n      <th>a</th>\n      <td>张三</td>\n      <td>23</td>\n      <td>男</td>\n    </tr>\n    <tr>\n      <th>b</th>\n      <td>李四</td>\n      <td>24</td>\n      <td>女</td>\n    </tr>\n    <tr>\n      <th>c</th>\n      <td>王二</td>\n      <td>25</td>\n      <td>女</td>\n    </tr>\n  </tbody>\n</table>\n</div>"
     },
     "execution_count": 62,
     "metadata": {},
     "output_type": "execute_result"
    }
   ],
   "source": [
    "df3 = pd.DataFrame(arr,columns=['姓名','年龄','性别'],index=['a','b','c'])\n",
    "df3"
   ],
   "metadata": {
    "collapsed": false,
    "pycharm": {
     "name": "#%%\n"
    }
   }
  },
  {
   "cell_type": "code",
   "execution_count": 64,
   "outputs": [
    {
     "data": {
      "text/plain": "array([['张三', 23, '男'],\n       ['李四', 24, '女'],\n       ['王二', 25, '女']], dtype=object)"
     },
     "execution_count": 64,
     "metadata": {},
     "output_type": "execute_result"
    }
   ],
   "source": [
    "df2.values"
   ],
   "metadata": {
    "collapsed": false,
    "pycharm": {
     "name": "#%%\n"
    }
   }
  },
  {
   "cell_type": "code",
   "execution_count": 67,
   "outputs": [
    {
     "data": {
      "text/plain": "(3, 3)"
     },
     "execution_count": 67,
     "metadata": {},
     "output_type": "execute_result"
    }
   ],
   "source": [
    "df2.shape"
   ],
   "metadata": {
    "collapsed": false,
    "pycharm": {
     "name": "#%%\n"
    }
   }
  },
  {
   "cell_type": "code",
   "execution_count": 83,
   "outputs": [
    {
     "data": {
      "text/plain": "[0, 1, 2]"
     },
     "execution_count": 83,
     "metadata": {},
     "output_type": "execute_result"
    }
   ],
   "source": [
    "df2.index.tolist()"
   ],
   "metadata": {
    "collapsed": false,
    "pycharm": {
     "name": "#%%\n"
    }
   }
  },
  {
   "cell_type": "code",
   "execution_count": 74,
   "outputs": [
    {
     "data": {
      "text/plain": "姓名    object\n年龄     int64\n性别    object\ndtype: object"
     },
     "execution_count": 74,
     "metadata": {},
     "output_type": "execute_result"
    }
   ],
   "source": [
    "df2.dtypes"
   ],
   "metadata": {
    "collapsed": false,
    "pycharm": {
     "name": "#%%\n"
    }
   }
  },
  {
   "cell_type": "code",
   "execution_count": 78,
   "outputs": [
    {
     "data": {
      "text/plain": "['姓名', '年龄', '性别']"
     },
     "execution_count": 78,
     "metadata": {},
     "output_type": "execute_result"
    }
   ],
   "source": [
    "df2.columns.tolist()"
   ],
   "metadata": {
    "collapsed": false,
    "pycharm": {
     "name": "#%%\n"
    }
   }
  },
  {
   "cell_type": "code",
   "execution_count": 80,
   "outputs": [
    {
     "data": {
      "text/plain": "2"
     },
     "execution_count": 80,
     "metadata": {},
     "output_type": "execute_result"
    }
   ],
   "source": [
    "df2.ndim"
   ],
   "metadata": {
    "collapsed": false,
    "pycharm": {
     "name": "#%%\n"
    }
   }
  },
  {
   "cell_type": "code",
   "execution_count": 82,
   "outputs": [
    {
     "data": {
      "text/plain": "9"
     },
     "execution_count": 82,
     "metadata": {},
     "output_type": "execute_result"
    }
   ],
   "source": [
    "df2.size"
   ],
   "metadata": {
    "collapsed": false,
    "pycharm": {
     "name": "#%%\n"
    }
   }
  },
  {
   "cell_type": "code",
   "execution_count": 85,
   "outputs": [],
   "source": [
    "import os\n",
    "import pandas as pd"
   ],
   "metadata": {
    "collapsed": false,
    "pycharm": {
     "name": "#%%\n"
    }
   }
  },
  {
   "cell_type": "code",
   "execution_count": 87,
   "outputs": [
    {
     "data": {
      "text/plain": "'C:\\\\Users\\\\jonescy\\\\OneDrive\\\\文档\\\\PycharmProjects\\\\DataAnalysis\\\\Libary\\\\pandas'"
     },
     "execution_count": 87,
     "metadata": {},
     "output_type": "execute_result"
    }
   ],
   "source": [
    "os.getcwd()"
   ],
   "metadata": {
    "collapsed": false,
    "pycharm": {
     "name": "#%%\n"
    }
   }
  },
  {
   "cell_type": "code",
   "execution_count": 89,
   "outputs": [],
   "source": [
    "os.chdir('C:/Users/jonescy/OneDrive/文档/PycharmProjects/DataAnalysis/')"
   ],
   "metadata": {
    "collapsed": false,
    "pycharm": {
     "name": "#%%\n"
    }
   }
  },
  {
   "cell_type": "code",
   "execution_count": 93,
   "outputs": [
    {
     "data": {
      "text/plain": "                                              book_name  \\\n0                     Modern C++ for Absolute Beginners   \n1                      Microservices Security in Action   \n2                               Practical User Research   \n3     Beginning Data Science, IoT, and AI on Single ...   \n4                     Genetic Algorithms in Java Basics   \n...                                                 ...   \n8585  Expert Oracle RAC Performance Diagnostics and ...   \n8586   Expert Oracle Database Architecture, 3rd Edition   \n8587                  Beginning Oracle SQL, 3rd Edition   \n8588                                       Pro Grunt.js   \n8589         Beginning Amazon Web Services with Node.js   \n\n                                               book_url           book_author  \\\n0     http://www.allitebooks.org/modern-c-for-absolu...    Slobodan Dmitrović   \n1     http://www.allitebooks.org/microservices-secur...   Prabath Siriwardena   \n2     http://www.allitebooks.org/practical-user-rese...    Emmanuelle Savarit   \n3     http://www.allitebooks.org/beginning-data-scie...       Philip Meitiner   \n4     http://www.allitebooks.org/genetic-algorithms-...  Pradeeka Seneviratne   \n...                                                 ...                   ...   \n8585  http://www.allitebooks.org/expert-oracle-rac-p...            Brian Ward   \n8586  http://www.allitebooks.org/expert-oracle-datab...        Murali Vallath   \n8587  http://www.allitebooks.org/beginning-oracle-sq...             Darl Kuhn   \n8588           http://www.allitebooks.org/pro-grunt-js/           Thomas Kyte   \n8589  http://www.allitebooks.org/beginning-amazon-we...       Inger Jorgensen   \n\n                                      book_introduction  \n0     Learn the C++ programming language in a struct...  \n1     After a straightforward introduction to the ch...  \n2     Explore how User Research has been influenced ...  \n3     Learn to use technology to undertake data scie...  \n4     Genetic Algorithms in Java Basics is a brief i...  \n...                                                 ...  \n8585  Expert Oracle RAC Performance Diagnostics and ...  \n8586  Now in its third edition, this best-selling bo...  \n8587  Beginning Oracle SQL is your introduction to t...  \n8588  Pro Grunt.js gets you quickly up-to-speed with...  \n8589  Beginning Amazon Web Services with Node.js tea...  \n\n[8590 rows x 4 columns]",
      "text/html": "<div>\n<style scoped>\n    .dataframe tbody tr th:only-of-type {\n        vertical-align: middle;\n    }\n\n    .dataframe tbody tr th {\n        vertical-align: top;\n    }\n\n    .dataframe thead th {\n        text-align: right;\n    }\n</style>\n<table border=\"1\" class=\"dataframe\">\n  <thead>\n    <tr style=\"text-align: right;\">\n      <th></th>\n      <th>book_name</th>\n      <th>book_url</th>\n      <th>book_author</th>\n      <th>book_introduction</th>\n    </tr>\n  </thead>\n  <tbody>\n    <tr>\n      <th>0</th>\n      <td>Modern C++ for Absolute Beginners</td>\n      <td>http://www.allitebooks.org/modern-c-for-absolu...</td>\n      <td>Slobodan Dmitrović</td>\n      <td>Learn the C++ programming language in a struct...</td>\n    </tr>\n    <tr>\n      <th>1</th>\n      <td>Microservices Security in Action</td>\n      <td>http://www.allitebooks.org/microservices-secur...</td>\n      <td>Prabath Siriwardena</td>\n      <td>After a straightforward introduction to the ch...</td>\n    </tr>\n    <tr>\n      <th>2</th>\n      <td>Practical User Research</td>\n      <td>http://www.allitebooks.org/practical-user-rese...</td>\n      <td>Emmanuelle Savarit</td>\n      <td>Explore how User Research has been influenced ...</td>\n    </tr>\n    <tr>\n      <th>3</th>\n      <td>Beginning Data Science, IoT, and AI on Single ...</td>\n      <td>http://www.allitebooks.org/beginning-data-scie...</td>\n      <td>Philip Meitiner</td>\n      <td>Learn to use technology to undertake data scie...</td>\n    </tr>\n    <tr>\n      <th>4</th>\n      <td>Genetic Algorithms in Java Basics</td>\n      <td>http://www.allitebooks.org/genetic-algorithms-...</td>\n      <td>Pradeeka Seneviratne</td>\n      <td>Genetic Algorithms in Java Basics is a brief i...</td>\n    </tr>\n    <tr>\n      <th>...</th>\n      <td>...</td>\n      <td>...</td>\n      <td>...</td>\n      <td>...</td>\n    </tr>\n    <tr>\n      <th>8585</th>\n      <td>Expert Oracle RAC Performance Diagnostics and ...</td>\n      <td>http://www.allitebooks.org/expert-oracle-rac-p...</td>\n      <td>Brian Ward</td>\n      <td>Expert Oracle RAC Performance Diagnostics and ...</td>\n    </tr>\n    <tr>\n      <th>8586</th>\n      <td>Expert Oracle Database Architecture, 3rd Edition</td>\n      <td>http://www.allitebooks.org/expert-oracle-datab...</td>\n      <td>Murali Vallath</td>\n      <td>Now in its third edition, this best-selling bo...</td>\n    </tr>\n    <tr>\n      <th>8587</th>\n      <td>Beginning Oracle SQL, 3rd Edition</td>\n      <td>http://www.allitebooks.org/beginning-oracle-sq...</td>\n      <td>Darl Kuhn</td>\n      <td>Beginning Oracle SQL is your introduction to t...</td>\n    </tr>\n    <tr>\n      <th>8588</th>\n      <td>Pro Grunt.js</td>\n      <td>http://www.allitebooks.org/pro-grunt-js/</td>\n      <td>Thomas Kyte</td>\n      <td>Pro Grunt.js gets you quickly up-to-speed with...</td>\n    </tr>\n    <tr>\n      <th>8589</th>\n      <td>Beginning Amazon Web Services with Node.js</td>\n      <td>http://www.allitebooks.org/beginning-amazon-we...</td>\n      <td>Inger Jorgensen</td>\n      <td>Beginning Amazon Web Services with Node.js tea...</td>\n    </tr>\n  </tbody>\n</table>\n<p>8590 rows × 4 columns</p>\n</div>"
     },
     "execution_count": 93,
     "metadata": {},
     "output_type": "execute_result"
    }
   ],
   "source": [
    "df4 = pd.read_csv('./Libary/numpy/test.csv',encoding='utf-8')\n",
    "df4"
   ],
   "metadata": {
    "collapsed": false,
    "pycharm": {
     "name": "#%%\n"
    }
   }
  },
  {
   "cell_type": "code",
   "execution_count": 95,
   "outputs": [
    {
     "data": {
      "text/plain": "                                           book_name  \\\n0                  Modern C++ for Absolute Beginners   \n1                   Microservices Security in Action   \n2                            Practical User Research   \n3  Beginning Data Science, IoT, and AI on Single ...   \n4                  Genetic Algorithms in Java Basics   \n\n                                            book_url           book_author  \\\n0  http://www.allitebooks.org/modern-c-for-absolu...    Slobodan Dmitrović   \n1  http://www.allitebooks.org/microservices-secur...   Prabath Siriwardena   \n2  http://www.allitebooks.org/practical-user-rese...    Emmanuelle Savarit   \n3  http://www.allitebooks.org/beginning-data-scie...       Philip Meitiner   \n4  http://www.allitebooks.org/genetic-algorithms-...  Pradeeka Seneviratne   \n\n                                   book_introduction  \n0  Learn the C++ programming language in a struct...  \n1  After a straightforward introduction to the ch...  \n2  Explore how User Research has been influenced ...  \n3  Learn to use technology to undertake data scie...  \n4  Genetic Algorithms in Java Basics is a brief i...  ",
      "text/html": "<div>\n<style scoped>\n    .dataframe tbody tr th:only-of-type {\n        vertical-align: middle;\n    }\n\n    .dataframe tbody tr th {\n        vertical-align: top;\n    }\n\n    .dataframe thead th {\n        text-align: right;\n    }\n</style>\n<table border=\"1\" class=\"dataframe\">\n  <thead>\n    <tr style=\"text-align: right;\">\n      <th></th>\n      <th>book_name</th>\n      <th>book_url</th>\n      <th>book_author</th>\n      <th>book_introduction</th>\n    </tr>\n  </thead>\n  <tbody>\n    <tr>\n      <th>0</th>\n      <td>Modern C++ for Absolute Beginners</td>\n      <td>http://www.allitebooks.org/modern-c-for-absolu...</td>\n      <td>Slobodan Dmitrović</td>\n      <td>Learn the C++ programming language in a struct...</td>\n    </tr>\n    <tr>\n      <th>1</th>\n      <td>Microservices Security in Action</td>\n      <td>http://www.allitebooks.org/microservices-secur...</td>\n      <td>Prabath Siriwardena</td>\n      <td>After a straightforward introduction to the ch...</td>\n    </tr>\n    <tr>\n      <th>2</th>\n      <td>Practical User Research</td>\n      <td>http://www.allitebooks.org/practical-user-rese...</td>\n      <td>Emmanuelle Savarit</td>\n      <td>Explore how User Research has been influenced ...</td>\n    </tr>\n    <tr>\n      <th>3</th>\n      <td>Beginning Data Science, IoT, and AI on Single ...</td>\n      <td>http://www.allitebooks.org/beginning-data-scie...</td>\n      <td>Philip Meitiner</td>\n      <td>Learn to use technology to undertake data scie...</td>\n    </tr>\n    <tr>\n      <th>4</th>\n      <td>Genetic Algorithms in Java Basics</td>\n      <td>http://www.allitebooks.org/genetic-algorithms-...</td>\n      <td>Pradeeka Seneviratne</td>\n      <td>Genetic Algorithms in Java Basics is a brief i...</td>\n    </tr>\n  </tbody>\n</table>\n</div>"
     },
     "execution_count": 95,
     "metadata": {},
     "output_type": "execute_result"
    }
   ],
   "source": [
    "df4.head(5)\n",
    "\n"
   ],
   "metadata": {
    "collapsed": false,
    "pycharm": {
     "name": "#%%\n"
    }
   }
  },
  {
   "cell_type": "code",
   "execution_count": 97,
   "outputs": [
    {
     "data": {
      "text/plain": "                                              book_name  \\\n8585  Expert Oracle RAC Performance Diagnostics and ...   \n8586   Expert Oracle Database Architecture, 3rd Edition   \n8587                  Beginning Oracle SQL, 3rd Edition   \n8588                                       Pro Grunt.js   \n8589         Beginning Amazon Web Services with Node.js   \n\n                                               book_url      book_author  \\\n8585  http://www.allitebooks.org/expert-oracle-rac-p...       Brian Ward   \n8586  http://www.allitebooks.org/expert-oracle-datab...   Murali Vallath   \n8587  http://www.allitebooks.org/beginning-oracle-sq...        Darl Kuhn   \n8588           http://www.allitebooks.org/pro-grunt-js/      Thomas Kyte   \n8589  http://www.allitebooks.org/beginning-amazon-we...  Inger Jorgensen   \n\n                                      book_introduction  \n8585  Expert Oracle RAC Performance Diagnostics and ...  \n8586  Now in its third edition, this best-selling bo...  \n8587  Beginning Oracle SQL is your introduction to t...  \n8588  Pro Grunt.js gets you quickly up-to-speed with...  \n8589  Beginning Amazon Web Services with Node.js tea...  ",
      "text/html": "<div>\n<style scoped>\n    .dataframe tbody tr th:only-of-type {\n        vertical-align: middle;\n    }\n\n    .dataframe tbody tr th {\n        vertical-align: top;\n    }\n\n    .dataframe thead th {\n        text-align: right;\n    }\n</style>\n<table border=\"1\" class=\"dataframe\">\n  <thead>\n    <tr style=\"text-align: right;\">\n      <th></th>\n      <th>book_name</th>\n      <th>book_url</th>\n      <th>book_author</th>\n      <th>book_introduction</th>\n    </tr>\n  </thead>\n  <tbody>\n    <tr>\n      <th>8585</th>\n      <td>Expert Oracle RAC Performance Diagnostics and ...</td>\n      <td>http://www.allitebooks.org/expert-oracle-rac-p...</td>\n      <td>Brian Ward</td>\n      <td>Expert Oracle RAC Performance Diagnostics and ...</td>\n    </tr>\n    <tr>\n      <th>8586</th>\n      <td>Expert Oracle Database Architecture, 3rd Edition</td>\n      <td>http://www.allitebooks.org/expert-oracle-datab...</td>\n      <td>Murali Vallath</td>\n      <td>Now in its third edition, this best-selling bo...</td>\n    </tr>\n    <tr>\n      <th>8587</th>\n      <td>Beginning Oracle SQL, 3rd Edition</td>\n      <td>http://www.allitebooks.org/beginning-oracle-sq...</td>\n      <td>Darl Kuhn</td>\n      <td>Beginning Oracle SQL is your introduction to t...</td>\n    </tr>\n    <tr>\n      <th>8588</th>\n      <td>Pro Grunt.js</td>\n      <td>http://www.allitebooks.org/pro-grunt-js/</td>\n      <td>Thomas Kyte</td>\n      <td>Pro Grunt.js gets you quickly up-to-speed with...</td>\n    </tr>\n    <tr>\n      <th>8589</th>\n      <td>Beginning Amazon Web Services with Node.js</td>\n      <td>http://www.allitebooks.org/beginning-amazon-we...</td>\n      <td>Inger Jorgensen</td>\n      <td>Beginning Amazon Web Services with Node.js tea...</td>\n    </tr>\n  </tbody>\n</table>\n</div>"
     },
     "execution_count": 97,
     "metadata": {},
     "output_type": "execute_result"
    }
   ],
   "source": [
    "df4.tail(5)"
   ],
   "metadata": {
    "collapsed": false,
    "pycharm": {
     "name": "#%%\n"
    }
   }
  },
  {
   "cell_type": "code",
   "execution_count": 99,
   "outputs": [
    {
     "data": {
      "text/plain": "book_name            object\nbook_url             object\nbook_author          object\nbook_introduction    object\ndtype: object"
     },
     "execution_count": 99,
     "metadata": {},
     "output_type": "execute_result"
    }
   ],
   "source": [
    "df4.dtypes"
   ],
   "metadata": {
    "collapsed": false,
    "pycharm": {
     "name": "#%%\n"
    }
   }
  },
  {
   "cell_type": "code",
   "execution_count": 100,
   "outputs": [
    {
     "data": {
      "text/plain": "'1.1.2'"
     },
     "execution_count": 100,
     "metadata": {},
     "output_type": "execute_result"
    }
   ],
   "source": [
    "pd.__version__"
   ],
   "metadata": {
    "collapsed": false,
    "pycharm": {
     "name": "#%%\n"
    }
   }
  }
 ],
 "metadata": {
  "kernelspec": {
   "display_name": "Python 3",
   "language": "python",
   "name": "python3"
  },
  "language_info": {
   "codemirror_mode": {
    "name": "ipython",
    "version": 2
   },
   "file_extension": ".py",
   "mimetype": "text/x-python",
   "name": "python",
   "nbconvert_exporter": "python",
   "pygments_lexer": "ipython2",
   "version": "2.7.6"
  }
 },
 "nbformat": 4,
 "nbformat_minor": 0
}