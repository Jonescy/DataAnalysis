{
 "cells": [
  {
   "cell_type": "code",
   "execution_count": null,
   "metadata": {
    "collapsed": true
   },
   "outputs": [],
   "source": [
    "import numpy as np\n",
    "import pandas as pd"
   ]
  },
  {
   "cell_type": "code",
   "execution_count": null,
   "outputs": [],
   "source": [
    "df = pd.read_csv('c://Users//jonescy//Downloads/WHO-COVID-19-global-data.csv')\n",
    "df.info()"
   ],
   "metadata": {
    "collapsed": false,
    "pycharm": {
     "name": "#%%\n"
    }
   }
  },
  {
   "cell_type": "code",
   "execution_count": null,
   "outputs": [],
   "source": [
    "grouped = df.groupby(['Date_reported','Country_code'])"
   ],
   "metadata": {
    "collapsed": false,
    "pycharm": {
     "name": "#%%\n"
    }
   }
  },
  {
   "cell_type": "code",
   "execution_count": null,
   "outputs": [],
   "source": [
    "# grouped.agg([np.max,np.sum])\n",
    "df[df['Country_code']=='US']"
   ],
   "metadata": {
    "collapsed": false,
    "pycharm": {
     "name": "#%%\n"
    }
   }
  },
  {
   "cell_type": "code",
   "execution_count": null,
   "outputs": [],
   "source": [
    "grouped.agg({'Cumulative_cases':[np.max,np.mean],'New_cases':np.sum,'New_deaths':np.sum})\n"
   ],
   "metadata": {
    "collapsed": false,
    "pycharm": {
     "name": "#%%\n"
    }
   }
  },
  {
   "cell_type": "code",
   "execution_count": null,
   "outputs": [],
   "source": [
    "grouped.apply()"
   ],
   "metadata": {
    "collapsed": false,
    "pycharm": {
     "name": "#%%\n"
    }
   }
  },
  {
   "cell_type": "code",
   "execution_count": null,
   "outputs": [],
   "source": [
    "grouped2 = df.groupby('Country_code')\n",
    "grouped2"
   ],
   "metadata": {
    "collapsed": false,
    "pycharm": {
     "name": "#%%\n"
    }
   }
  },
  {
   "cell_type": "code",
   "execution_count": null,
   "outputs": [],
   "source": [
    "country_count = grouped2['Country_code'].count()\n"
   ],
   "metadata": {
    "collapsed": false,
    "pycharm": {
     "name": "#%%\n"
    }
   }
  },
  {
   "cell_type": "code",
   "execution_count": null,
   "outputs": [],
   "source": [
    "country_count['US']"
   ],
   "metadata": {
    "collapsed": false,
    "pycharm": {
     "name": "#%%\n"
    }
   }
  },
  {
   "cell_type": "code",
   "execution_count": null,
   "outputs": [],
   "source": [
    "country_count['CN']"
   ],
   "metadata": {
    "collapsed": false,
    "pycharm": {
     "name": "#%%\n"
    }
   }
  },
  {
   "cell_type": "code",
   "execution_count": null,
   "outputs": [],
   "source": [
    "df2  = df[df['Date_reported'] == '2020-09-16']"
   ],
   "metadata": {
    "collapsed": false,
    "pycharm": {
     "name": "#%%\n"
    }
   }
  },
  {
   "cell_type": "code",
   "execution_count": 127,
   "outputs": [
    {
     "data": {
      "text/plain": "                            New_cases  Cumulative_cases  New_deaths  \\\nDate_reported Country_code                                            \n2020-01-04    CN                    2                 2           0   \n2020-01-05    CN                    0                 2           0   \n2020-01-06    CN                    6                 8           0   \n2020-01-07    CN                    0                 8           0   \n2020-01-08    CN                    0                 8           0   \n...                               ...               ...         ...   \n2020-09-16    YE                    6              4040           0   \n              YT                    0              7082           0   \n              ZA                 1544           1303042         284   \n              ZM                  198             27638           8   \n              ZW                   90             15152           0   \n\n                            Cumulative_deaths  \nDate_reported Country_code                     \n2020-01-04    CN                            0  \n2020-01-05    CN                            0  \n2020-01-06    CN                            0  \n2020-01-07    CN                            0  \n2020-01-08    CN                            0  \n...                                       ...  \n2020-09-16    YE                         1168  \n              YT                           80  \n              ZA                        31282  \n              ZM                          648  \n              ZW                          448  \n\n[41838 rows x 4 columns]",
      "text/html": "<div>\n<style scoped>\n    .dataframe tbody tr th:only-of-type {\n        vertical-align: middle;\n    }\n\n    .dataframe tbody tr th {\n        vertical-align: top;\n    }\n\n    .dataframe thead th {\n        text-align: right;\n    }\n</style>\n<table border=\"1\" class=\"dataframe\">\n  <thead>\n    <tr style=\"text-align: right;\">\n      <th></th>\n      <th></th>\n      <th>New_cases</th>\n      <th>Cumulative_cases</th>\n      <th>New_deaths</th>\n      <th>Cumulative_deaths</th>\n    </tr>\n    <tr>\n      <th>Date_reported</th>\n      <th>Country_code</th>\n      <th></th>\n      <th></th>\n      <th></th>\n      <th></th>\n    </tr>\n  </thead>\n  <tbody>\n    <tr>\n      <th>2020-01-04</th>\n      <th>CN</th>\n      <td>2</td>\n      <td>2</td>\n      <td>0</td>\n      <td>0</td>\n    </tr>\n    <tr>\n      <th>2020-01-05</th>\n      <th>CN</th>\n      <td>0</td>\n      <td>2</td>\n      <td>0</td>\n      <td>0</td>\n    </tr>\n    <tr>\n      <th>2020-01-06</th>\n      <th>CN</th>\n      <td>6</td>\n      <td>8</td>\n      <td>0</td>\n      <td>0</td>\n    </tr>\n    <tr>\n      <th>2020-01-07</th>\n      <th>CN</th>\n      <td>0</td>\n      <td>8</td>\n      <td>0</td>\n      <td>0</td>\n    </tr>\n    <tr>\n      <th>2020-01-08</th>\n      <th>CN</th>\n      <td>0</td>\n      <td>8</td>\n      <td>0</td>\n      <td>0</td>\n    </tr>\n    <tr>\n      <th>...</th>\n      <th>...</th>\n      <td>...</td>\n      <td>...</td>\n      <td>...</td>\n      <td>...</td>\n    </tr>\n    <tr>\n      <th rowspan=\"5\" valign=\"top\">2020-09-16</th>\n      <th>YE</th>\n      <td>6</td>\n      <td>4040</td>\n      <td>0</td>\n      <td>1168</td>\n    </tr>\n    <tr>\n      <th>YT</th>\n      <td>0</td>\n      <td>7082</td>\n      <td>0</td>\n      <td>80</td>\n    </tr>\n    <tr>\n      <th>ZA</th>\n      <td>1544</td>\n      <td>1303042</td>\n      <td>284</td>\n      <td>31282</td>\n    </tr>\n    <tr>\n      <th>ZM</th>\n      <td>198</td>\n      <td>27638</td>\n      <td>8</td>\n      <td>648</td>\n    </tr>\n    <tr>\n      <th>ZW</th>\n      <td>90</td>\n      <td>15152</td>\n      <td>0</td>\n      <td>448</td>\n    </tr>\n  </tbody>\n</table>\n<p>41838 rows × 4 columns</p>\n</div>"
     },
     "execution_count": 127,
     "metadata": {},
     "output_type": "execute_result"
    }
   ],
   "source": [
    "grouped.mean().transform(lambda x:x*2)"
   ],
   "metadata": {
    "collapsed": false,
    "pycharm": {
     "name": "#%%\n"
    }
   }
  },
  {
   "cell_type": "code",
   "execution_count": null,
   "outputs": [],
   "source": [],
   "metadata": {
    "collapsed": false,
    "pycharm": {
     "name": "#%%\n"
    }
   }
  }
 ],
 "metadata": {
  "kernelspec": {
   "display_name": "Python 3",
   "language": "python",
   "name": "python3"
  },
  "language_info": {
   "codemirror_mode": {
    "name": "ipython",
    "version": 2
   },
   "file_extension": ".py",
   "mimetype": "text/x-python",
   "name": "python",
   "nbconvert_exporter": "python",
   "pygments_lexer": "ipython2",
   "version": "2.7.6"
  }
 },
 "nbformat": 4,
 "nbformat_minor": 0
}