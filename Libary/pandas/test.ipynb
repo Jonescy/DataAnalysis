{
 "cells": [
  {
   "cell_type": "code",
   "execution_count": 1,
   "metadata": {
    "collapsed": true
   },
   "outputs": [],
   "source": [
    "import pandas as pd\n",
    "import numpy as np"
   ]
  },
  {
   "cell_type": "code",
   "execution_count": 5,
   "outputs": [
    {
     "ename": "XLRDError",
     "evalue": "Unsupported format, or corrupt file: Expected BOF record; found b',Area,Ac'",
     "output_type": "error",
     "traceback": [
      "\u001B[1;31m---------------------------------------------------------------------------\u001B[0m",
      "\u001B[1;31mXLRDError\u001B[0m                                 Traceback (most recent call last)",
      "\u001B[1;32m<ipython-input-5-a97adfd6dcb1>\u001B[0m in \u001B[0;36m<module>\u001B[1;34m\u001B[0m\n\u001B[0;32m      1\u001B[0m \u001B[1;31m# index_col=[['Area','AccountTotal','AccountFamily','AccountGroup','Population_Total','Male','Female','M/F_Pro(%)','Family_Total','F_Male','F_Female','F_M/F_Pro(%)','Group_Total','G_Male','G_Female','G_M/F_Pro(%)','Avg_Family_Size']],\u001B[0m\u001B[1;33m\u001B[0m\u001B[1;33m\u001B[0m\u001B[1;33m\u001B[0m\u001B[0m\n\u001B[1;32m----> 2\u001B[1;33m \u001B[0mdata\u001B[0m \u001B[1;33m=\u001B[0m \u001B[0mpd\u001B[0m\u001B[1;33m.\u001B[0m\u001B[0mread_excel\u001B[0m\u001B[1;33m(\u001B[0m\u001B[1;34m'各地区户数、人口数和性别比.csv'\u001B[0m\u001B[1;33m)\u001B[0m\u001B[1;33m\u001B[0m\u001B[1;33m\u001B[0m\u001B[0m\n\u001B[0m\u001B[0;32m      3\u001B[0m \u001B[1;33m\u001B[0m\u001B[0m\n",
      "\u001B[1;32mc:\\users\\jonescy\\onedrive\\文档\\pycharmprojects\\dataanalysis\\lib\\site-packages\\pandas\\util\\_decorators.py\u001B[0m in \u001B[0;36mwrapper\u001B[1;34m(*args, **kwargs)\u001B[0m\n\u001B[0;32m    294\u001B[0m                 )\n\u001B[0;32m    295\u001B[0m                 \u001B[0mwarnings\u001B[0m\u001B[1;33m.\u001B[0m\u001B[0mwarn\u001B[0m\u001B[1;33m(\u001B[0m\u001B[0mmsg\u001B[0m\u001B[1;33m,\u001B[0m \u001B[0mFutureWarning\u001B[0m\u001B[1;33m,\u001B[0m \u001B[0mstacklevel\u001B[0m\u001B[1;33m=\u001B[0m\u001B[0mstacklevel\u001B[0m\u001B[1;33m)\u001B[0m\u001B[1;33m\u001B[0m\u001B[1;33m\u001B[0m\u001B[0m\n\u001B[1;32m--> 296\u001B[1;33m             \u001B[1;32mreturn\u001B[0m \u001B[0mfunc\u001B[0m\u001B[1;33m(\u001B[0m\u001B[1;33m*\u001B[0m\u001B[0margs\u001B[0m\u001B[1;33m,\u001B[0m \u001B[1;33m**\u001B[0m\u001B[0mkwargs\u001B[0m\u001B[1;33m)\u001B[0m\u001B[1;33m\u001B[0m\u001B[1;33m\u001B[0m\u001B[0m\n\u001B[0m\u001B[0;32m    297\u001B[0m \u001B[1;33m\u001B[0m\u001B[0m\n\u001B[0;32m    298\u001B[0m         \u001B[1;32mreturn\u001B[0m \u001B[0mwrapper\u001B[0m\u001B[1;33m\u001B[0m\u001B[1;33m\u001B[0m\u001B[0m\n",
      "\u001B[1;32mc:\\users\\jonescy\\onedrive\\文档\\pycharmprojects\\dataanalysis\\lib\\site-packages\\pandas\\io\\excel\\_base.py\u001B[0m in \u001B[0;36mread_excel\u001B[1;34m(io, sheet_name, header, names, index_col, usecols, squeeze, dtype, engine, converters, true_values, false_values, skiprows, nrows, na_values, keep_default_na, na_filter, verbose, parse_dates, date_parser, thousands, comment, skipfooter, convert_float, mangle_dupe_cols)\u001B[0m\n\u001B[0;32m    302\u001B[0m \u001B[1;33m\u001B[0m\u001B[0m\n\u001B[0;32m    303\u001B[0m     \u001B[1;32mif\u001B[0m \u001B[1;32mnot\u001B[0m \u001B[0misinstance\u001B[0m\u001B[1;33m(\u001B[0m\u001B[0mio\u001B[0m\u001B[1;33m,\u001B[0m \u001B[0mExcelFile\u001B[0m\u001B[1;33m)\u001B[0m\u001B[1;33m:\u001B[0m\u001B[1;33m\u001B[0m\u001B[1;33m\u001B[0m\u001B[0m\n\u001B[1;32m--> 304\u001B[1;33m         \u001B[0mio\u001B[0m \u001B[1;33m=\u001B[0m \u001B[0mExcelFile\u001B[0m\u001B[1;33m(\u001B[0m\u001B[0mio\u001B[0m\u001B[1;33m,\u001B[0m \u001B[0mengine\u001B[0m\u001B[1;33m=\u001B[0m\u001B[0mengine\u001B[0m\u001B[1;33m)\u001B[0m\u001B[1;33m\u001B[0m\u001B[1;33m\u001B[0m\u001B[0m\n\u001B[0m\u001B[0;32m    305\u001B[0m     \u001B[1;32melif\u001B[0m \u001B[0mengine\u001B[0m \u001B[1;32mand\u001B[0m \u001B[0mengine\u001B[0m \u001B[1;33m!=\u001B[0m \u001B[0mio\u001B[0m\u001B[1;33m.\u001B[0m\u001B[0mengine\u001B[0m\u001B[1;33m:\u001B[0m\u001B[1;33m\u001B[0m\u001B[1;33m\u001B[0m\u001B[0m\n\u001B[0;32m    306\u001B[0m         raise ValueError(\n",
      "\u001B[1;32mc:\\users\\jonescy\\onedrive\\文档\\pycharmprojects\\dataanalysis\\lib\\site-packages\\pandas\\io\\excel\\_base.py\u001B[0m in \u001B[0;36m__init__\u001B[1;34m(self, path_or_buffer, engine)\u001B[0m\n\u001B[0;32m    865\u001B[0m         \u001B[0mself\u001B[0m\u001B[1;33m.\u001B[0m\u001B[0m_io\u001B[0m \u001B[1;33m=\u001B[0m \u001B[0mstringify_path\u001B[0m\u001B[1;33m(\u001B[0m\u001B[0mpath_or_buffer\u001B[0m\u001B[1;33m)\u001B[0m\u001B[1;33m\u001B[0m\u001B[1;33m\u001B[0m\u001B[0m\n\u001B[0;32m    866\u001B[0m \u001B[1;33m\u001B[0m\u001B[0m\n\u001B[1;32m--> 867\u001B[1;33m         \u001B[0mself\u001B[0m\u001B[1;33m.\u001B[0m\u001B[0m_reader\u001B[0m \u001B[1;33m=\u001B[0m \u001B[0mself\u001B[0m\u001B[1;33m.\u001B[0m\u001B[0m_engines\u001B[0m\u001B[1;33m[\u001B[0m\u001B[0mengine\u001B[0m\u001B[1;33m]\u001B[0m\u001B[1;33m(\u001B[0m\u001B[0mself\u001B[0m\u001B[1;33m.\u001B[0m\u001B[0m_io\u001B[0m\u001B[1;33m)\u001B[0m\u001B[1;33m\u001B[0m\u001B[1;33m\u001B[0m\u001B[0m\n\u001B[0m\u001B[0;32m    868\u001B[0m \u001B[1;33m\u001B[0m\u001B[0m\n\u001B[0;32m    869\u001B[0m     \u001B[1;32mdef\u001B[0m \u001B[0m__fspath__\u001B[0m\u001B[1;33m(\u001B[0m\u001B[0mself\u001B[0m\u001B[1;33m)\u001B[0m\u001B[1;33m:\u001B[0m\u001B[1;33m\u001B[0m\u001B[1;33m\u001B[0m\u001B[0m\n",
      "\u001B[1;32mc:\\users\\jonescy\\onedrive\\文档\\pycharmprojects\\dataanalysis\\lib\\site-packages\\pandas\\io\\excel\\_xlrd.py\u001B[0m in \u001B[0;36m__init__\u001B[1;34m(self, filepath_or_buffer)\u001B[0m\n\u001B[0;32m     20\u001B[0m         \u001B[0merr_msg\u001B[0m \u001B[1;33m=\u001B[0m \u001B[1;34m\"Install xlrd >= 1.0.0 for Excel support\"\u001B[0m\u001B[1;33m\u001B[0m\u001B[1;33m\u001B[0m\u001B[0m\n\u001B[0;32m     21\u001B[0m         \u001B[0mimport_optional_dependency\u001B[0m\u001B[1;33m(\u001B[0m\u001B[1;34m\"xlrd\"\u001B[0m\u001B[1;33m,\u001B[0m \u001B[0mextra\u001B[0m\u001B[1;33m=\u001B[0m\u001B[0merr_msg\u001B[0m\u001B[1;33m)\u001B[0m\u001B[1;33m\u001B[0m\u001B[1;33m\u001B[0m\u001B[0m\n\u001B[1;32m---> 22\u001B[1;33m         \u001B[0msuper\u001B[0m\u001B[1;33m(\u001B[0m\u001B[1;33m)\u001B[0m\u001B[1;33m.\u001B[0m\u001B[0m__init__\u001B[0m\u001B[1;33m(\u001B[0m\u001B[0mfilepath_or_buffer\u001B[0m\u001B[1;33m)\u001B[0m\u001B[1;33m\u001B[0m\u001B[1;33m\u001B[0m\u001B[0m\n\u001B[0m\u001B[0;32m     23\u001B[0m \u001B[1;33m\u001B[0m\u001B[0m\n\u001B[0;32m     24\u001B[0m     \u001B[1;33m@\u001B[0m\u001B[0mproperty\u001B[0m\u001B[1;33m\u001B[0m\u001B[1;33m\u001B[0m\u001B[0m\n",
      "\u001B[1;32mc:\\users\\jonescy\\onedrive\\文档\\pycharmprojects\\dataanalysis\\lib\\site-packages\\pandas\\io\\excel\\_base.py\u001B[0m in \u001B[0;36m__init__\u001B[1;34m(self, filepath_or_buffer)\u001B[0m\n\u001B[0;32m    351\u001B[0m             \u001B[0mself\u001B[0m\u001B[1;33m.\u001B[0m\u001B[0mbook\u001B[0m \u001B[1;33m=\u001B[0m \u001B[0mself\u001B[0m\u001B[1;33m.\u001B[0m\u001B[0mload_workbook\u001B[0m\u001B[1;33m(\u001B[0m\u001B[0mfilepath_or_buffer\u001B[0m\u001B[1;33m)\u001B[0m\u001B[1;33m\u001B[0m\u001B[1;33m\u001B[0m\u001B[0m\n\u001B[0;32m    352\u001B[0m         \u001B[1;32melif\u001B[0m \u001B[0misinstance\u001B[0m\u001B[1;33m(\u001B[0m\u001B[0mfilepath_or_buffer\u001B[0m\u001B[1;33m,\u001B[0m \u001B[0mstr\u001B[0m\u001B[1;33m)\u001B[0m\u001B[1;33m:\u001B[0m\u001B[1;33m\u001B[0m\u001B[1;33m\u001B[0m\u001B[0m\n\u001B[1;32m--> 353\u001B[1;33m             \u001B[0mself\u001B[0m\u001B[1;33m.\u001B[0m\u001B[0mbook\u001B[0m \u001B[1;33m=\u001B[0m \u001B[0mself\u001B[0m\u001B[1;33m.\u001B[0m\u001B[0mload_workbook\u001B[0m\u001B[1;33m(\u001B[0m\u001B[0mfilepath_or_buffer\u001B[0m\u001B[1;33m)\u001B[0m\u001B[1;33m\u001B[0m\u001B[1;33m\u001B[0m\u001B[0m\n\u001B[0m\u001B[0;32m    354\u001B[0m         \u001B[1;32melif\u001B[0m \u001B[0misinstance\u001B[0m\u001B[1;33m(\u001B[0m\u001B[0mfilepath_or_buffer\u001B[0m\u001B[1;33m,\u001B[0m \u001B[0mbytes\u001B[0m\u001B[1;33m)\u001B[0m\u001B[1;33m:\u001B[0m\u001B[1;33m\u001B[0m\u001B[1;33m\u001B[0m\u001B[0m\n\u001B[0;32m    355\u001B[0m             \u001B[0mself\u001B[0m\u001B[1;33m.\u001B[0m\u001B[0mbook\u001B[0m \u001B[1;33m=\u001B[0m \u001B[0mself\u001B[0m\u001B[1;33m.\u001B[0m\u001B[0mload_workbook\u001B[0m\u001B[1;33m(\u001B[0m\u001B[0mBytesIO\u001B[0m\u001B[1;33m(\u001B[0m\u001B[0mfilepath_or_buffer\u001B[0m\u001B[1;33m)\u001B[0m\u001B[1;33m)\u001B[0m\u001B[1;33m\u001B[0m\u001B[1;33m\u001B[0m\u001B[0m\n",
      "\u001B[1;32mc:\\users\\jonescy\\onedrive\\文档\\pycharmprojects\\dataanalysis\\lib\\site-packages\\pandas\\io\\excel\\_xlrd.py\u001B[0m in \u001B[0;36mload_workbook\u001B[1;34m(self, filepath_or_buffer)\u001B[0m\n\u001B[0;32m     35\u001B[0m             \u001B[1;32mreturn\u001B[0m \u001B[0mopen_workbook\u001B[0m\u001B[1;33m(\u001B[0m\u001B[0mfile_contents\u001B[0m\u001B[1;33m=\u001B[0m\u001B[0mdata\u001B[0m\u001B[1;33m)\u001B[0m\u001B[1;33m\u001B[0m\u001B[1;33m\u001B[0m\u001B[0m\n\u001B[0;32m     36\u001B[0m         \u001B[1;32melse\u001B[0m\u001B[1;33m:\u001B[0m\u001B[1;33m\u001B[0m\u001B[1;33m\u001B[0m\u001B[0m\n\u001B[1;32m---> 37\u001B[1;33m             \u001B[1;32mreturn\u001B[0m \u001B[0mopen_workbook\u001B[0m\u001B[1;33m(\u001B[0m\u001B[0mfilepath_or_buffer\u001B[0m\u001B[1;33m)\u001B[0m\u001B[1;33m\u001B[0m\u001B[1;33m\u001B[0m\u001B[0m\n\u001B[0m\u001B[0;32m     38\u001B[0m \u001B[1;33m\u001B[0m\u001B[0m\n\u001B[0;32m     39\u001B[0m     \u001B[1;33m@\u001B[0m\u001B[0mproperty\u001B[0m\u001B[1;33m\u001B[0m\u001B[1;33m\u001B[0m\u001B[0m\n",
      "\u001B[1;32mc:\\users\\jonescy\\onedrive\\文档\\pycharmprojects\\dataanalysis\\lib\\site-packages\\xlrd\\__init__.py\u001B[0m in \u001B[0;36mopen_workbook\u001B[1;34m(filename, logfile, verbosity, use_mmap, file_contents, encoding_override, formatting_info, on_demand, ragged_rows)\u001B[0m\n\u001B[0;32m    155\u001B[0m         \u001B[0mformatting_info\u001B[0m\u001B[1;33m=\u001B[0m\u001B[0mformatting_info\u001B[0m\u001B[1;33m,\u001B[0m\u001B[1;33m\u001B[0m\u001B[1;33m\u001B[0m\u001B[0m\n\u001B[0;32m    156\u001B[0m         \u001B[0mon_demand\u001B[0m\u001B[1;33m=\u001B[0m\u001B[0mon_demand\u001B[0m\u001B[1;33m,\u001B[0m\u001B[1;33m\u001B[0m\u001B[1;33m\u001B[0m\u001B[0m\n\u001B[1;32m--> 157\u001B[1;33m         \u001B[0mragged_rows\u001B[0m\u001B[1;33m=\u001B[0m\u001B[0mragged_rows\u001B[0m\u001B[1;33m,\u001B[0m\u001B[1;33m\u001B[0m\u001B[1;33m\u001B[0m\u001B[0m\n\u001B[0m\u001B[0;32m    158\u001B[0m     )\n\u001B[0;32m    159\u001B[0m     \u001B[1;32mreturn\u001B[0m \u001B[0mbk\u001B[0m\u001B[1;33m\u001B[0m\u001B[1;33m\u001B[0m\u001B[0m\n",
      "\u001B[1;32mc:\\users\\jonescy\\onedrive\\文档\\pycharmprojects\\dataanalysis\\lib\\site-packages\\xlrd\\book.py\u001B[0m in \u001B[0;36mopen_workbook_xls\u001B[1;34m(filename, logfile, verbosity, use_mmap, file_contents, encoding_override, formatting_info, on_demand, ragged_rows)\u001B[0m\n\u001B[0;32m     90\u001B[0m         \u001B[0mt1\u001B[0m \u001B[1;33m=\u001B[0m \u001B[0mperf_counter\u001B[0m\u001B[1;33m(\u001B[0m\u001B[1;33m)\u001B[0m\u001B[1;33m\u001B[0m\u001B[1;33m\u001B[0m\u001B[0m\n\u001B[0;32m     91\u001B[0m         \u001B[0mbk\u001B[0m\u001B[1;33m.\u001B[0m\u001B[0mload_time_stage_1\u001B[0m \u001B[1;33m=\u001B[0m \u001B[0mt1\u001B[0m \u001B[1;33m-\u001B[0m \u001B[0mt0\u001B[0m\u001B[1;33m\u001B[0m\u001B[1;33m\u001B[0m\u001B[0m\n\u001B[1;32m---> 92\u001B[1;33m         \u001B[0mbiff_version\u001B[0m \u001B[1;33m=\u001B[0m \u001B[0mbk\u001B[0m\u001B[1;33m.\u001B[0m\u001B[0mgetbof\u001B[0m\u001B[1;33m(\u001B[0m\u001B[0mXL_WORKBOOK_GLOBALS\u001B[0m\u001B[1;33m)\u001B[0m\u001B[1;33m\u001B[0m\u001B[1;33m\u001B[0m\u001B[0m\n\u001B[0m\u001B[0;32m     93\u001B[0m         \u001B[1;32mif\u001B[0m \u001B[1;32mnot\u001B[0m \u001B[0mbiff_version\u001B[0m\u001B[1;33m:\u001B[0m\u001B[1;33m\u001B[0m\u001B[1;33m\u001B[0m\u001B[0m\n\u001B[0;32m     94\u001B[0m             \u001B[1;32mraise\u001B[0m \u001B[0mXLRDError\u001B[0m\u001B[1;33m(\u001B[0m\u001B[1;34m\"Can't determine file's BIFF version\"\u001B[0m\u001B[1;33m)\u001B[0m\u001B[1;33m\u001B[0m\u001B[1;33m\u001B[0m\u001B[0m\n",
      "\u001B[1;32mc:\\users\\jonescy\\onedrive\\文档\\pycharmprojects\\dataanalysis\\lib\\site-packages\\xlrd\\book.py\u001B[0m in \u001B[0;36mgetbof\u001B[1;34m(self, rqd_stream)\u001B[0m\n\u001B[0;32m   1276\u001B[0m             \u001B[0mbof_error\u001B[0m\u001B[1;33m(\u001B[0m\u001B[1;34m'Expected BOF record; met end of file'\u001B[0m\u001B[1;33m)\u001B[0m\u001B[1;33m\u001B[0m\u001B[1;33m\u001B[0m\u001B[0m\n\u001B[0;32m   1277\u001B[0m         \u001B[1;32mif\u001B[0m \u001B[0mopcode\u001B[0m \u001B[1;32mnot\u001B[0m \u001B[1;32min\u001B[0m \u001B[0mbofcodes\u001B[0m\u001B[1;33m:\u001B[0m\u001B[1;33m\u001B[0m\u001B[1;33m\u001B[0m\u001B[0m\n\u001B[1;32m-> 1278\u001B[1;33m             \u001B[0mbof_error\u001B[0m\u001B[1;33m(\u001B[0m\u001B[1;34m'Expected BOF record; found %r'\u001B[0m \u001B[1;33m%\u001B[0m \u001B[0mself\u001B[0m\u001B[1;33m.\u001B[0m\u001B[0mmem\u001B[0m\u001B[1;33m[\u001B[0m\u001B[0msavpos\u001B[0m\u001B[1;33m:\u001B[0m\u001B[0msavpos\u001B[0m\u001B[1;33m+\u001B[0m\u001B[1;36m8\u001B[0m\u001B[1;33m]\u001B[0m\u001B[1;33m)\u001B[0m\u001B[1;33m\u001B[0m\u001B[1;33m\u001B[0m\u001B[0m\n\u001B[0m\u001B[0;32m   1279\u001B[0m         \u001B[0mlength\u001B[0m \u001B[1;33m=\u001B[0m \u001B[0mself\u001B[0m\u001B[1;33m.\u001B[0m\u001B[0mget2bytes\u001B[0m\u001B[1;33m(\u001B[0m\u001B[1;33m)\u001B[0m\u001B[1;33m\u001B[0m\u001B[1;33m\u001B[0m\u001B[0m\n\u001B[0;32m   1280\u001B[0m         \u001B[1;32mif\u001B[0m \u001B[0mlength\u001B[0m \u001B[1;33m==\u001B[0m \u001B[0mMY_EOF\u001B[0m\u001B[1;33m:\u001B[0m\u001B[1;33m\u001B[0m\u001B[1;33m\u001B[0m\u001B[0m\n",
      "\u001B[1;32mc:\\users\\jonescy\\onedrive\\文档\\pycharmprojects\\dataanalysis\\lib\\site-packages\\xlrd\\book.py\u001B[0m in \u001B[0;36mbof_error\u001B[1;34m(msg)\u001B[0m\n\u001B[0;32m   1270\u001B[0m \u001B[1;33m\u001B[0m\u001B[0m\n\u001B[0;32m   1271\u001B[0m         \u001B[1;32mdef\u001B[0m \u001B[0mbof_error\u001B[0m\u001B[1;33m(\u001B[0m\u001B[0mmsg\u001B[0m\u001B[1;33m)\u001B[0m\u001B[1;33m:\u001B[0m\u001B[1;33m\u001B[0m\u001B[1;33m\u001B[0m\u001B[0m\n\u001B[1;32m-> 1272\u001B[1;33m             \u001B[1;32mraise\u001B[0m \u001B[0mXLRDError\u001B[0m\u001B[1;33m(\u001B[0m\u001B[1;34m'Unsupported format, or corrupt file: '\u001B[0m \u001B[1;33m+\u001B[0m \u001B[0mmsg\u001B[0m\u001B[1;33m)\u001B[0m\u001B[1;33m\u001B[0m\u001B[1;33m\u001B[0m\u001B[0m\n\u001B[0m\u001B[0;32m   1273\u001B[0m         \u001B[0msavpos\u001B[0m \u001B[1;33m=\u001B[0m \u001B[0mself\u001B[0m\u001B[1;33m.\u001B[0m\u001B[0m_position\u001B[0m\u001B[1;33m\u001B[0m\u001B[1;33m\u001B[0m\u001B[0m\n\u001B[0;32m   1274\u001B[0m         \u001B[0mopcode\u001B[0m \u001B[1;33m=\u001B[0m \u001B[0mself\u001B[0m\u001B[1;33m.\u001B[0m\u001B[0mget2bytes\u001B[0m\u001B[1;33m(\u001B[0m\u001B[1;33m)\u001B[0m\u001B[1;33m\u001B[0m\u001B[1;33m\u001B[0m\u001B[0m\n",
      "\u001B[1;31mXLRDError\u001B[0m: Unsupported format, or corrupt file: Expected BOF record; found b',Area,Ac'"
     ]
    }
   ],
   "source": [
    "# index_col=[['Area','AccountTotal','AccountFamily','AccountGroup','Population_Total','Male','Female','M/F_Pro(%)','Family_Total','F_Male','F_Female','F_M/F_Pro(%)','Group_Total','G_Male','G_Female','G_M/F_Pro(%)','Avg_Family_Size']],\n",
    "data = pd.read_excel('各地区户数、人口数和性别比.csv')"
   ],
   "metadata": {
    "collapsed": false,
    "pycharm": {
     "name": "#%%\n"
    }
   }
  },
  {
   "cell_type": "code",
   "execution_count": 50,
   "outputs": [
    {
     "data": {
      "text/plain": "   全    国  417722698  401934196  15788502  1332810869  682329104  650481765  \\\n0  北    京    7355291    6680552    674739    19612368   10126430    9485938   \n1  天    津    3963604    3661992    301612    12938693    6907091    6031602   \n2  河    北   20813492   20395116    418376    71854210   36430286   35423924   \n3  山    西   10654162   10330207    323955    35712101   18338760   17373341   \n4   内 蒙 古    8470472    8205498    264974    24706291   12838243   11868048   \n\n    104.9  1239981250  627410399  612570851  102.42  92829619  54918705  \\\n0  106.75    16389723    8173161    8216562   99.47   3222645   1953269   \n1  114.52    10262186    5129604    5132582   99.94   2676507   1777487   \n2  102.84    68538709   34552649   33986060  101.67   3315501   1877637   \n3  105.56    33484131   16988087   16496044  102.98   2227970   1350673   \n4  108.17    23071690   11725291   11346399  103.34   1634601   1112952   \n\n   37910914  144.86  3.09  \n0   1269376  153.88  2.45  \n1    899020  197.71  2.80  \n2   1437864  130.59  3.36  \n3    877297  153.96  3.24  \n4    521649  213.35  2.81  ",
      "text/html": "<div>\n<style scoped>\n    .dataframe tbody tr th:only-of-type {\n        vertical-align: middle;\n    }\n\n    .dataframe tbody tr th {\n        vertical-align: top;\n    }\n\n    .dataframe thead th {\n        text-align: right;\n    }\n</style>\n<table border=\"1\" class=\"dataframe\">\n  <thead>\n    <tr style=\"text-align: right;\">\n      <th></th>\n      <th>全    国</th>\n      <th>417722698</th>\n      <th>401934196</th>\n      <th>15788502</th>\n      <th>1332810869</th>\n      <th>682329104</th>\n      <th>650481765</th>\n      <th>104.9</th>\n      <th>1239981250</th>\n      <th>627410399</th>\n      <th>612570851</th>\n      <th>102.42</th>\n      <th>92829619</th>\n      <th>54918705</th>\n      <th>37910914</th>\n      <th>144.86</th>\n      <th>3.09</th>\n    </tr>\n  </thead>\n  <tbody>\n    <tr>\n      <th>0</th>\n      <td>北    京</td>\n      <td>7355291</td>\n      <td>6680552</td>\n      <td>674739</td>\n      <td>19612368</td>\n      <td>10126430</td>\n      <td>9485938</td>\n      <td>106.75</td>\n      <td>16389723</td>\n      <td>8173161</td>\n      <td>8216562</td>\n      <td>99.47</td>\n      <td>3222645</td>\n      <td>1953269</td>\n      <td>1269376</td>\n      <td>153.88</td>\n      <td>2.45</td>\n    </tr>\n    <tr>\n      <th>1</th>\n      <td>天    津</td>\n      <td>3963604</td>\n      <td>3661992</td>\n      <td>301612</td>\n      <td>12938693</td>\n      <td>6907091</td>\n      <td>6031602</td>\n      <td>114.52</td>\n      <td>10262186</td>\n      <td>5129604</td>\n      <td>5132582</td>\n      <td>99.94</td>\n      <td>2676507</td>\n      <td>1777487</td>\n      <td>899020</td>\n      <td>197.71</td>\n      <td>2.80</td>\n    </tr>\n    <tr>\n      <th>2</th>\n      <td>河    北</td>\n      <td>20813492</td>\n      <td>20395116</td>\n      <td>418376</td>\n      <td>71854210</td>\n      <td>36430286</td>\n      <td>35423924</td>\n      <td>102.84</td>\n      <td>68538709</td>\n      <td>34552649</td>\n      <td>33986060</td>\n      <td>101.67</td>\n      <td>3315501</td>\n      <td>1877637</td>\n      <td>1437864</td>\n      <td>130.59</td>\n      <td>3.36</td>\n    </tr>\n    <tr>\n      <th>3</th>\n      <td>山    西</td>\n      <td>10654162</td>\n      <td>10330207</td>\n      <td>323955</td>\n      <td>35712101</td>\n      <td>18338760</td>\n      <td>17373341</td>\n      <td>105.56</td>\n      <td>33484131</td>\n      <td>16988087</td>\n      <td>16496044</td>\n      <td>102.98</td>\n      <td>2227970</td>\n      <td>1350673</td>\n      <td>877297</td>\n      <td>153.96</td>\n      <td>3.24</td>\n    </tr>\n    <tr>\n      <th>4</th>\n      <td>内 蒙 古</td>\n      <td>8470472</td>\n      <td>8205498</td>\n      <td>264974</td>\n      <td>24706291</td>\n      <td>12838243</td>\n      <td>11868048</td>\n      <td>108.17</td>\n      <td>23071690</td>\n      <td>11725291</td>\n      <td>11346399</td>\n      <td>103.34</td>\n      <td>1634601</td>\n      <td>1112952</td>\n      <td>521649</td>\n      <td>213.35</td>\n      <td>2.81</td>\n    </tr>\n  </tbody>\n</table>\n</div>"
     },
     "execution_count": 50,
     "metadata": {},
     "output_type": "execute_result"
    }
   ],
   "source": [
    "data.head(5)"
   ],
   "metadata": {
    "collapsed": false,
    "pycharm": {
     "name": "#%%\n"
    }
   }
  },
  {
   "cell_type": "code",
   "execution_count": 11,
   "outputs": [
    {
     "data": {
      "text/plain": "(38, 17)"
     },
     "execution_count": 11,
     "metadata": {},
     "output_type": "execute_result"
    }
   ],
   "source": [
    "data.shape"
   ],
   "metadata": {
    "collapsed": false,
    "pycharm": {
     "name": "#%%\n"
    }
   }
  },
  {
   "cell_type": "code",
   "execution_count": 14,
   "outputs": [
    {
     "data": {
      "text/plain": "   1-1  各地区户数、人口数和性别比   Unnamed: 1 Unnamed: 2 Unnamed: 3  \\\n0                 NaN          NaN        NaN        NaN   \n1                 NaN       单位：户、人        NaN        NaN   \n2              地    区    户       数        NaN        NaN   \n3                 NaN           合计       家庭户         集体户   \n4                 NaN          NaN        NaN        NaN   \n5                 NaN          NaN        NaN        NaN   \n6              全    国    417722698  401934196   15788502   \n7              北    京      7355291    6680552     674739   \n8              天    津      3963604    3661992     301612   \n9              河    北     20813492   20395116     418376   \n10             山    西     10654162   10330207     323955   \n11              内 蒙 古      8470472    8205498     264974   \n12             辽    宁     15334912   14994046     340866   \n13             吉    林      9162183    8998492     163691   \n14              黑 龙 江     13192935   13000088     192847   \n15             上    海      8893483    8253257     640226   \n16             江    苏     25635291   24381782    1253509   \n17             浙    江     20060115   18854021    1206094   \n18             安    徽     19322432   18861956     460476   \n19             福    建     11971873   11206317     765556   \n20             江    西     11847841   11542527     305314   \n21             山    东     30794664   30105454     689210   \n22             河    南     26404973   25928729     476244   \n23             湖    北     17253385   16695121     558264   \n24             湖    南     19029894   18625710     404184   \n25             广    东     32222752   28630609    3592143   \n26             广    西     13467663   13151404     316259   \n27             海    南      2451819    2331149     120670   \n28             重    庆     10272559   10000965     271594   \n29             四    川     26383458   25794161     589297   \n30             贵    州     10745630   10558461     187169   \n31             云    南     12695396   12339961     355435   \n32             西    藏       689521     670838      18683   \n33             陕    西     11084516   10718563     365953   \n34             甘    肃      7113833    6900369     213464   \n35             青    海      1586635    1529039      57596   \n36             宁    夏      1945064    1882205      62859   \n37             新    疆      6902850    6705607     197243   \n\n                 Unnamed: 4 Unnamed: 5 Unnamed: 6 Unnamed: 7     Unnamed: 8  \\\n0                       NaN        NaN        NaN        NaN            NaN   \n1                       NaN        NaN        NaN        NaN            NaN   \n2   人          口          数        NaN        NaN        NaN            NaN   \n3              合          计        NaN        NaN        NaN  家     庭     户   \n4                        合计          男          女        性别比             小计   \n5                       NaN        NaN        NaN    (女=100)            NaN   \n6                1332810869  682329104  650481765      104.9     1239981250   \n7                  19612368   10126430    9485938     106.75       16389723   \n8                  12938693    6907091    6031602     114.52       10262186   \n9                  71854210   36430286   35423924     102.84       68538709   \n10                 35712101   18338760   17373341     105.56       33484131   \n11                 24706291   12838243   11868048     108.17       23071690   \n12                 43746323   22147745   21598578     102.54       41755874   \n13                 27452815   13907218   13545597     102.67       26457769   \n14                 38313991   19426106   18887885     102.85       36884039   \n15                 23019196   11854916   11164280     106.19       20593430   \n16                 78660941   39626707   39034234     101.52       71685839   \n17                 54426891   27965641   26461250     105.69       49425543   \n18                 59500468   30245513   29254955     103.39       56493891   \n19                 36894217   18981054   17913163     105.96       33397663   \n20                 44567797   23003521   21564276     106.67       42181417   \n21                 95792719   48446944   47345775     102.33       89855501   \n22                 94029939   47493063   46536876     102.05       90028072   \n23                 57237727   29391247   27846480     105.55       52745625   \n24                 65700762   33776459   31924303      105.8       61911446   \n25                104320459   54400538   49919921     108.98       88979305   \n26                 46023761   23924704   22099057     108.26       43970320   \n27                  8671485    4592283    4079202     112.58        8060519   \n28                 28846170   14608870   14237300     102.61       26994017   \n29                 80417528   40827834   39589694     103.13       76207174   \n30                 34748556   17905471   16843085     106.31       33571308   \n31                 45966766   23856696   22110070      107.9       43626674   \n32                  3002165    1542652    1459513      105.7        2837769   \n33                 37327379   19287575   18039804     106.92       34462115   \n34                 25575263   13064193   12511070     104.42       24052594   \n35                  5626723    2913793    2712930      107.4        5284525   \n36                  6301350    3227404    3073946     104.99        5970133   \n37                 21815815   11270147   10545668     106.87       20802249   \n\n   Unnamed: 9 Unnamed: 10 Unnamed: 11    Unnamed: 12 Unnamed: 13 Unnamed: 14  \\\n0         NaN         NaN         NaN            NaN         NaN         NaN   \n1         NaN         NaN         NaN            NaN         NaN         NaN   \n2         NaN         NaN         NaN            NaN         NaN         NaN   \n3         NaN         NaN         NaN  集     体     户         NaN         NaN   \n4           男           女         性别比             小计           男           女   \n5         NaN         NaN     (女=100)            NaN         NaN         NaN   \n6   627410399   612570851      102.42       92829619    54918705    37910914   \n7     8173161     8216562       99.47        3222645     1953269     1269376   \n8     5129604     5132582       99.94        2676507     1777487      899020   \n9    34552649    33986060      101.67        3315501     1877637     1437864   \n10   16988087    16496044      102.98        2227970     1350673      877297   \n11   11725291    11346399      103.34        1634601     1112952      521649   \n12   20956756    20799118      100.76        1990449     1190989      799460   \n13   13358390    13099379      101.98         995046      548828      446218   \n14   18603181    18280858      101.76        1429952      822925      607027   \n15   10318168    10275262      100.42        2425766     1536748      889018   \n16   35542124    36143715       98.34        6975102     4084583     2890519   \n17   25037320    24388223      102.66        5001348     2928321     2073027   \n18   28462853    28031038      101.54        3006577     1782660     1223917   \n19   16901083    16496580      102.45        3496554     2079971     1416583   \n20   21600070    20581347      104.95        2386380     1403451      982929   \n21   45023357    44832144      100.43        5937218     3423587     2513631   \n22   45262137    44765935      101.11        4001867     2230926     1770941   \n23   26826301    25919324       103.5        4492102     2564946     1927156   \n24   31611459    30299987      104.33        3789316     2165000     1624316   \n25   45465958    43513347      104.49       15341154     8934580     6406574   \n26   22733969    21236351      107.05        2053441     1190735      862706   \n27    4231490     3829029      110.51         610966      360793      250173   \n28   13542424    13451593      100.68        1852153     1066446      785707   \n29   38380622    37826552      101.46        4210354     2447212     1763142   \n30   17153547    16417761      104.48        1177248      751924      425324   \n31   22391253    21235421      105.44        2340092     1465443      874649   \n32    1429541     1408228      101.51         164396      113111       51285   \n33   17556257    16905858      103.85        2865264     1731318     1133946   \n34   12141360    11911234      101.93        1522669      922833      599836   \n35    2675766     2608759      102.57         342198      238027      104171   \n36    3015722     2954411      102.08         331217      211682      119535   \n37   10620499    10181750      104.31        1013566      649648      363918   \n\n   Unnamed: 15 Unnamed: 16  \n0          NaN         NaN  \n1          NaN         NaN  \n2          NaN        平均家庭  \n3          NaN         户规模  \n4          性别比         NaN  \n5      (女=100)       （人/户）  \n6       144.86        3.09  \n7       153.88        2.45  \n8       197.71         2.8  \n9       130.59        3.36  \n10      153.96        3.24  \n11      213.35        2.81  \n12      148.97        2.78  \n13         123        2.94  \n14      135.57        2.84  \n15      172.86         2.5  \n16      141.31        2.94  \n17      141.26        2.62  \n18      145.65           3  \n19      146.83        2.98  \n20      142.78        3.65  \n21       136.2        2.98  \n22      125.97        3.47  \n23      133.09        3.16  \n24      133.29        3.32  \n25      139.46        3.11  \n26      138.02        3.34  \n27      144.22        3.46  \n28      135.73         2.7  \n29       138.8        2.95  \n30      176.79        3.18  \n31      167.55        3.54  \n32      220.55        4.23  \n33      152.68        3.22  \n34      153.85        3.49  \n35       228.5        3.46  \n36      177.09        3.17  \n37      178.51         3.1  ",
      "text/html": "<div>\n<style scoped>\n    .dataframe tbody tr th:only-of-type {\n        vertical-align: middle;\n    }\n\n    .dataframe tbody tr th {\n        vertical-align: top;\n    }\n\n    .dataframe thead th {\n        text-align: right;\n    }\n</style>\n<table border=\"1\" class=\"dataframe\">\n  <thead>\n    <tr style=\"text-align: right;\">\n      <th></th>\n      <th>1-1  各地区户数、人口数和性别比</th>\n      <th>Unnamed: 1</th>\n      <th>Unnamed: 2</th>\n      <th>Unnamed: 3</th>\n      <th>Unnamed: 4</th>\n      <th>Unnamed: 5</th>\n      <th>Unnamed: 6</th>\n      <th>Unnamed: 7</th>\n      <th>Unnamed: 8</th>\n      <th>Unnamed: 9</th>\n      <th>Unnamed: 10</th>\n      <th>Unnamed: 11</th>\n      <th>Unnamed: 12</th>\n      <th>Unnamed: 13</th>\n      <th>Unnamed: 14</th>\n      <th>Unnamed: 15</th>\n      <th>Unnamed: 16</th>\n    </tr>\n  </thead>\n  <tbody>\n    <tr>\n      <th>0</th>\n      <td>NaN</td>\n      <td>NaN</td>\n      <td>NaN</td>\n      <td>NaN</td>\n      <td>NaN</td>\n      <td>NaN</td>\n      <td>NaN</td>\n      <td>NaN</td>\n      <td>NaN</td>\n      <td>NaN</td>\n      <td>NaN</td>\n      <td>NaN</td>\n      <td>NaN</td>\n      <td>NaN</td>\n      <td>NaN</td>\n      <td>NaN</td>\n      <td>NaN</td>\n    </tr>\n    <tr>\n      <th>1</th>\n      <td>NaN</td>\n      <td>单位：户、人</td>\n      <td>NaN</td>\n      <td>NaN</td>\n      <td>NaN</td>\n      <td>NaN</td>\n      <td>NaN</td>\n      <td>NaN</td>\n      <td>NaN</td>\n      <td>NaN</td>\n      <td>NaN</td>\n      <td>NaN</td>\n      <td>NaN</td>\n      <td>NaN</td>\n      <td>NaN</td>\n      <td>NaN</td>\n      <td>NaN</td>\n    </tr>\n    <tr>\n      <th>2</th>\n      <td>地    区</td>\n      <td>户       数</td>\n      <td>NaN</td>\n      <td>NaN</td>\n      <td>人          口          数</td>\n      <td>NaN</td>\n      <td>NaN</td>\n      <td>NaN</td>\n      <td>NaN</td>\n      <td>NaN</td>\n      <td>NaN</td>\n      <td>NaN</td>\n      <td>NaN</td>\n      <td>NaN</td>\n      <td>NaN</td>\n      <td>NaN</td>\n      <td>平均家庭</td>\n    </tr>\n    <tr>\n      <th>3</th>\n      <td>NaN</td>\n      <td>合计</td>\n      <td>家庭户</td>\n      <td>集体户</td>\n      <td>合          计</td>\n      <td>NaN</td>\n      <td>NaN</td>\n      <td>NaN</td>\n      <td>家     庭     户</td>\n      <td>NaN</td>\n      <td>NaN</td>\n      <td>NaN</td>\n      <td>集     体     户</td>\n      <td>NaN</td>\n      <td>NaN</td>\n      <td>NaN</td>\n      <td>户规模</td>\n    </tr>\n    <tr>\n      <th>4</th>\n      <td>NaN</td>\n      <td>NaN</td>\n      <td>NaN</td>\n      <td>NaN</td>\n      <td>合计</td>\n      <td>男</td>\n      <td>女</td>\n      <td>性别比</td>\n      <td>小计</td>\n      <td>男</td>\n      <td>女</td>\n      <td>性别比</td>\n      <td>小计</td>\n      <td>男</td>\n      <td>女</td>\n      <td>性别比</td>\n      <td>NaN</td>\n    </tr>\n    <tr>\n      <th>5</th>\n      <td>NaN</td>\n      <td>NaN</td>\n      <td>NaN</td>\n      <td>NaN</td>\n      <td>NaN</td>\n      <td>NaN</td>\n      <td>NaN</td>\n      <td>(女=100)</td>\n      <td>NaN</td>\n      <td>NaN</td>\n      <td>NaN</td>\n      <td>(女=100)</td>\n      <td>NaN</td>\n      <td>NaN</td>\n      <td>NaN</td>\n      <td>(女=100)</td>\n      <td>（人/户）</td>\n    </tr>\n    <tr>\n      <th>6</th>\n      <td>全    国</td>\n      <td>417722698</td>\n      <td>401934196</td>\n      <td>15788502</td>\n      <td>1332810869</td>\n      <td>682329104</td>\n      <td>650481765</td>\n      <td>104.9</td>\n      <td>1239981250</td>\n      <td>627410399</td>\n      <td>612570851</td>\n      <td>102.42</td>\n      <td>92829619</td>\n      <td>54918705</td>\n      <td>37910914</td>\n      <td>144.86</td>\n      <td>3.09</td>\n    </tr>\n    <tr>\n      <th>7</th>\n      <td>北    京</td>\n      <td>7355291</td>\n      <td>6680552</td>\n      <td>674739</td>\n      <td>19612368</td>\n      <td>10126430</td>\n      <td>9485938</td>\n      <td>106.75</td>\n      <td>16389723</td>\n      <td>8173161</td>\n      <td>8216562</td>\n      <td>99.47</td>\n      <td>3222645</td>\n      <td>1953269</td>\n      <td>1269376</td>\n      <td>153.88</td>\n      <td>2.45</td>\n    </tr>\n    <tr>\n      <th>8</th>\n      <td>天    津</td>\n      <td>3963604</td>\n      <td>3661992</td>\n      <td>301612</td>\n      <td>12938693</td>\n      <td>6907091</td>\n      <td>6031602</td>\n      <td>114.52</td>\n      <td>10262186</td>\n      <td>5129604</td>\n      <td>5132582</td>\n      <td>99.94</td>\n      <td>2676507</td>\n      <td>1777487</td>\n      <td>899020</td>\n      <td>197.71</td>\n      <td>2.8</td>\n    </tr>\n    <tr>\n      <th>9</th>\n      <td>河    北</td>\n      <td>20813492</td>\n      <td>20395116</td>\n      <td>418376</td>\n      <td>71854210</td>\n      <td>36430286</td>\n      <td>35423924</td>\n      <td>102.84</td>\n      <td>68538709</td>\n      <td>34552649</td>\n      <td>33986060</td>\n      <td>101.67</td>\n      <td>3315501</td>\n      <td>1877637</td>\n      <td>1437864</td>\n      <td>130.59</td>\n      <td>3.36</td>\n    </tr>\n    <tr>\n      <th>10</th>\n      <td>山    西</td>\n      <td>10654162</td>\n      <td>10330207</td>\n      <td>323955</td>\n      <td>35712101</td>\n      <td>18338760</td>\n      <td>17373341</td>\n      <td>105.56</td>\n      <td>33484131</td>\n      <td>16988087</td>\n      <td>16496044</td>\n      <td>102.98</td>\n      <td>2227970</td>\n      <td>1350673</td>\n      <td>877297</td>\n      <td>153.96</td>\n      <td>3.24</td>\n    </tr>\n    <tr>\n      <th>11</th>\n      <td>内 蒙 古</td>\n      <td>8470472</td>\n      <td>8205498</td>\n      <td>264974</td>\n      <td>24706291</td>\n      <td>12838243</td>\n      <td>11868048</td>\n      <td>108.17</td>\n      <td>23071690</td>\n      <td>11725291</td>\n      <td>11346399</td>\n      <td>103.34</td>\n      <td>1634601</td>\n      <td>1112952</td>\n      <td>521649</td>\n      <td>213.35</td>\n      <td>2.81</td>\n    </tr>\n    <tr>\n      <th>12</th>\n      <td>辽    宁</td>\n      <td>15334912</td>\n      <td>14994046</td>\n      <td>340866</td>\n      <td>43746323</td>\n      <td>22147745</td>\n      <td>21598578</td>\n      <td>102.54</td>\n      <td>41755874</td>\n      <td>20956756</td>\n      <td>20799118</td>\n      <td>100.76</td>\n      <td>1990449</td>\n      <td>1190989</td>\n      <td>799460</td>\n      <td>148.97</td>\n      <td>2.78</td>\n    </tr>\n    <tr>\n      <th>13</th>\n      <td>吉    林</td>\n      <td>9162183</td>\n      <td>8998492</td>\n      <td>163691</td>\n      <td>27452815</td>\n      <td>13907218</td>\n      <td>13545597</td>\n      <td>102.67</td>\n      <td>26457769</td>\n      <td>13358390</td>\n      <td>13099379</td>\n      <td>101.98</td>\n      <td>995046</td>\n      <td>548828</td>\n      <td>446218</td>\n      <td>123</td>\n      <td>2.94</td>\n    </tr>\n    <tr>\n      <th>14</th>\n      <td>黑 龙 江</td>\n      <td>13192935</td>\n      <td>13000088</td>\n      <td>192847</td>\n      <td>38313991</td>\n      <td>19426106</td>\n      <td>18887885</td>\n      <td>102.85</td>\n      <td>36884039</td>\n      <td>18603181</td>\n      <td>18280858</td>\n      <td>101.76</td>\n      <td>1429952</td>\n      <td>822925</td>\n      <td>607027</td>\n      <td>135.57</td>\n      <td>2.84</td>\n    </tr>\n    <tr>\n      <th>15</th>\n      <td>上    海</td>\n      <td>8893483</td>\n      <td>8253257</td>\n      <td>640226</td>\n      <td>23019196</td>\n      <td>11854916</td>\n      <td>11164280</td>\n      <td>106.19</td>\n      <td>20593430</td>\n      <td>10318168</td>\n      <td>10275262</td>\n      <td>100.42</td>\n      <td>2425766</td>\n      <td>1536748</td>\n      <td>889018</td>\n      <td>172.86</td>\n      <td>2.5</td>\n    </tr>\n    <tr>\n      <th>16</th>\n      <td>江    苏</td>\n      <td>25635291</td>\n      <td>24381782</td>\n      <td>1253509</td>\n      <td>78660941</td>\n      <td>39626707</td>\n      <td>39034234</td>\n      <td>101.52</td>\n      <td>71685839</td>\n      <td>35542124</td>\n      <td>36143715</td>\n      <td>98.34</td>\n      <td>6975102</td>\n      <td>4084583</td>\n      <td>2890519</td>\n      <td>141.31</td>\n      <td>2.94</td>\n    </tr>\n    <tr>\n      <th>17</th>\n      <td>浙    江</td>\n      <td>20060115</td>\n      <td>18854021</td>\n      <td>1206094</td>\n      <td>54426891</td>\n      <td>27965641</td>\n      <td>26461250</td>\n      <td>105.69</td>\n      <td>49425543</td>\n      <td>25037320</td>\n      <td>24388223</td>\n      <td>102.66</td>\n      <td>5001348</td>\n      <td>2928321</td>\n      <td>2073027</td>\n      <td>141.26</td>\n      <td>2.62</td>\n    </tr>\n    <tr>\n      <th>18</th>\n      <td>安    徽</td>\n      <td>19322432</td>\n      <td>18861956</td>\n      <td>460476</td>\n      <td>59500468</td>\n      <td>30245513</td>\n      <td>29254955</td>\n      <td>103.39</td>\n      <td>56493891</td>\n      <td>28462853</td>\n      <td>28031038</td>\n      <td>101.54</td>\n      <td>3006577</td>\n      <td>1782660</td>\n      <td>1223917</td>\n      <td>145.65</td>\n      <td>3</td>\n    </tr>\n    <tr>\n      <th>19</th>\n      <td>福    建</td>\n      <td>11971873</td>\n      <td>11206317</td>\n      <td>765556</td>\n      <td>36894217</td>\n      <td>18981054</td>\n      <td>17913163</td>\n      <td>105.96</td>\n      <td>33397663</td>\n      <td>16901083</td>\n      <td>16496580</td>\n      <td>102.45</td>\n      <td>3496554</td>\n      <td>2079971</td>\n      <td>1416583</td>\n      <td>146.83</td>\n      <td>2.98</td>\n    </tr>\n    <tr>\n      <th>20</th>\n      <td>江    西</td>\n      <td>11847841</td>\n      <td>11542527</td>\n      <td>305314</td>\n      <td>44567797</td>\n      <td>23003521</td>\n      <td>21564276</td>\n      <td>106.67</td>\n      <td>42181417</td>\n      <td>21600070</td>\n      <td>20581347</td>\n      <td>104.95</td>\n      <td>2386380</td>\n      <td>1403451</td>\n      <td>982929</td>\n      <td>142.78</td>\n      <td>3.65</td>\n    </tr>\n    <tr>\n      <th>21</th>\n      <td>山    东</td>\n      <td>30794664</td>\n      <td>30105454</td>\n      <td>689210</td>\n      <td>95792719</td>\n      <td>48446944</td>\n      <td>47345775</td>\n      <td>102.33</td>\n      <td>89855501</td>\n      <td>45023357</td>\n      <td>44832144</td>\n      <td>100.43</td>\n      <td>5937218</td>\n      <td>3423587</td>\n      <td>2513631</td>\n      <td>136.2</td>\n      <td>2.98</td>\n    </tr>\n    <tr>\n      <th>22</th>\n      <td>河    南</td>\n      <td>26404973</td>\n      <td>25928729</td>\n      <td>476244</td>\n      <td>94029939</td>\n      <td>47493063</td>\n      <td>46536876</td>\n      <td>102.05</td>\n      <td>90028072</td>\n      <td>45262137</td>\n      <td>44765935</td>\n      <td>101.11</td>\n      <td>4001867</td>\n      <td>2230926</td>\n      <td>1770941</td>\n      <td>125.97</td>\n      <td>3.47</td>\n    </tr>\n    <tr>\n      <th>23</th>\n      <td>湖    北</td>\n      <td>17253385</td>\n      <td>16695121</td>\n      <td>558264</td>\n      <td>57237727</td>\n      <td>29391247</td>\n      <td>27846480</td>\n      <td>105.55</td>\n      <td>52745625</td>\n      <td>26826301</td>\n      <td>25919324</td>\n      <td>103.5</td>\n      <td>4492102</td>\n      <td>2564946</td>\n      <td>1927156</td>\n      <td>133.09</td>\n      <td>3.16</td>\n    </tr>\n    <tr>\n      <th>24</th>\n      <td>湖    南</td>\n      <td>19029894</td>\n      <td>18625710</td>\n      <td>404184</td>\n      <td>65700762</td>\n      <td>33776459</td>\n      <td>31924303</td>\n      <td>105.8</td>\n      <td>61911446</td>\n      <td>31611459</td>\n      <td>30299987</td>\n      <td>104.33</td>\n      <td>3789316</td>\n      <td>2165000</td>\n      <td>1624316</td>\n      <td>133.29</td>\n      <td>3.32</td>\n    </tr>\n    <tr>\n      <th>25</th>\n      <td>广    东</td>\n      <td>32222752</td>\n      <td>28630609</td>\n      <td>3592143</td>\n      <td>104320459</td>\n      <td>54400538</td>\n      <td>49919921</td>\n      <td>108.98</td>\n      <td>88979305</td>\n      <td>45465958</td>\n      <td>43513347</td>\n      <td>104.49</td>\n      <td>15341154</td>\n      <td>8934580</td>\n      <td>6406574</td>\n      <td>139.46</td>\n      <td>3.11</td>\n    </tr>\n    <tr>\n      <th>26</th>\n      <td>广    西</td>\n      <td>13467663</td>\n      <td>13151404</td>\n      <td>316259</td>\n      <td>46023761</td>\n      <td>23924704</td>\n      <td>22099057</td>\n      <td>108.26</td>\n      <td>43970320</td>\n      <td>22733969</td>\n      <td>21236351</td>\n      <td>107.05</td>\n      <td>2053441</td>\n      <td>1190735</td>\n      <td>862706</td>\n      <td>138.02</td>\n      <td>3.34</td>\n    </tr>\n    <tr>\n      <th>27</th>\n      <td>海    南</td>\n      <td>2451819</td>\n      <td>2331149</td>\n      <td>120670</td>\n      <td>8671485</td>\n      <td>4592283</td>\n      <td>4079202</td>\n      <td>112.58</td>\n      <td>8060519</td>\n      <td>4231490</td>\n      <td>3829029</td>\n      <td>110.51</td>\n      <td>610966</td>\n      <td>360793</td>\n      <td>250173</td>\n      <td>144.22</td>\n      <td>3.46</td>\n    </tr>\n    <tr>\n      <th>28</th>\n      <td>重    庆</td>\n      <td>10272559</td>\n      <td>10000965</td>\n      <td>271594</td>\n      <td>28846170</td>\n      <td>14608870</td>\n      <td>14237300</td>\n      <td>102.61</td>\n      <td>26994017</td>\n      <td>13542424</td>\n      <td>13451593</td>\n      <td>100.68</td>\n      <td>1852153</td>\n      <td>1066446</td>\n      <td>785707</td>\n      <td>135.73</td>\n      <td>2.7</td>\n    </tr>\n    <tr>\n      <th>29</th>\n      <td>四    川</td>\n      <td>26383458</td>\n      <td>25794161</td>\n      <td>589297</td>\n      <td>80417528</td>\n      <td>40827834</td>\n      <td>39589694</td>\n      <td>103.13</td>\n      <td>76207174</td>\n      <td>38380622</td>\n      <td>37826552</td>\n      <td>101.46</td>\n      <td>4210354</td>\n      <td>2447212</td>\n      <td>1763142</td>\n      <td>138.8</td>\n      <td>2.95</td>\n    </tr>\n    <tr>\n      <th>30</th>\n      <td>贵    州</td>\n      <td>10745630</td>\n      <td>10558461</td>\n      <td>187169</td>\n      <td>34748556</td>\n      <td>17905471</td>\n      <td>16843085</td>\n      <td>106.31</td>\n      <td>33571308</td>\n      <td>17153547</td>\n      <td>16417761</td>\n      <td>104.48</td>\n      <td>1177248</td>\n      <td>751924</td>\n      <td>425324</td>\n      <td>176.79</td>\n      <td>3.18</td>\n    </tr>\n    <tr>\n      <th>31</th>\n      <td>云    南</td>\n      <td>12695396</td>\n      <td>12339961</td>\n      <td>355435</td>\n      <td>45966766</td>\n      <td>23856696</td>\n      <td>22110070</td>\n      <td>107.9</td>\n      <td>43626674</td>\n      <td>22391253</td>\n      <td>21235421</td>\n      <td>105.44</td>\n      <td>2340092</td>\n      <td>1465443</td>\n      <td>874649</td>\n      <td>167.55</td>\n      <td>3.54</td>\n    </tr>\n    <tr>\n      <th>32</th>\n      <td>西    藏</td>\n      <td>689521</td>\n      <td>670838</td>\n      <td>18683</td>\n      <td>3002165</td>\n      <td>1542652</td>\n      <td>1459513</td>\n      <td>105.7</td>\n      <td>2837769</td>\n      <td>1429541</td>\n      <td>1408228</td>\n      <td>101.51</td>\n      <td>164396</td>\n      <td>113111</td>\n      <td>51285</td>\n      <td>220.55</td>\n      <td>4.23</td>\n    </tr>\n    <tr>\n      <th>33</th>\n      <td>陕    西</td>\n      <td>11084516</td>\n      <td>10718563</td>\n      <td>365953</td>\n      <td>37327379</td>\n      <td>19287575</td>\n      <td>18039804</td>\n      <td>106.92</td>\n      <td>34462115</td>\n      <td>17556257</td>\n      <td>16905858</td>\n      <td>103.85</td>\n      <td>2865264</td>\n      <td>1731318</td>\n      <td>1133946</td>\n      <td>152.68</td>\n      <td>3.22</td>\n    </tr>\n    <tr>\n      <th>34</th>\n      <td>甘    肃</td>\n      <td>7113833</td>\n      <td>6900369</td>\n      <td>213464</td>\n      <td>25575263</td>\n      <td>13064193</td>\n      <td>12511070</td>\n      <td>104.42</td>\n      <td>24052594</td>\n      <td>12141360</td>\n      <td>11911234</td>\n      <td>101.93</td>\n      <td>1522669</td>\n      <td>922833</td>\n      <td>599836</td>\n      <td>153.85</td>\n      <td>3.49</td>\n    </tr>\n    <tr>\n      <th>35</th>\n      <td>青    海</td>\n      <td>1586635</td>\n      <td>1529039</td>\n      <td>57596</td>\n      <td>5626723</td>\n      <td>2913793</td>\n      <td>2712930</td>\n      <td>107.4</td>\n      <td>5284525</td>\n      <td>2675766</td>\n      <td>2608759</td>\n      <td>102.57</td>\n      <td>342198</td>\n      <td>238027</td>\n      <td>104171</td>\n      <td>228.5</td>\n      <td>3.46</td>\n    </tr>\n    <tr>\n      <th>36</th>\n      <td>宁    夏</td>\n      <td>1945064</td>\n      <td>1882205</td>\n      <td>62859</td>\n      <td>6301350</td>\n      <td>3227404</td>\n      <td>3073946</td>\n      <td>104.99</td>\n      <td>5970133</td>\n      <td>3015722</td>\n      <td>2954411</td>\n      <td>102.08</td>\n      <td>331217</td>\n      <td>211682</td>\n      <td>119535</td>\n      <td>177.09</td>\n      <td>3.17</td>\n    </tr>\n    <tr>\n      <th>37</th>\n      <td>新    疆</td>\n      <td>6902850</td>\n      <td>6705607</td>\n      <td>197243</td>\n      <td>21815815</td>\n      <td>11270147</td>\n      <td>10545668</td>\n      <td>106.87</td>\n      <td>20802249</td>\n      <td>10620499</td>\n      <td>10181750</td>\n      <td>104.31</td>\n      <td>1013566</td>\n      <td>649648</td>\n      <td>363918</td>\n      <td>178.51</td>\n      <td>3.1</td>\n    </tr>\n  </tbody>\n</table>\n</div>"
     },
     "execution_count": 14,
     "metadata": {},
     "output_type": "execute_result"
    }
   ],
   "source": [
    "data_all = pd.DataFrame(data)\n",
    "data_all"
   ],
   "metadata": {
    "collapsed": false,
    "pycharm": {
     "name": "#%%\n"
    }
   }
  },
  {
   "cell_type": "code",
   "execution_count": 2,
   "outputs": [
    {
     "data": {
      "text/plain": "'C:\\\\Users\\\\jonescy\\\\OneDrive\\\\文档\\\\PycharmProjects\\\\DataAnalysis\\\\Libary\\\\pandas'"
     },
     "execution_count": 2,
     "metadata": {},
     "output_type": "execute_result"
    }
   ],
   "source": [
    "# data_all.to\n",
    "import  os\n",
    "os.getcwd()"
   ],
   "metadata": {
    "collapsed": false,
    "pycharm": {
     "name": "#%%\n"
    }
   }
  },
  {
   "cell_type": "code",
   "execution_count": 22,
   "outputs": [
    {
     "data": {
      "text/plain": "   地    区   户       数 Unnamed: 2 Unnamed: 3 人          口          数  \\\n0     NaN          合计       家庭户         集体户            合          计   \n1     NaN         NaN        NaN        NaN                      合计   \n2     NaN         NaN        NaN        NaN                     NaN   \n3  全    国   417722698  401934196   15788502              1332810869   \n4  北    京     7355291    6680552     674739                19612368   \n\n  Unnamed: 5 Unnamed: 6 Unnamed: 7     Unnamed: 8 Unnamed: 9 Unnamed: 10  \\\n0        NaN        NaN        NaN  家     庭     户        NaN         NaN   \n1          男          女        性别比             小计          男           女   \n2        NaN        NaN    (女=100)            NaN        NaN         NaN   \n3  682329104  650481765      104.9     1239981250  627410399   612570851   \n4   10126430    9485938     106.75       16389723    8173161     8216562   \n\n  Unnamed: 11    Unnamed: 12 Unnamed: 13 Unnamed: 14 Unnamed: 15   平均家庭  \n0         NaN  集     体     户         NaN         NaN         NaN    户规模  \n1         性别比             小计           男           女         性别比    NaN  \n2     (女=100)            NaN         NaN         NaN     (女=100)  （人/户）  \n3      102.42       92829619    54918705    37910914      144.86   3.09  \n4       99.47        3222645     1953269     1269376      153.88   2.45  ",
      "text/html": "<div>\n<style scoped>\n    .dataframe tbody tr th:only-of-type {\n        vertical-align: middle;\n    }\n\n    .dataframe tbody tr th {\n        vertical-align: top;\n    }\n\n    .dataframe thead th {\n        text-align: right;\n    }\n</style>\n<table border=\"1\" class=\"dataframe\">\n  <thead>\n    <tr style=\"text-align: right;\">\n      <th></th>\n      <th>地    区</th>\n      <th>户       数</th>\n      <th>Unnamed: 2</th>\n      <th>Unnamed: 3</th>\n      <th>人          口          数</th>\n      <th>Unnamed: 5</th>\n      <th>Unnamed: 6</th>\n      <th>Unnamed: 7</th>\n      <th>Unnamed: 8</th>\n      <th>Unnamed: 9</th>\n      <th>Unnamed: 10</th>\n      <th>Unnamed: 11</th>\n      <th>Unnamed: 12</th>\n      <th>Unnamed: 13</th>\n      <th>Unnamed: 14</th>\n      <th>Unnamed: 15</th>\n      <th>平均家庭</th>\n    </tr>\n  </thead>\n  <tbody>\n    <tr>\n      <th>0</th>\n      <td>NaN</td>\n      <td>合计</td>\n      <td>家庭户</td>\n      <td>集体户</td>\n      <td>合          计</td>\n      <td>NaN</td>\n      <td>NaN</td>\n      <td>NaN</td>\n      <td>家     庭     户</td>\n      <td>NaN</td>\n      <td>NaN</td>\n      <td>NaN</td>\n      <td>集     体     户</td>\n      <td>NaN</td>\n      <td>NaN</td>\n      <td>NaN</td>\n      <td>户规模</td>\n    </tr>\n    <tr>\n      <th>1</th>\n      <td>NaN</td>\n      <td>NaN</td>\n      <td>NaN</td>\n      <td>NaN</td>\n      <td>合计</td>\n      <td>男</td>\n      <td>女</td>\n      <td>性别比</td>\n      <td>小计</td>\n      <td>男</td>\n      <td>女</td>\n      <td>性别比</td>\n      <td>小计</td>\n      <td>男</td>\n      <td>女</td>\n      <td>性别比</td>\n      <td>NaN</td>\n    </tr>\n    <tr>\n      <th>2</th>\n      <td>NaN</td>\n      <td>NaN</td>\n      <td>NaN</td>\n      <td>NaN</td>\n      <td>NaN</td>\n      <td>NaN</td>\n      <td>NaN</td>\n      <td>(女=100)</td>\n      <td>NaN</td>\n      <td>NaN</td>\n      <td>NaN</td>\n      <td>(女=100)</td>\n      <td>NaN</td>\n      <td>NaN</td>\n      <td>NaN</td>\n      <td>(女=100)</td>\n      <td>（人/户）</td>\n    </tr>\n    <tr>\n      <th>3</th>\n      <td>全    国</td>\n      <td>417722698</td>\n      <td>401934196</td>\n      <td>15788502</td>\n      <td>1332810869</td>\n      <td>682329104</td>\n      <td>650481765</td>\n      <td>104.9</td>\n      <td>1239981250</td>\n      <td>627410399</td>\n      <td>612570851</td>\n      <td>102.42</td>\n      <td>92829619</td>\n      <td>54918705</td>\n      <td>37910914</td>\n      <td>144.86</td>\n      <td>3.09</td>\n    </tr>\n    <tr>\n      <th>4</th>\n      <td>北    京</td>\n      <td>7355291</td>\n      <td>6680552</td>\n      <td>674739</td>\n      <td>19612368</td>\n      <td>10126430</td>\n      <td>9485938</td>\n      <td>106.75</td>\n      <td>16389723</td>\n      <td>8173161</td>\n      <td>8216562</td>\n      <td>99.47</td>\n      <td>3222645</td>\n      <td>1953269</td>\n      <td>1269376</td>\n      <td>153.88</td>\n      <td>2.45</td>\n    </tr>\n  </tbody>\n</table>\n</div>"
     },
     "execution_count": 22,
     "metadata": {},
     "output_type": "execute_result"
    }
   ],
   "source": [
    "data.head(5)\n"
   ],
   "metadata": {
    "collapsed": false,
    "pycharm": {
     "name": "#%%\n"
    }
   }
  },
  {
   "cell_type": "code",
   "execution_count": 23,
   "outputs": [
    {
     "data": {
      "text/plain": "    地    区   户       数 Unnamed: 2 Unnamed: 3 人          口          数  \\\n30  陕    西    11084516   10718563     365953                37327379   \n31  甘    肃     7113833    6900369     213464                25575263   \n32  青    海     1586635    1529039      57596                 5626723   \n33  宁    夏     1945064    1882205      62859                 6301350   \n34  新    疆     6902850    6705607     197243                21815815   \n\n   Unnamed: 5 Unnamed: 6 Unnamed: 7 Unnamed: 8 Unnamed: 9 Unnamed: 10  \\\n30   19287575   18039804     106.92   34462115   17556257    16905858   \n31   13064193   12511070     104.42   24052594   12141360    11911234   \n32    2913793    2712930      107.4    5284525    2675766     2608759   \n33    3227404    3073946     104.99    5970133    3015722     2954411   \n34   11270147   10545668     106.87   20802249   10620499    10181750   \n\n   Unnamed: 11 Unnamed: 12 Unnamed: 13 Unnamed: 14 Unnamed: 15  平均家庭  \n30      103.85     2865264     1731318     1133946      152.68  3.22  \n31      101.93     1522669      922833      599836      153.85  3.49  \n32      102.57      342198      238027      104171       228.5  3.46  \n33      102.08      331217      211682      119535      177.09  3.17  \n34      104.31     1013566      649648      363918      178.51   3.1  ",
      "text/html": "<div>\n<style scoped>\n    .dataframe tbody tr th:only-of-type {\n        vertical-align: middle;\n    }\n\n    .dataframe tbody tr th {\n        vertical-align: top;\n    }\n\n    .dataframe thead th {\n        text-align: right;\n    }\n</style>\n<table border=\"1\" class=\"dataframe\">\n  <thead>\n    <tr style=\"text-align: right;\">\n      <th></th>\n      <th>地    区</th>\n      <th>户       数</th>\n      <th>Unnamed: 2</th>\n      <th>Unnamed: 3</th>\n      <th>人          口          数</th>\n      <th>Unnamed: 5</th>\n      <th>Unnamed: 6</th>\n      <th>Unnamed: 7</th>\n      <th>Unnamed: 8</th>\n      <th>Unnamed: 9</th>\n      <th>Unnamed: 10</th>\n      <th>Unnamed: 11</th>\n      <th>Unnamed: 12</th>\n      <th>Unnamed: 13</th>\n      <th>Unnamed: 14</th>\n      <th>Unnamed: 15</th>\n      <th>平均家庭</th>\n    </tr>\n  </thead>\n  <tbody>\n    <tr>\n      <th>30</th>\n      <td>陕    西</td>\n      <td>11084516</td>\n      <td>10718563</td>\n      <td>365953</td>\n      <td>37327379</td>\n      <td>19287575</td>\n      <td>18039804</td>\n      <td>106.92</td>\n      <td>34462115</td>\n      <td>17556257</td>\n      <td>16905858</td>\n      <td>103.85</td>\n      <td>2865264</td>\n      <td>1731318</td>\n      <td>1133946</td>\n      <td>152.68</td>\n      <td>3.22</td>\n    </tr>\n    <tr>\n      <th>31</th>\n      <td>甘    肃</td>\n      <td>7113833</td>\n      <td>6900369</td>\n      <td>213464</td>\n      <td>25575263</td>\n      <td>13064193</td>\n      <td>12511070</td>\n      <td>104.42</td>\n      <td>24052594</td>\n      <td>12141360</td>\n      <td>11911234</td>\n      <td>101.93</td>\n      <td>1522669</td>\n      <td>922833</td>\n      <td>599836</td>\n      <td>153.85</td>\n      <td>3.49</td>\n    </tr>\n    <tr>\n      <th>32</th>\n      <td>青    海</td>\n      <td>1586635</td>\n      <td>1529039</td>\n      <td>57596</td>\n      <td>5626723</td>\n      <td>2913793</td>\n      <td>2712930</td>\n      <td>107.4</td>\n      <td>5284525</td>\n      <td>2675766</td>\n      <td>2608759</td>\n      <td>102.57</td>\n      <td>342198</td>\n      <td>238027</td>\n      <td>104171</td>\n      <td>228.5</td>\n      <td>3.46</td>\n    </tr>\n    <tr>\n      <th>33</th>\n      <td>宁    夏</td>\n      <td>1945064</td>\n      <td>1882205</td>\n      <td>62859</td>\n      <td>6301350</td>\n      <td>3227404</td>\n      <td>3073946</td>\n      <td>104.99</td>\n      <td>5970133</td>\n      <td>3015722</td>\n      <td>2954411</td>\n      <td>102.08</td>\n      <td>331217</td>\n      <td>211682</td>\n      <td>119535</td>\n      <td>177.09</td>\n      <td>3.17</td>\n    </tr>\n    <tr>\n      <th>34</th>\n      <td>新    疆</td>\n      <td>6902850</td>\n      <td>6705607</td>\n      <td>197243</td>\n      <td>21815815</td>\n      <td>11270147</td>\n      <td>10545668</td>\n      <td>106.87</td>\n      <td>20802249</td>\n      <td>10620499</td>\n      <td>10181750</td>\n      <td>104.31</td>\n      <td>1013566</td>\n      <td>649648</td>\n      <td>363918</td>\n      <td>178.51</td>\n      <td>3.1</td>\n    </tr>\n  </tbody>\n</table>\n</div>"
     },
     "execution_count": 23,
     "metadata": {},
     "output_type": "execute_result"
    }
   ],
   "source": [
    "data.tail(5)"
   ],
   "metadata": {
    "collapsed": false,
    "pycharm": {
     "name": "#%%\n"
    }
   }
  },
  {
   "cell_type": "code",
   "execution_count": 25,
   "outputs": [
    {
     "data": {
      "text/plain": "pandas.core.frame.DataFrame"
     },
     "execution_count": 25,
     "metadata": {},
     "output_type": "execute_result"
    }
   ],
   "source": [
    "type(data)\n"
   ],
   "metadata": {
    "collapsed": false,
    "pycharm": {
     "name": "#%%\n"
    }
   }
  },
  {
   "cell_type": "code",
   "execution_count": 27,
   "outputs": [
    {
     "data": {
      "text/plain": "Index(['地    区', '  户       数', 'Unnamed: 2', 'Unnamed: 3',\n       '人          口          数', 'Unnamed: 5', 'Unnamed: 6', 'Unnamed: 7',\n       'Unnamed: 8', 'Unnamed: 9', 'Unnamed: 10', 'Unnamed: 11', 'Unnamed: 12',\n       'Unnamed: 13', 'Unnamed: 14', 'Unnamed: 15', '平均家庭'],\n      dtype='object')"
     },
     "execution_count": 27,
     "metadata": {},
     "output_type": "execute_result"
    }
   ],
   "source": [
    "data.columns"
   ],
   "metadata": {
    "collapsed": false,
    "pycharm": {
     "name": "#%%\n"
    }
   }
  },
  {
   "cell_type": "code",
   "execution_count": 30,
   "outputs": [
    {
     "data": {
      "text/plain": "地    区                     object\n  户       数                object\nUnnamed: 2                 object\nUnnamed: 3                 object\n人          口          数    object\nUnnamed: 5                 object\nUnnamed: 6                 object\nUnnamed: 7                 object\nUnnamed: 8                 object\nUnnamed: 9                 object\nUnnamed: 10                object\nUnnamed: 11                object\nUnnamed: 12                object\nUnnamed: 13                object\nUnnamed: 14                object\nUnnamed: 15                object\n平均家庭                       object\ndtype: object"
     },
     "execution_count": 30,
     "metadata": {},
     "output_type": "execute_result"
    }
   ],
   "source": [
    "data.dtypes"
   ],
   "metadata": {
    "collapsed": false,
    "pycharm": {
     "name": "#%%\n"
    }
   }
  },
  {
   "cell_type": "code",
   "execution_count": 58,
   "outputs": [
    {
     "data": {
      "text/plain": "   全    国  417722698  401934196  15788502  1332810869  682329104  650481765  \\\n0  北    京    7355291    6680552    674739    19612368   10126430    9485938   \n1  天    津    3963604    3661992    301612    12938693    6907091    6031602   \n2  河    北   20813492   20395116    418376    71854210   36430286   35423924   \n3  山    西   10654162   10330207    323955    35712101   18338760   17373341   \n4   内 蒙 古    8470472    8205498    264974    24706291   12838243   11868048   \n\n    104.9  1239981250  627410399  612570851  102.42  92829619  54918705  \\\n0  106.75    16389723    8173161    8216562   99.47   3222645   1953269   \n1  114.52    10262186    5129604    5132582   99.94   2676507   1777487   \n2  102.84    68538709   34552649   33986060  101.67   3315501   1877637   \n3  105.56    33484131   16988087   16496044  102.98   2227970   1350673   \n4  108.17    23071690   11725291   11346399  103.34   1634601   1112952   \n\n   37910914  144.86  3.09  \n0   1269376  153.88  2.45  \n1    899020  197.71  2.80  \n2   1437864  130.59  3.36  \n3    877297  153.96  3.24  \n4    521649  213.35  2.81  ",
      "text/html": "<div>\n<style scoped>\n    .dataframe tbody tr th:only-of-type {\n        vertical-align: middle;\n    }\n\n    .dataframe tbody tr th {\n        vertical-align: top;\n    }\n\n    .dataframe thead th {\n        text-align: right;\n    }\n</style>\n<table border=\"1\" class=\"dataframe\">\n  <thead>\n    <tr style=\"text-align: right;\">\n      <th></th>\n      <th>全    国</th>\n      <th>417722698</th>\n      <th>401934196</th>\n      <th>15788502</th>\n      <th>1332810869</th>\n      <th>682329104</th>\n      <th>650481765</th>\n      <th>104.9</th>\n      <th>1239981250</th>\n      <th>627410399</th>\n      <th>612570851</th>\n      <th>102.42</th>\n      <th>92829619</th>\n      <th>54918705</th>\n      <th>37910914</th>\n      <th>144.86</th>\n      <th>3.09</th>\n    </tr>\n  </thead>\n  <tbody>\n    <tr>\n      <th>0</th>\n      <td>北    京</td>\n      <td>7355291</td>\n      <td>6680552</td>\n      <td>674739</td>\n      <td>19612368</td>\n      <td>10126430</td>\n      <td>9485938</td>\n      <td>106.75</td>\n      <td>16389723</td>\n      <td>8173161</td>\n      <td>8216562</td>\n      <td>99.47</td>\n      <td>3222645</td>\n      <td>1953269</td>\n      <td>1269376</td>\n      <td>153.88</td>\n      <td>2.45</td>\n    </tr>\n    <tr>\n      <th>1</th>\n      <td>天    津</td>\n      <td>3963604</td>\n      <td>3661992</td>\n      <td>301612</td>\n      <td>12938693</td>\n      <td>6907091</td>\n      <td>6031602</td>\n      <td>114.52</td>\n      <td>10262186</td>\n      <td>5129604</td>\n      <td>5132582</td>\n      <td>99.94</td>\n      <td>2676507</td>\n      <td>1777487</td>\n      <td>899020</td>\n      <td>197.71</td>\n      <td>2.80</td>\n    </tr>\n    <tr>\n      <th>2</th>\n      <td>河    北</td>\n      <td>20813492</td>\n      <td>20395116</td>\n      <td>418376</td>\n      <td>71854210</td>\n      <td>36430286</td>\n      <td>35423924</td>\n      <td>102.84</td>\n      <td>68538709</td>\n      <td>34552649</td>\n      <td>33986060</td>\n      <td>101.67</td>\n      <td>3315501</td>\n      <td>1877637</td>\n      <td>1437864</td>\n      <td>130.59</td>\n      <td>3.36</td>\n    </tr>\n    <tr>\n      <th>3</th>\n      <td>山    西</td>\n      <td>10654162</td>\n      <td>10330207</td>\n      <td>323955</td>\n      <td>35712101</td>\n      <td>18338760</td>\n      <td>17373341</td>\n      <td>105.56</td>\n      <td>33484131</td>\n      <td>16988087</td>\n      <td>16496044</td>\n      <td>102.98</td>\n      <td>2227970</td>\n      <td>1350673</td>\n      <td>877297</td>\n      <td>153.96</td>\n      <td>3.24</td>\n    </tr>\n    <tr>\n      <th>4</th>\n      <td>内 蒙 古</td>\n      <td>8470472</td>\n      <td>8205498</td>\n      <td>264974</td>\n      <td>24706291</td>\n      <td>12838243</td>\n      <td>11868048</td>\n      <td>108.17</td>\n      <td>23071690</td>\n      <td>11725291</td>\n      <td>11346399</td>\n      <td>103.34</td>\n      <td>1634601</td>\n      <td>1112952</td>\n      <td>521649</td>\n      <td>213.35</td>\n      <td>2.81</td>\n    </tr>\n  </tbody>\n</table>\n</div>"
     },
     "execution_count": 58,
     "metadata": {},
     "output_type": "execute_result"
    }
   ],
   "source": [
    "data.head(5)"
   ],
   "metadata": {
    "collapsed": false,
    "pycharm": {
     "name": "#%%\n"
    }
   }
  },
  {
   "cell_type": "code",
   "execution_count": 67,
   "outputs": [],
   "source": [
    "arr1 = data.values"
   ],
   "metadata": {
    "collapsed": false,
    "pycharm": {
     "name": "#%%\n"
    }
   }
  },
  {
   "cell_type": "code",
   "execution_count": 98,
   "outputs": [
    {
     "ename": "TypeError",
     "evalue": "Mismatch between array dtype ('object') and format specifier ('%18e,%18e,%18e,%18e,%18e,%18e,%18e,%18e,%18e,%18e,%18e,%18e,%18e,%18e,%18e,%18e,%18e')",
     "output_type": "error",
     "traceback": [
      "\u001B[1;31m---------------------------------------------------------------------------\u001B[0m",
      "\u001B[1;31mTypeError\u001B[0m                                 Traceback (most recent call last)",
      "\u001B[1;32mc:\\users\\jonescy\\onedrive\\文档\\pycharmprojects\\dataanalysis\\lib\\site-packages\\numpy\\lib\\npyio.py\u001B[0m in \u001B[0;36msavetxt\u001B[1;34m(fname, X, fmt, delimiter, newline, header, footer, comments, encoding)\u001B[0m\n\u001B[0;32m   1423\u001B[0m                 \u001B[1;32mtry\u001B[0m\u001B[1;33m:\u001B[0m\u001B[1;33m\u001B[0m\u001B[1;33m\u001B[0m\u001B[0m\n\u001B[1;32m-> 1424\u001B[1;33m                     \u001B[0mv\u001B[0m \u001B[1;33m=\u001B[0m \u001B[0mformat\u001B[0m \u001B[1;33m%\u001B[0m \u001B[0mtuple\u001B[0m\u001B[1;33m(\u001B[0m\u001B[0mrow\u001B[0m\u001B[1;33m)\u001B[0m \u001B[1;33m+\u001B[0m \u001B[0mnewline\u001B[0m\u001B[1;33m\u001B[0m\u001B[1;33m\u001B[0m\u001B[0m\n\u001B[0m\u001B[0;32m   1425\u001B[0m                 \u001B[1;32mexcept\u001B[0m \u001B[0mTypeError\u001B[0m\u001B[1;33m:\u001B[0m\u001B[1;33m\u001B[0m\u001B[1;33m\u001B[0m\u001B[0m\n",
      "\u001B[1;31mTypeError\u001B[0m: must be real number, not str",
      "\nDuring handling of the above exception, another exception occurred:\n",
      "\u001B[1;31mTypeError\u001B[0m                                 Traceback (most recent call last)",
      "\u001B[1;32m<ipython-input-98-1a90d860f1e0>\u001B[0m in \u001B[0;36m<module>\u001B[1;34m\u001B[0m\n\u001B[0;32m      2\u001B[0m \u001B[1;33m\u001B[0m\u001B[0m\n\u001B[0;32m      3\u001B[0m \u001B[0marr3\u001B[0m \u001B[1;33m=\u001B[0m \u001B[0mnp\u001B[0m\u001B[1;33m.\u001B[0m\u001B[0mvstack\u001B[0m\u001B[1;33m(\u001B[0m\u001B[1;33m[\u001B[0m\u001B[0mlis\u001B[0m\u001B[1;33m,\u001B[0m\u001B[0marr1\u001B[0m\u001B[1;33m]\u001B[0m\u001B[1;33m)\u001B[0m\u001B[1;33m\u001B[0m\u001B[1;33m\u001B[0m\u001B[0m\n\u001B[1;32m----> 4\u001B[1;33m \u001B[0mnp\u001B[0m\u001B[1;33m.\u001B[0m\u001B[0msavetxt\u001B[0m\u001B[1;33m(\u001B[0m\u001B[1;34m'各地区户数、人口数和性别比.xls'\u001B[0m\u001B[1;33m,\u001B[0m\u001B[0marr3\u001B[0m\u001B[1;33m,\u001B[0m\u001B[0mencoding\u001B[0m\u001B[1;33m=\u001B[0m\u001B[1;34m'utf-8'\u001B[0m\u001B[1;33m,\u001B[0m\u001B[0mdelimiter\u001B[0m\u001B[1;33m=\u001B[0m\u001B[1;34m','\u001B[0m\u001B[1;33m,\u001B[0m\u001B[0mfmt\u001B[0m\u001B[1;33m=\u001B[0m\u001B[1;34m'%18e'\u001B[0m\u001B[1;33m)\u001B[0m\u001B[1;33m\u001B[0m\u001B[1;33m\u001B[0m\u001B[0m\n\u001B[0m\u001B[0;32m      5\u001B[0m \u001B[1;33m\u001B[0m\u001B[0m\n",
      "\u001B[1;32m<__array_function__ internals>\u001B[0m in \u001B[0;36msavetxt\u001B[1;34m(*args, **kwargs)\u001B[0m\n",
      "\u001B[1;32mc:\\users\\jonescy\\onedrive\\文档\\pycharmprojects\\dataanalysis\\lib\\site-packages\\numpy\\lib\\npyio.py\u001B[0m in \u001B[0;36msavetxt\u001B[1;34m(fname, X, fmt, delimiter, newline, header, footer, comments, encoding)\u001B[0m\n\u001B[0;32m   1426\u001B[0m                     raise TypeError(\"Mismatch between array dtype ('%s') and \"\n\u001B[0;32m   1427\u001B[0m                                     \u001B[1;34m\"format specifier ('%s')\"\u001B[0m\u001B[1;33m\u001B[0m\u001B[1;33m\u001B[0m\u001B[0m\n\u001B[1;32m-> 1428\u001B[1;33m                                     % (str(X.dtype), format))\n\u001B[0m\u001B[0;32m   1429\u001B[0m                 \u001B[0mfh\u001B[0m\u001B[1;33m.\u001B[0m\u001B[0mwrite\u001B[0m\u001B[1;33m(\u001B[0m\u001B[0mv\u001B[0m\u001B[1;33m)\u001B[0m\u001B[1;33m\u001B[0m\u001B[1;33m\u001B[0m\u001B[0m\n\u001B[0;32m   1430\u001B[0m \u001B[1;33m\u001B[0m\u001B[0m\n",
      "\u001B[1;31mTypeError\u001B[0m: Mismatch between array dtype ('object') and format specifier ('%18e,%18e,%18e,%18e,%18e,%18e,%18e,%18e,%18e,%18e,%18e,%18e,%18e,%18e,%18e,%18e,%18e')"
     ]
    }
   ],
   "source": [
    "lis = ['Area','AccountTotal','AccountFamily','AccountGroup','Population_Total','Male','Female','M/F_Pro(%)','Family_Total','F_Male','F_Female','F_M/F_Pro(%)','Group_Total','G_Male','G_Female','G_M/F_Pro(%)','Avg_Family_Size']\n",
    "\n",
    "arr3 = np.vstack([lis,arr1])\n",
    "np.savetxt('各地区户数、人口数和性别比.xls',arr3,encoding='utf-8',delimiter=',',fmt='%18e')"
   ],
   "metadata": {
    "collapsed": false,
    "pycharm": {
     "name": "#%%\n"
    }
   }
  },
  {
   "cell_type": "code",
   "execution_count": 79,
   "outputs": [
    {
     "data": {
      "text/plain": "'C:\\\\Users\\\\jonescy\\\\OneDrive\\\\文档\\\\PycharmProjects\\\\DataAnalysis'"
     },
     "execution_count": 79,
     "metadata": {},
     "output_type": "execute_result"
    }
   ],
   "source": [
    "os.getcwd()"
   ],
   "metadata": {
    "collapsed": false,
    "pycharm": {
     "name": "#%%\n"
    }
   }
  },
  {
   "cell_type": "code",
   "execution_count": 117,
   "outputs": [
    {
     "data": {
      "text/plain": "      Area AccountTotal AccountFamily AccountGroup Population_Total      Male  \\\n0   北    京      7355291       6680552       674739         19612368  10126430   \n1   天    津      3963604       3661992       301612         12938693   6907091   \n2   河    北     20813492      20395116       418376         71854210  36430286   \n3   山    西     10654162      10330207       323955         35712101  18338760   \n4    内 蒙 古      8470472       8205498       264974         24706291  12838243   \n5   辽    宁     15334912      14994046       340866         43746323  22147745   \n6   吉    林      9162183       8998492       163691         27452815  13907218   \n7    黑 龙 江     13192935      13000088       192847         38313991  19426106   \n8   上    海      8893483       8253257       640226         23019196  11854916   \n9   江    苏     25635291      24381782      1253509         78660941  39626707   \n10  浙    江     20060115      18854021      1206094         54426891  27965641   \n11  安    徽     19322432      18861956       460476         59500468  30245513   \n12  福    建     11971873      11206317       765556         36894217  18981054   \n13  江    西     11847841      11542527       305314         44567797  23003521   \n14  山    东     30794664      30105454       689210         95792719  48446944   \n15  河    南     26404973      25928729       476244         94029939  47493063   \n16  湖    北     17253385      16695121       558264         57237727  29391247   \n17  湖    南     19029894      18625710       404184         65700762  33776459   \n18  广    东     32222752      28630609      3592143        104320459  54400538   \n19  广    西     13467663      13151404       316259         46023761  23924704   \n20  海    南      2451819       2331149       120670          8671485   4592283   \n21  重    庆     10272559      10000965       271594         28846170  14608870   \n22  四    川     26383458      25794161       589297         80417528  40827834   \n23  贵    州     10745630      10558461       187169         34748556  17905471   \n24  云    南     12695396      12339961       355435         45966766  23856696   \n25  西    藏       689521        670838        18683          3002165   1542652   \n26  陕    西     11084516      10718563       365953         37327379  19287575   \n27  甘    肃      7113833       6900369       213464         25575263  13064193   \n28  青    海      1586635       1529039        57596          5626723   2913793   \n29  宁    夏      1945064       1882205        62859          6301350   3227404   \n30  新    疆      6902850       6705607       197243         21815815  11270147   \n\n      Female M/F_Pro(%) Family_Total    F_Male  F_Female F_M/F_Pro(%)  \\\n0    9485938     106.75     16389723   8173161   8216562        99.47   \n1    6031602     114.52     10262186   5129604   5132582        99.94   \n2   35423924     102.84     68538709  34552649  33986060       101.67   \n3   17373341     105.56     33484131  16988087  16496044       102.98   \n4   11868048     108.17     23071690  11725291  11346399       103.34   \n5   21598578     102.54     41755874  20956756  20799118       100.76   \n6   13545597     102.67     26457769  13358390  13099379       101.98   \n7   18887885     102.85     36884039  18603181  18280858       101.76   \n8   11164280     106.19     20593430  10318168  10275262       100.42   \n9   39034234     101.52     71685839  35542124  36143715        98.34   \n10  26461250     105.69     49425543  25037320  24388223       102.66   \n11  29254955     103.39     56493891  28462853  28031038       101.54   \n12  17913163     105.96     33397663  16901083  16496580       102.45   \n13  21564276     106.67     42181417  21600070  20581347       104.95   \n14  47345775     102.33     89855501  45023357  44832144       100.43   \n15  46536876     102.05     90028072  45262137  44765935       101.11   \n16  27846480     105.55     52745625  26826301  25919324        103.5   \n17  31924303      105.8     61911446  31611459  30299987       104.33   \n18  49919921     108.98     88979305  45465958  43513347       104.49   \n19  22099057     108.26     43970320  22733969  21236351       107.05   \n20   4079202     112.58      8060519   4231490   3829029       110.51   \n21  14237300     102.61     26994017  13542424  13451593       100.68   \n22  39589694     103.13     76207174  38380622  37826552       101.46   \n23  16843085     106.31     33571308  17153547  16417761       104.48   \n24  22110070      107.9     43626674  22391253  21235421       105.44   \n25   1459513      105.7      2837769   1429541   1408228       101.51   \n26  18039804     106.92     34462115  17556257  16905858       103.85   \n27  12511070     104.42     24052594  12141360  11911234       101.93   \n28   2712930      107.4      5284525   2675766   2608759       102.57   \n29   3073946     104.99      5970133   3015722   2954411       102.08   \n30  10545668     106.87     20802249  10620499  10181750       104.31   \n\n   Group_Total   G_Male G_Female G_M/F_Pro(%) Avg_Family_Size  \n0      3222645  1953269  1269376       153.88            2.45  \n1      2676507  1777487   899020       197.71             2.8  \n2      3315501  1877637  1437864       130.59            3.36  \n3      2227970  1350673   877297       153.96            3.24  \n4      1634601  1112952   521649       213.35            2.81  \n5      1990449  1190989   799460       148.97            2.78  \n6       995046   548828   446218          123            2.94  \n7      1429952   822925   607027       135.57            2.84  \n8      2425766  1536748   889018       172.86             2.5  \n9      6975102  4084583  2890519       141.31            2.94  \n10     5001348  2928321  2073027       141.26            2.62  \n11     3006577  1782660  1223917       145.65               3  \n12     3496554  2079971  1416583       146.83            2.98  \n13     2386380  1403451   982929       142.78            3.65  \n14     5937218  3423587  2513631        136.2            2.98  \n15     4001867  2230926  1770941       125.97            3.47  \n16     4492102  2564946  1927156       133.09            3.16  \n17     3789316  2165000  1624316       133.29            3.32  \n18    15341154  8934580  6406574       139.46            3.11  \n19     2053441  1190735   862706       138.02            3.34  \n20      610966   360793   250173       144.22            3.46  \n21     1852153  1066446   785707       135.73             2.7  \n22     4210354  2447212  1763142        138.8            2.95  \n23     1177248   751924   425324       176.79            3.18  \n24     2340092  1465443   874649       167.55            3.54  \n25      164396   113111    51285       220.55            4.23  \n26     2865264  1731318  1133946       152.68            3.22  \n27     1522669   922833   599836       153.85            3.49  \n28      342198   238027   104171        228.5            3.46  \n29      331217   211682   119535       177.09            3.17  \n30     1013566   649648   363918       178.51             3.1  ",
      "text/html": "<div>\n<style scoped>\n    .dataframe tbody tr th:only-of-type {\n        vertical-align: middle;\n    }\n\n    .dataframe tbody tr th {\n        vertical-align: top;\n    }\n\n    .dataframe thead th {\n        text-align: right;\n    }\n</style>\n<table border=\"1\" class=\"dataframe\">\n  <thead>\n    <tr style=\"text-align: right;\">\n      <th></th>\n      <th>Area</th>\n      <th>AccountTotal</th>\n      <th>AccountFamily</th>\n      <th>AccountGroup</th>\n      <th>Population_Total</th>\n      <th>Male</th>\n      <th>Female</th>\n      <th>M/F_Pro(%)</th>\n      <th>Family_Total</th>\n      <th>F_Male</th>\n      <th>F_Female</th>\n      <th>F_M/F_Pro(%)</th>\n      <th>Group_Total</th>\n      <th>G_Male</th>\n      <th>G_Female</th>\n      <th>G_M/F_Pro(%)</th>\n      <th>Avg_Family_Size</th>\n    </tr>\n  </thead>\n  <tbody>\n    <tr>\n      <th>0</th>\n      <td>北    京</td>\n      <td>7355291</td>\n      <td>6680552</td>\n      <td>674739</td>\n      <td>19612368</td>\n      <td>10126430</td>\n      <td>9485938</td>\n      <td>106.75</td>\n      <td>16389723</td>\n      <td>8173161</td>\n      <td>8216562</td>\n      <td>99.47</td>\n      <td>3222645</td>\n      <td>1953269</td>\n      <td>1269376</td>\n      <td>153.88</td>\n      <td>2.45</td>\n    </tr>\n    <tr>\n      <th>1</th>\n      <td>天    津</td>\n      <td>3963604</td>\n      <td>3661992</td>\n      <td>301612</td>\n      <td>12938693</td>\n      <td>6907091</td>\n      <td>6031602</td>\n      <td>114.52</td>\n      <td>10262186</td>\n      <td>5129604</td>\n      <td>5132582</td>\n      <td>99.94</td>\n      <td>2676507</td>\n      <td>1777487</td>\n      <td>899020</td>\n      <td>197.71</td>\n      <td>2.8</td>\n    </tr>\n    <tr>\n      <th>2</th>\n      <td>河    北</td>\n      <td>20813492</td>\n      <td>20395116</td>\n      <td>418376</td>\n      <td>71854210</td>\n      <td>36430286</td>\n      <td>35423924</td>\n      <td>102.84</td>\n      <td>68538709</td>\n      <td>34552649</td>\n      <td>33986060</td>\n      <td>101.67</td>\n      <td>3315501</td>\n      <td>1877637</td>\n      <td>1437864</td>\n      <td>130.59</td>\n      <td>3.36</td>\n    </tr>\n    <tr>\n      <th>3</th>\n      <td>山    西</td>\n      <td>10654162</td>\n      <td>10330207</td>\n      <td>323955</td>\n      <td>35712101</td>\n      <td>18338760</td>\n      <td>17373341</td>\n      <td>105.56</td>\n      <td>33484131</td>\n      <td>16988087</td>\n      <td>16496044</td>\n      <td>102.98</td>\n      <td>2227970</td>\n      <td>1350673</td>\n      <td>877297</td>\n      <td>153.96</td>\n      <td>3.24</td>\n    </tr>\n    <tr>\n      <th>4</th>\n      <td>内 蒙 古</td>\n      <td>8470472</td>\n      <td>8205498</td>\n      <td>264974</td>\n      <td>24706291</td>\n      <td>12838243</td>\n      <td>11868048</td>\n      <td>108.17</td>\n      <td>23071690</td>\n      <td>11725291</td>\n      <td>11346399</td>\n      <td>103.34</td>\n      <td>1634601</td>\n      <td>1112952</td>\n      <td>521649</td>\n      <td>213.35</td>\n      <td>2.81</td>\n    </tr>\n    <tr>\n      <th>5</th>\n      <td>辽    宁</td>\n      <td>15334912</td>\n      <td>14994046</td>\n      <td>340866</td>\n      <td>43746323</td>\n      <td>22147745</td>\n      <td>21598578</td>\n      <td>102.54</td>\n      <td>41755874</td>\n      <td>20956756</td>\n      <td>20799118</td>\n      <td>100.76</td>\n      <td>1990449</td>\n      <td>1190989</td>\n      <td>799460</td>\n      <td>148.97</td>\n      <td>2.78</td>\n    </tr>\n    <tr>\n      <th>6</th>\n      <td>吉    林</td>\n      <td>9162183</td>\n      <td>8998492</td>\n      <td>163691</td>\n      <td>27452815</td>\n      <td>13907218</td>\n      <td>13545597</td>\n      <td>102.67</td>\n      <td>26457769</td>\n      <td>13358390</td>\n      <td>13099379</td>\n      <td>101.98</td>\n      <td>995046</td>\n      <td>548828</td>\n      <td>446218</td>\n      <td>123</td>\n      <td>2.94</td>\n    </tr>\n    <tr>\n      <th>7</th>\n      <td>黑 龙 江</td>\n      <td>13192935</td>\n      <td>13000088</td>\n      <td>192847</td>\n      <td>38313991</td>\n      <td>19426106</td>\n      <td>18887885</td>\n      <td>102.85</td>\n      <td>36884039</td>\n      <td>18603181</td>\n      <td>18280858</td>\n      <td>101.76</td>\n      <td>1429952</td>\n      <td>822925</td>\n      <td>607027</td>\n      <td>135.57</td>\n      <td>2.84</td>\n    </tr>\n    <tr>\n      <th>8</th>\n      <td>上    海</td>\n      <td>8893483</td>\n      <td>8253257</td>\n      <td>640226</td>\n      <td>23019196</td>\n      <td>11854916</td>\n      <td>11164280</td>\n      <td>106.19</td>\n      <td>20593430</td>\n      <td>10318168</td>\n      <td>10275262</td>\n      <td>100.42</td>\n      <td>2425766</td>\n      <td>1536748</td>\n      <td>889018</td>\n      <td>172.86</td>\n      <td>2.5</td>\n    </tr>\n    <tr>\n      <th>9</th>\n      <td>江    苏</td>\n      <td>25635291</td>\n      <td>24381782</td>\n      <td>1253509</td>\n      <td>78660941</td>\n      <td>39626707</td>\n      <td>39034234</td>\n      <td>101.52</td>\n      <td>71685839</td>\n      <td>35542124</td>\n      <td>36143715</td>\n      <td>98.34</td>\n      <td>6975102</td>\n      <td>4084583</td>\n      <td>2890519</td>\n      <td>141.31</td>\n      <td>2.94</td>\n    </tr>\n    <tr>\n      <th>10</th>\n      <td>浙    江</td>\n      <td>20060115</td>\n      <td>18854021</td>\n      <td>1206094</td>\n      <td>54426891</td>\n      <td>27965641</td>\n      <td>26461250</td>\n      <td>105.69</td>\n      <td>49425543</td>\n      <td>25037320</td>\n      <td>24388223</td>\n      <td>102.66</td>\n      <td>5001348</td>\n      <td>2928321</td>\n      <td>2073027</td>\n      <td>141.26</td>\n      <td>2.62</td>\n    </tr>\n    <tr>\n      <th>11</th>\n      <td>安    徽</td>\n      <td>19322432</td>\n      <td>18861956</td>\n      <td>460476</td>\n      <td>59500468</td>\n      <td>30245513</td>\n      <td>29254955</td>\n      <td>103.39</td>\n      <td>56493891</td>\n      <td>28462853</td>\n      <td>28031038</td>\n      <td>101.54</td>\n      <td>3006577</td>\n      <td>1782660</td>\n      <td>1223917</td>\n      <td>145.65</td>\n      <td>3</td>\n    </tr>\n    <tr>\n      <th>12</th>\n      <td>福    建</td>\n      <td>11971873</td>\n      <td>11206317</td>\n      <td>765556</td>\n      <td>36894217</td>\n      <td>18981054</td>\n      <td>17913163</td>\n      <td>105.96</td>\n      <td>33397663</td>\n      <td>16901083</td>\n      <td>16496580</td>\n      <td>102.45</td>\n      <td>3496554</td>\n      <td>2079971</td>\n      <td>1416583</td>\n      <td>146.83</td>\n      <td>2.98</td>\n    </tr>\n    <tr>\n      <th>13</th>\n      <td>江    西</td>\n      <td>11847841</td>\n      <td>11542527</td>\n      <td>305314</td>\n      <td>44567797</td>\n      <td>23003521</td>\n      <td>21564276</td>\n      <td>106.67</td>\n      <td>42181417</td>\n      <td>21600070</td>\n      <td>20581347</td>\n      <td>104.95</td>\n      <td>2386380</td>\n      <td>1403451</td>\n      <td>982929</td>\n      <td>142.78</td>\n      <td>3.65</td>\n    </tr>\n    <tr>\n      <th>14</th>\n      <td>山    东</td>\n      <td>30794664</td>\n      <td>30105454</td>\n      <td>689210</td>\n      <td>95792719</td>\n      <td>48446944</td>\n      <td>47345775</td>\n      <td>102.33</td>\n      <td>89855501</td>\n      <td>45023357</td>\n      <td>44832144</td>\n      <td>100.43</td>\n      <td>5937218</td>\n      <td>3423587</td>\n      <td>2513631</td>\n      <td>136.2</td>\n      <td>2.98</td>\n    </tr>\n    <tr>\n      <th>15</th>\n      <td>河    南</td>\n      <td>26404973</td>\n      <td>25928729</td>\n      <td>476244</td>\n      <td>94029939</td>\n      <td>47493063</td>\n      <td>46536876</td>\n      <td>102.05</td>\n      <td>90028072</td>\n      <td>45262137</td>\n      <td>44765935</td>\n      <td>101.11</td>\n      <td>4001867</td>\n      <td>2230926</td>\n      <td>1770941</td>\n      <td>125.97</td>\n      <td>3.47</td>\n    </tr>\n    <tr>\n      <th>16</th>\n      <td>湖    北</td>\n      <td>17253385</td>\n      <td>16695121</td>\n      <td>558264</td>\n      <td>57237727</td>\n      <td>29391247</td>\n      <td>27846480</td>\n      <td>105.55</td>\n      <td>52745625</td>\n      <td>26826301</td>\n      <td>25919324</td>\n      <td>103.5</td>\n      <td>4492102</td>\n      <td>2564946</td>\n      <td>1927156</td>\n      <td>133.09</td>\n      <td>3.16</td>\n    </tr>\n    <tr>\n      <th>17</th>\n      <td>湖    南</td>\n      <td>19029894</td>\n      <td>18625710</td>\n      <td>404184</td>\n      <td>65700762</td>\n      <td>33776459</td>\n      <td>31924303</td>\n      <td>105.8</td>\n      <td>61911446</td>\n      <td>31611459</td>\n      <td>30299987</td>\n      <td>104.33</td>\n      <td>3789316</td>\n      <td>2165000</td>\n      <td>1624316</td>\n      <td>133.29</td>\n      <td>3.32</td>\n    </tr>\n    <tr>\n      <th>18</th>\n      <td>广    东</td>\n      <td>32222752</td>\n      <td>28630609</td>\n      <td>3592143</td>\n      <td>104320459</td>\n      <td>54400538</td>\n      <td>49919921</td>\n      <td>108.98</td>\n      <td>88979305</td>\n      <td>45465958</td>\n      <td>43513347</td>\n      <td>104.49</td>\n      <td>15341154</td>\n      <td>8934580</td>\n      <td>6406574</td>\n      <td>139.46</td>\n      <td>3.11</td>\n    </tr>\n    <tr>\n      <th>19</th>\n      <td>广    西</td>\n      <td>13467663</td>\n      <td>13151404</td>\n      <td>316259</td>\n      <td>46023761</td>\n      <td>23924704</td>\n      <td>22099057</td>\n      <td>108.26</td>\n      <td>43970320</td>\n      <td>22733969</td>\n      <td>21236351</td>\n      <td>107.05</td>\n      <td>2053441</td>\n      <td>1190735</td>\n      <td>862706</td>\n      <td>138.02</td>\n      <td>3.34</td>\n    </tr>\n    <tr>\n      <th>20</th>\n      <td>海    南</td>\n      <td>2451819</td>\n      <td>2331149</td>\n      <td>120670</td>\n      <td>8671485</td>\n      <td>4592283</td>\n      <td>4079202</td>\n      <td>112.58</td>\n      <td>8060519</td>\n      <td>4231490</td>\n      <td>3829029</td>\n      <td>110.51</td>\n      <td>610966</td>\n      <td>360793</td>\n      <td>250173</td>\n      <td>144.22</td>\n      <td>3.46</td>\n    </tr>\n    <tr>\n      <th>21</th>\n      <td>重    庆</td>\n      <td>10272559</td>\n      <td>10000965</td>\n      <td>271594</td>\n      <td>28846170</td>\n      <td>14608870</td>\n      <td>14237300</td>\n      <td>102.61</td>\n      <td>26994017</td>\n      <td>13542424</td>\n      <td>13451593</td>\n      <td>100.68</td>\n      <td>1852153</td>\n      <td>1066446</td>\n      <td>785707</td>\n      <td>135.73</td>\n      <td>2.7</td>\n    </tr>\n    <tr>\n      <th>22</th>\n      <td>四    川</td>\n      <td>26383458</td>\n      <td>25794161</td>\n      <td>589297</td>\n      <td>80417528</td>\n      <td>40827834</td>\n      <td>39589694</td>\n      <td>103.13</td>\n      <td>76207174</td>\n      <td>38380622</td>\n      <td>37826552</td>\n      <td>101.46</td>\n      <td>4210354</td>\n      <td>2447212</td>\n      <td>1763142</td>\n      <td>138.8</td>\n      <td>2.95</td>\n    </tr>\n    <tr>\n      <th>23</th>\n      <td>贵    州</td>\n      <td>10745630</td>\n      <td>10558461</td>\n      <td>187169</td>\n      <td>34748556</td>\n      <td>17905471</td>\n      <td>16843085</td>\n      <td>106.31</td>\n      <td>33571308</td>\n      <td>17153547</td>\n      <td>16417761</td>\n      <td>104.48</td>\n      <td>1177248</td>\n      <td>751924</td>\n      <td>425324</td>\n      <td>176.79</td>\n      <td>3.18</td>\n    </tr>\n    <tr>\n      <th>24</th>\n      <td>云    南</td>\n      <td>12695396</td>\n      <td>12339961</td>\n      <td>355435</td>\n      <td>45966766</td>\n      <td>23856696</td>\n      <td>22110070</td>\n      <td>107.9</td>\n      <td>43626674</td>\n      <td>22391253</td>\n      <td>21235421</td>\n      <td>105.44</td>\n      <td>2340092</td>\n      <td>1465443</td>\n      <td>874649</td>\n      <td>167.55</td>\n      <td>3.54</td>\n    </tr>\n    <tr>\n      <th>25</th>\n      <td>西    藏</td>\n      <td>689521</td>\n      <td>670838</td>\n      <td>18683</td>\n      <td>3002165</td>\n      <td>1542652</td>\n      <td>1459513</td>\n      <td>105.7</td>\n      <td>2837769</td>\n      <td>1429541</td>\n      <td>1408228</td>\n      <td>101.51</td>\n      <td>164396</td>\n      <td>113111</td>\n      <td>51285</td>\n      <td>220.55</td>\n      <td>4.23</td>\n    </tr>\n    <tr>\n      <th>26</th>\n      <td>陕    西</td>\n      <td>11084516</td>\n      <td>10718563</td>\n      <td>365953</td>\n      <td>37327379</td>\n      <td>19287575</td>\n      <td>18039804</td>\n      <td>106.92</td>\n      <td>34462115</td>\n      <td>17556257</td>\n      <td>16905858</td>\n      <td>103.85</td>\n      <td>2865264</td>\n      <td>1731318</td>\n      <td>1133946</td>\n      <td>152.68</td>\n      <td>3.22</td>\n    </tr>\n    <tr>\n      <th>27</th>\n      <td>甘    肃</td>\n      <td>7113833</td>\n      <td>6900369</td>\n      <td>213464</td>\n      <td>25575263</td>\n      <td>13064193</td>\n      <td>12511070</td>\n      <td>104.42</td>\n      <td>24052594</td>\n      <td>12141360</td>\n      <td>11911234</td>\n      <td>101.93</td>\n      <td>1522669</td>\n      <td>922833</td>\n      <td>599836</td>\n      <td>153.85</td>\n      <td>3.49</td>\n    </tr>\n    <tr>\n      <th>28</th>\n      <td>青    海</td>\n      <td>1586635</td>\n      <td>1529039</td>\n      <td>57596</td>\n      <td>5626723</td>\n      <td>2913793</td>\n      <td>2712930</td>\n      <td>107.4</td>\n      <td>5284525</td>\n      <td>2675766</td>\n      <td>2608759</td>\n      <td>102.57</td>\n      <td>342198</td>\n      <td>238027</td>\n      <td>104171</td>\n      <td>228.5</td>\n      <td>3.46</td>\n    </tr>\n    <tr>\n      <th>29</th>\n      <td>宁    夏</td>\n      <td>1945064</td>\n      <td>1882205</td>\n      <td>62859</td>\n      <td>6301350</td>\n      <td>3227404</td>\n      <td>3073946</td>\n      <td>104.99</td>\n      <td>5970133</td>\n      <td>3015722</td>\n      <td>2954411</td>\n      <td>102.08</td>\n      <td>331217</td>\n      <td>211682</td>\n      <td>119535</td>\n      <td>177.09</td>\n      <td>3.17</td>\n    </tr>\n    <tr>\n      <th>30</th>\n      <td>新    疆</td>\n      <td>6902850</td>\n      <td>6705607</td>\n      <td>197243</td>\n      <td>21815815</td>\n      <td>11270147</td>\n      <td>10545668</td>\n      <td>106.87</td>\n      <td>20802249</td>\n      <td>10620499</td>\n      <td>10181750</td>\n      <td>104.31</td>\n      <td>1013566</td>\n      <td>649648</td>\n      <td>363918</td>\n      <td>178.51</td>\n      <td>3.1</td>\n    </tr>\n  </tbody>\n</table>\n</div>"
     },
     "execution_count": 117,
     "metadata": {},
     "output_type": "execute_result"
    }
   ],
   "source": [
    "df = pd.DataFrame(arr1,columns=lis)\n",
    "\n",
    "df"
   ],
   "metadata": {
    "collapsed": false,
    "pycharm": {
     "name": "#%%\n"
    }
   }
  },
  {
   "cell_type": "code",
   "execution_count": 100,
   "outputs": [],
   "source": [
    "df.to_csv('各地区户数、人口数和性别比.csv',encoding='utf-8')"
   ],
   "metadata": {
    "collapsed": false,
    "pycharm": {
     "name": "#%%\n"
    }
   }
  },
  {
   "cell_type": "code",
   "execution_count": 93,
   "outputs": [
    {
     "data": {
      "text/plain": "     Area AccountTotal\n1  天    津      3963604\n4   内 蒙 古      8470472",
      "text/html": "<div>\n<style scoped>\n    .dataframe tbody tr th:only-of-type {\n        vertical-align: middle;\n    }\n\n    .dataframe tbody tr th {\n        vertical-align: top;\n    }\n\n    .dataframe thead th {\n        text-align: right;\n    }\n</style>\n<table border=\"1\" class=\"dataframe\">\n  <thead>\n    <tr style=\"text-align: right;\">\n      <th></th>\n      <th>Area</th>\n      <th>AccountTotal</th>\n    </tr>\n  </thead>\n  <tbody>\n    <tr>\n      <th>1</th>\n      <td>天    津</td>\n      <td>3963604</td>\n    </tr>\n    <tr>\n      <th>4</th>\n      <td>内 蒙 古</td>\n      <td>8470472</td>\n    </tr>\n  </tbody>\n</table>\n</div>"
     },
     "execution_count": 93,
     "metadata": {},
     "output_type": "execute_result"
    }
   ],
   "source": [
    "df.loc[[1,4],['Area','AccountTotal']]"
   ],
   "metadata": {
    "collapsed": false,
    "pycharm": {
     "name": "#%%\n"
    }
   }
  },
  {
   "cell_type": "code",
   "execution_count": 103,
   "outputs": [
    {
     "data": {
      "text/plain": "      Area AccountTotal Avg_Family_Size\n2   河    北     20813492            3.36\n3   山    西     10654162            3.24\n5   辽    宁     15334912            2.78\n7    黑 龙 江     13192935            2.84\n9   江    苏     25635291            2.94\n10  浙    江     20060115            2.62\n11  安    徽     19322432               3\n12  福    建     11971873            2.98\n13  江    西     11847841            3.65\n14  山    东     30794664            2.98\n15  河    南     26404973            3.47\n16  湖    北     17253385            3.16\n17  湖    南     19029894            3.32\n18  广    东     32222752            3.11\n19  广    西     13467663            3.34\n21  重    庆     10272559             2.7\n22  四    川     26383458            2.95\n23  贵    州     10745630            3.18\n24  云    南     12695396            3.54\n26  陕    西     11084516            3.22",
      "text/html": "<div>\n<style scoped>\n    .dataframe tbody tr th:only-of-type {\n        vertical-align: middle;\n    }\n\n    .dataframe tbody tr th {\n        vertical-align: top;\n    }\n\n    .dataframe thead th {\n        text-align: right;\n    }\n</style>\n<table border=\"1\" class=\"dataframe\">\n  <thead>\n    <tr style=\"text-align: right;\">\n      <th></th>\n      <th>Area</th>\n      <th>AccountTotal</th>\n      <th>Avg_Family_Size</th>\n    </tr>\n  </thead>\n  <tbody>\n    <tr>\n      <th>2</th>\n      <td>河    北</td>\n      <td>20813492</td>\n      <td>3.36</td>\n    </tr>\n    <tr>\n      <th>3</th>\n      <td>山    西</td>\n      <td>10654162</td>\n      <td>3.24</td>\n    </tr>\n    <tr>\n      <th>5</th>\n      <td>辽    宁</td>\n      <td>15334912</td>\n      <td>2.78</td>\n    </tr>\n    <tr>\n      <th>7</th>\n      <td>黑 龙 江</td>\n      <td>13192935</td>\n      <td>2.84</td>\n    </tr>\n    <tr>\n      <th>9</th>\n      <td>江    苏</td>\n      <td>25635291</td>\n      <td>2.94</td>\n    </tr>\n    <tr>\n      <th>10</th>\n      <td>浙    江</td>\n      <td>20060115</td>\n      <td>2.62</td>\n    </tr>\n    <tr>\n      <th>11</th>\n      <td>安    徽</td>\n      <td>19322432</td>\n      <td>3</td>\n    </tr>\n    <tr>\n      <th>12</th>\n      <td>福    建</td>\n      <td>11971873</td>\n      <td>2.98</td>\n    </tr>\n    <tr>\n      <th>13</th>\n      <td>江    西</td>\n      <td>11847841</td>\n      <td>3.65</td>\n    </tr>\n    <tr>\n      <th>14</th>\n      <td>山    东</td>\n      <td>30794664</td>\n      <td>2.98</td>\n    </tr>\n    <tr>\n      <th>15</th>\n      <td>河    南</td>\n      <td>26404973</td>\n      <td>3.47</td>\n    </tr>\n    <tr>\n      <th>16</th>\n      <td>湖    北</td>\n      <td>17253385</td>\n      <td>3.16</td>\n    </tr>\n    <tr>\n      <th>17</th>\n      <td>湖    南</td>\n      <td>19029894</td>\n      <td>3.32</td>\n    </tr>\n    <tr>\n      <th>18</th>\n      <td>广    东</td>\n      <td>32222752</td>\n      <td>3.11</td>\n    </tr>\n    <tr>\n      <th>19</th>\n      <td>广    西</td>\n      <td>13467663</td>\n      <td>3.34</td>\n    </tr>\n    <tr>\n      <th>21</th>\n      <td>重    庆</td>\n      <td>10272559</td>\n      <td>2.7</td>\n    </tr>\n    <tr>\n      <th>22</th>\n      <td>四    川</td>\n      <td>26383458</td>\n      <td>2.95</td>\n    </tr>\n    <tr>\n      <th>23</th>\n      <td>贵    州</td>\n      <td>10745630</td>\n      <td>3.18</td>\n    </tr>\n    <tr>\n      <th>24</th>\n      <td>云    南</td>\n      <td>12695396</td>\n      <td>3.54</td>\n    </tr>\n    <tr>\n      <th>26</th>\n      <td>陕    西</td>\n      <td>11084516</td>\n      <td>3.22</td>\n    </tr>\n  </tbody>\n</table>\n</div>"
     },
     "execution_count": 103,
     "metadata": {},
     "output_type": "execute_result"
    }
   ],
   "source": [
    "df.loc[df['AccountTotal']>10000000,['Area','AccountTotal','Avg_Family_Size']]\n"
   ],
   "metadata": {
    "collapsed": false,
    "pycharm": {
     "name": "#%%\n"
    }
   }
  },
  {
   "cell_type": "code",
   "execution_count": 107,
   "outputs": [
    {
     "data": {
      "text/plain": "   AccountTotal Population_Total\n3      10654162         35712101\n4       8470472         24706291\n5      15334912         43746323\n6       9162183         27452815\n7      13192935         38313991\n8       8893483         23019196\n9      25635291         78660941\n10     20060115         54426891\n11     19322432         59500468\n12     11971873         36894217\n13     11847841         44567797\n14     30794664         95792719\n15     26404973         94029939\n16     17253385         57237727\n17     19029894         65700762\n18     32222752        104320459\n19     13467663         46023761\n20      2451819          8671485\n21     10272559         28846170\n22     26383458         80417528\n23     10745630         34748556\n24     12695396         45966766\n25       689521          3002165\n26     11084516         37327379\n27      7113833         25575263\n28      1586635          5626723\n29      1945064          6301350\n30      6902850         21815815",
      "text/html": "<div>\n<style scoped>\n    .dataframe tbody tr th:only-of-type {\n        vertical-align: middle;\n    }\n\n    .dataframe tbody tr th {\n        vertical-align: top;\n    }\n\n    .dataframe thead th {\n        text-align: right;\n    }\n</style>\n<table border=\"1\" class=\"dataframe\">\n  <thead>\n    <tr style=\"text-align: right;\">\n      <th></th>\n      <th>AccountTotal</th>\n      <th>Population_Total</th>\n    </tr>\n  </thead>\n  <tbody>\n    <tr>\n      <th>3</th>\n      <td>10654162</td>\n      <td>35712101</td>\n    </tr>\n    <tr>\n      <th>4</th>\n      <td>8470472</td>\n      <td>24706291</td>\n    </tr>\n    <tr>\n      <th>5</th>\n      <td>15334912</td>\n      <td>43746323</td>\n    </tr>\n    <tr>\n      <th>6</th>\n      <td>9162183</td>\n      <td>27452815</td>\n    </tr>\n    <tr>\n      <th>7</th>\n      <td>13192935</td>\n      <td>38313991</td>\n    </tr>\n    <tr>\n      <th>8</th>\n      <td>8893483</td>\n      <td>23019196</td>\n    </tr>\n    <tr>\n      <th>9</th>\n      <td>25635291</td>\n      <td>78660941</td>\n    </tr>\n    <tr>\n      <th>10</th>\n      <td>20060115</td>\n      <td>54426891</td>\n    </tr>\n    <tr>\n      <th>11</th>\n      <td>19322432</td>\n      <td>59500468</td>\n    </tr>\n    <tr>\n      <th>12</th>\n      <td>11971873</td>\n      <td>36894217</td>\n    </tr>\n    <tr>\n      <th>13</th>\n      <td>11847841</td>\n      <td>44567797</td>\n    </tr>\n    <tr>\n      <th>14</th>\n      <td>30794664</td>\n      <td>95792719</td>\n    </tr>\n    <tr>\n      <th>15</th>\n      <td>26404973</td>\n      <td>94029939</td>\n    </tr>\n    <tr>\n      <th>16</th>\n      <td>17253385</td>\n      <td>57237727</td>\n    </tr>\n    <tr>\n      <th>17</th>\n      <td>19029894</td>\n      <td>65700762</td>\n    </tr>\n    <tr>\n      <th>18</th>\n      <td>32222752</td>\n      <td>104320459</td>\n    </tr>\n    <tr>\n      <th>19</th>\n      <td>13467663</td>\n      <td>46023761</td>\n    </tr>\n    <tr>\n      <th>20</th>\n      <td>2451819</td>\n      <td>8671485</td>\n    </tr>\n    <tr>\n      <th>21</th>\n      <td>10272559</td>\n      <td>28846170</td>\n    </tr>\n    <tr>\n      <th>22</th>\n      <td>26383458</td>\n      <td>80417528</td>\n    </tr>\n    <tr>\n      <th>23</th>\n      <td>10745630</td>\n      <td>34748556</td>\n    </tr>\n    <tr>\n      <th>24</th>\n      <td>12695396</td>\n      <td>45966766</td>\n    </tr>\n    <tr>\n      <th>25</th>\n      <td>689521</td>\n      <td>3002165</td>\n    </tr>\n    <tr>\n      <th>26</th>\n      <td>11084516</td>\n      <td>37327379</td>\n    </tr>\n    <tr>\n      <th>27</th>\n      <td>7113833</td>\n      <td>25575263</td>\n    </tr>\n    <tr>\n      <th>28</th>\n      <td>1586635</td>\n      <td>5626723</td>\n    </tr>\n    <tr>\n      <th>29</th>\n      <td>1945064</td>\n      <td>6301350</td>\n    </tr>\n    <tr>\n      <th>30</th>\n      <td>6902850</td>\n      <td>21815815</td>\n    </tr>\n  </tbody>\n</table>\n</div>"
     },
     "execution_count": 107,
     "metadata": {},
     "output_type": "execute_result"
    }
   ],
   "source": [
    "df.iloc[3:,[1,4]]\n"
   ],
   "metadata": {
    "collapsed": false,
    "pycharm": {
     "name": "#%%\n"
    }
   }
  },
  {
   "cell_type": "code",
   "execution_count": 118,
   "outputs": [
    {
     "data": {
      "text/plain": "      Area AccountTotal AccountFamily AccountGroup Population_Total      Male  \\\n0   北    京      7355291       6680552       674739         19612368  10126430   \n1   天    津      3963604       3661992       301612         12938693   6907091   \n2   河    北     20813492      20395116       418376         71854210  36430286   \n3   山    西     10654162      10330207       323955         35712101  18338760   \n4    内 蒙 古      8470472       8205498       264974         24706291  12838243   \n5   辽    宁     15334912      14994046       340866         43746323  22147745   \n6   吉    林      9162183       8998492       163691         27452815  13907218   \n7    黑 龙 江     13192935      13000088       192847         38313991  19426106   \n8   上    海      8893483       8253257       640226         23019196  11854916   \n9   江    苏     25635291      24381782      1253509         78660941  39626707   \n10  浙    江     20060115      18854021      1206094         54426891  27965641   \n11  安    徽     19322432      18861956       460476         59500468  30245513   \n12  福    建     11971873      11206317       765556         36894217  18981054   \n13  江    西     11847841      11542527       305314         44567797  23003521   \n14  山    东     30794664      30105454       689210         95792719  48446944   \n15  河    南     26404973      25928729       476244         94029939  47493063   \n16  湖    北     17253385      16695121       558264         57237727  29391247   \n17  湖    南     19029894      18625710       404184         65700762  33776459   \n18  广    东     32222752      28630609      3592143        104320459  54400538   \n19  广    西     13467663      13151404       316259         46023761  23924704   \n20  海    南      2451819       2331149       120670          8671485   4592283   \n21  重    庆     10272559      10000965       271594         28846170  14608870   \n22  四    川     26383458      25794161       589297         80417528  40827834   \n23  贵    州     10745630      10558461       187169         34748556  17905471   \n24  云    南     12695396      12339961       355435         45966766  23856696   \n25  西    藏       689521        670838        18683          3002165   1542652   \n26  陕    西     11084516      10718563       365953         37327379  19287575   \n27  甘    肃      7113833       6900369       213464         25575263  13064193   \n28  青    海      1586635       1529039        57596          5626723   2913793   \n29  宁    夏      1945064       1882205        62859          6301350   3227404   \n30  新    疆      6902850       6705607       197243         21815815  11270147   \n\n      Female M/F_Pro(%) Family_Total    F_Male  F_Female F_M/F_Pro(%)  \\\n0    9485938     106.75     16389723   8173161   8216562        99.47   \n1    6031602     114.52     10262186   5129604   5132582        99.94   \n2   35423924     102.84     68538709  34552649  33986060       101.67   \n3   17373341     105.56     33484131  16988087  16496044       102.98   \n4   11868048     108.17     23071690  11725291  11346399       103.34   \n5   21598578     102.54     41755874  20956756  20799118       100.76   \n6   13545597     102.67     26457769  13358390  13099379       101.98   \n7   18887885     102.85     36884039  18603181  18280858       101.76   \n8   11164280     106.19     20593430  10318168  10275262       100.42   \n9   39034234     101.52     71685839  35542124  36143715        98.34   \n10  26461250     105.69     49425543  25037320  24388223       102.66   \n11  29254955     103.39     56493891  28462853  28031038       101.54   \n12  17913163     105.96     33397663  16901083  16496580       102.45   \n13  21564276     106.67     42181417  21600070  20581347       104.95   \n14  47345775     102.33     89855501  45023357  44832144       100.43   \n15  46536876     102.05     90028072  45262137  44765935       101.11   \n16  27846480     105.55     52745625  26826301  25919324        103.5   \n17  31924303      105.8     61911446  31611459  30299987       104.33   \n18  49919921     108.98     88979305  45465958  43513347       104.49   \n19  22099057     108.26     43970320  22733969  21236351       107.05   \n20   4079202     112.58      8060519   4231490   3829029       110.51   \n21  14237300     102.61     26994017  13542424  13451593       100.68   \n22  39589694     103.13     76207174  38380622  37826552       101.46   \n23  16843085     106.31     33571308  17153547  16417761       104.48   \n24  22110070      107.9     43626674  22391253  21235421       105.44   \n25   1459513      105.7      2837769   1429541   1408228       101.51   \n26  18039804     106.92     34462115  17556257  16905858       103.85   \n27  12511070     104.42     24052594  12141360  11911234       101.93   \n28   2712930      107.4      5284525   2675766   2608759       102.57   \n29   3073946     104.99      5970133   3015722   2954411       102.08   \n30  10545668     106.87     20802249  10620499  10181750       104.31   \n\n   Group_Total   G_Male G_Female G_M/F_Pro(%) Avg_Family_Size  \n0      3222645  1953269  1269376       153.88            2.45  \n1      2676507  1777487   899020       197.71             2.8  \n2      3315501  1877637  1437864       130.59            3.36  \n3      2227970  1350673   877297       153.96            3.24  \n4      1634601  1112952   521649       213.35            2.81  \n5      1990449  1190989   799460       148.97            2.78  \n6       995046   548828   446218          123            2.94  \n7      1429952   822925   607027       135.57            2.84  \n8      2425766  1536748   889018       172.86             2.5  \n9      6975102  4084583  2890519       141.31            2.94  \n10     5001348  2928321  2073027       141.26            2.62  \n11     3006577  1782660  1223917       145.65               3  \n12     3496554  2079971  1416583       146.83            2.98  \n13     2386380  1403451   982929       142.78            3.65  \n14     5937218  3423587  2513631        136.2            2.98  \n15     4001867  2230926  1770941       125.97            3.47  \n16     4492102  2564946  1927156       133.09            3.16  \n17     3789316  2165000  1624316       133.29            3.32  \n18    15341154  8934580  6406574       139.46            3.11  \n19     2053441  1190735   862706       138.02            3.34  \n20      610966   360793   250173       144.22            3.46  \n21     1852153  1066446   785707       135.73             2.7  \n22     4210354  2447212  1763142        138.8            2.95  \n23     1177248   751924   425324       176.79            3.18  \n24     2340092  1465443   874649       167.55            3.54  \n25      164396   113111    51285       220.55            4.23  \n26     2865264  1731318  1133946       152.68            3.22  \n27     1522669   922833   599836       153.85            3.49  \n28      342198   238027   104171        228.5            3.46  \n29      331217   211682   119535       177.09            3.17  \n30     1013566   649648   363918       178.51             3.1  ",
      "text/html": "<div>\n<style scoped>\n    .dataframe tbody tr th:only-of-type {\n        vertical-align: middle;\n    }\n\n    .dataframe tbody tr th {\n        vertical-align: top;\n    }\n\n    .dataframe thead th {\n        text-align: right;\n    }\n</style>\n<table border=\"1\" class=\"dataframe\">\n  <thead>\n    <tr style=\"text-align: right;\">\n      <th></th>\n      <th>Area</th>\n      <th>AccountTotal</th>\n      <th>AccountFamily</th>\n      <th>AccountGroup</th>\n      <th>Population_Total</th>\n      <th>Male</th>\n      <th>Female</th>\n      <th>M/F_Pro(%)</th>\n      <th>Family_Total</th>\n      <th>F_Male</th>\n      <th>F_Female</th>\n      <th>F_M/F_Pro(%)</th>\n      <th>Group_Total</th>\n      <th>G_Male</th>\n      <th>G_Female</th>\n      <th>G_M/F_Pro(%)</th>\n      <th>Avg_Family_Size</th>\n    </tr>\n  </thead>\n  <tbody>\n    <tr>\n      <th>0</th>\n      <td>北    京</td>\n      <td>7355291</td>\n      <td>6680552</td>\n      <td>674739</td>\n      <td>19612368</td>\n      <td>10126430</td>\n      <td>9485938</td>\n      <td>106.75</td>\n      <td>16389723</td>\n      <td>8173161</td>\n      <td>8216562</td>\n      <td>99.47</td>\n      <td>3222645</td>\n      <td>1953269</td>\n      <td>1269376</td>\n      <td>153.88</td>\n      <td>2.45</td>\n    </tr>\n    <tr>\n      <th>1</th>\n      <td>天    津</td>\n      <td>3963604</td>\n      <td>3661992</td>\n      <td>301612</td>\n      <td>12938693</td>\n      <td>6907091</td>\n      <td>6031602</td>\n      <td>114.52</td>\n      <td>10262186</td>\n      <td>5129604</td>\n      <td>5132582</td>\n      <td>99.94</td>\n      <td>2676507</td>\n      <td>1777487</td>\n      <td>899020</td>\n      <td>197.71</td>\n      <td>2.8</td>\n    </tr>\n    <tr>\n      <th>2</th>\n      <td>河    北</td>\n      <td>20813492</td>\n      <td>20395116</td>\n      <td>418376</td>\n      <td>71854210</td>\n      <td>36430286</td>\n      <td>35423924</td>\n      <td>102.84</td>\n      <td>68538709</td>\n      <td>34552649</td>\n      <td>33986060</td>\n      <td>101.67</td>\n      <td>3315501</td>\n      <td>1877637</td>\n      <td>1437864</td>\n      <td>130.59</td>\n      <td>3.36</td>\n    </tr>\n    <tr>\n      <th>3</th>\n      <td>山    西</td>\n      <td>10654162</td>\n      <td>10330207</td>\n      <td>323955</td>\n      <td>35712101</td>\n      <td>18338760</td>\n      <td>17373341</td>\n      <td>105.56</td>\n      <td>33484131</td>\n      <td>16988087</td>\n      <td>16496044</td>\n      <td>102.98</td>\n      <td>2227970</td>\n      <td>1350673</td>\n      <td>877297</td>\n      <td>153.96</td>\n      <td>3.24</td>\n    </tr>\n    <tr>\n      <th>4</th>\n      <td>内 蒙 古</td>\n      <td>8470472</td>\n      <td>8205498</td>\n      <td>264974</td>\n      <td>24706291</td>\n      <td>12838243</td>\n      <td>11868048</td>\n      <td>108.17</td>\n      <td>23071690</td>\n      <td>11725291</td>\n      <td>11346399</td>\n      <td>103.34</td>\n      <td>1634601</td>\n      <td>1112952</td>\n      <td>521649</td>\n      <td>213.35</td>\n      <td>2.81</td>\n    </tr>\n    <tr>\n      <th>5</th>\n      <td>辽    宁</td>\n      <td>15334912</td>\n      <td>14994046</td>\n      <td>340866</td>\n      <td>43746323</td>\n      <td>22147745</td>\n      <td>21598578</td>\n      <td>102.54</td>\n      <td>41755874</td>\n      <td>20956756</td>\n      <td>20799118</td>\n      <td>100.76</td>\n      <td>1990449</td>\n      <td>1190989</td>\n      <td>799460</td>\n      <td>148.97</td>\n      <td>2.78</td>\n    </tr>\n    <tr>\n      <th>6</th>\n      <td>吉    林</td>\n      <td>9162183</td>\n      <td>8998492</td>\n      <td>163691</td>\n      <td>27452815</td>\n      <td>13907218</td>\n      <td>13545597</td>\n      <td>102.67</td>\n      <td>26457769</td>\n      <td>13358390</td>\n      <td>13099379</td>\n      <td>101.98</td>\n      <td>995046</td>\n      <td>548828</td>\n      <td>446218</td>\n      <td>123</td>\n      <td>2.94</td>\n    </tr>\n    <tr>\n      <th>7</th>\n      <td>黑 龙 江</td>\n      <td>13192935</td>\n      <td>13000088</td>\n      <td>192847</td>\n      <td>38313991</td>\n      <td>19426106</td>\n      <td>18887885</td>\n      <td>102.85</td>\n      <td>36884039</td>\n      <td>18603181</td>\n      <td>18280858</td>\n      <td>101.76</td>\n      <td>1429952</td>\n      <td>822925</td>\n      <td>607027</td>\n      <td>135.57</td>\n      <td>2.84</td>\n    </tr>\n    <tr>\n      <th>8</th>\n      <td>上    海</td>\n      <td>8893483</td>\n      <td>8253257</td>\n      <td>640226</td>\n      <td>23019196</td>\n      <td>11854916</td>\n      <td>11164280</td>\n      <td>106.19</td>\n      <td>20593430</td>\n      <td>10318168</td>\n      <td>10275262</td>\n      <td>100.42</td>\n      <td>2425766</td>\n      <td>1536748</td>\n      <td>889018</td>\n      <td>172.86</td>\n      <td>2.5</td>\n    </tr>\n    <tr>\n      <th>9</th>\n      <td>江    苏</td>\n      <td>25635291</td>\n      <td>24381782</td>\n      <td>1253509</td>\n      <td>78660941</td>\n      <td>39626707</td>\n      <td>39034234</td>\n      <td>101.52</td>\n      <td>71685839</td>\n      <td>35542124</td>\n      <td>36143715</td>\n      <td>98.34</td>\n      <td>6975102</td>\n      <td>4084583</td>\n      <td>2890519</td>\n      <td>141.31</td>\n      <td>2.94</td>\n    </tr>\n    <tr>\n      <th>10</th>\n      <td>浙    江</td>\n      <td>20060115</td>\n      <td>18854021</td>\n      <td>1206094</td>\n      <td>54426891</td>\n      <td>27965641</td>\n      <td>26461250</td>\n      <td>105.69</td>\n      <td>49425543</td>\n      <td>25037320</td>\n      <td>24388223</td>\n      <td>102.66</td>\n      <td>5001348</td>\n      <td>2928321</td>\n      <td>2073027</td>\n      <td>141.26</td>\n      <td>2.62</td>\n    </tr>\n    <tr>\n      <th>11</th>\n      <td>安    徽</td>\n      <td>19322432</td>\n      <td>18861956</td>\n      <td>460476</td>\n      <td>59500468</td>\n      <td>30245513</td>\n      <td>29254955</td>\n      <td>103.39</td>\n      <td>56493891</td>\n      <td>28462853</td>\n      <td>28031038</td>\n      <td>101.54</td>\n      <td>3006577</td>\n      <td>1782660</td>\n      <td>1223917</td>\n      <td>145.65</td>\n      <td>3</td>\n    </tr>\n    <tr>\n      <th>12</th>\n      <td>福    建</td>\n      <td>11971873</td>\n      <td>11206317</td>\n      <td>765556</td>\n      <td>36894217</td>\n      <td>18981054</td>\n      <td>17913163</td>\n      <td>105.96</td>\n      <td>33397663</td>\n      <td>16901083</td>\n      <td>16496580</td>\n      <td>102.45</td>\n      <td>3496554</td>\n      <td>2079971</td>\n      <td>1416583</td>\n      <td>146.83</td>\n      <td>2.98</td>\n    </tr>\n    <tr>\n      <th>13</th>\n      <td>江    西</td>\n      <td>11847841</td>\n      <td>11542527</td>\n      <td>305314</td>\n      <td>44567797</td>\n      <td>23003521</td>\n      <td>21564276</td>\n      <td>106.67</td>\n      <td>42181417</td>\n      <td>21600070</td>\n      <td>20581347</td>\n      <td>104.95</td>\n      <td>2386380</td>\n      <td>1403451</td>\n      <td>982929</td>\n      <td>142.78</td>\n      <td>3.65</td>\n    </tr>\n    <tr>\n      <th>14</th>\n      <td>山    东</td>\n      <td>30794664</td>\n      <td>30105454</td>\n      <td>689210</td>\n      <td>95792719</td>\n      <td>48446944</td>\n      <td>47345775</td>\n      <td>102.33</td>\n      <td>89855501</td>\n      <td>45023357</td>\n      <td>44832144</td>\n      <td>100.43</td>\n      <td>5937218</td>\n      <td>3423587</td>\n      <td>2513631</td>\n      <td>136.2</td>\n      <td>2.98</td>\n    </tr>\n    <tr>\n      <th>15</th>\n      <td>河    南</td>\n      <td>26404973</td>\n      <td>25928729</td>\n      <td>476244</td>\n      <td>94029939</td>\n      <td>47493063</td>\n      <td>46536876</td>\n      <td>102.05</td>\n      <td>90028072</td>\n      <td>45262137</td>\n      <td>44765935</td>\n      <td>101.11</td>\n      <td>4001867</td>\n      <td>2230926</td>\n      <td>1770941</td>\n      <td>125.97</td>\n      <td>3.47</td>\n    </tr>\n    <tr>\n      <th>16</th>\n      <td>湖    北</td>\n      <td>17253385</td>\n      <td>16695121</td>\n      <td>558264</td>\n      <td>57237727</td>\n      <td>29391247</td>\n      <td>27846480</td>\n      <td>105.55</td>\n      <td>52745625</td>\n      <td>26826301</td>\n      <td>25919324</td>\n      <td>103.5</td>\n      <td>4492102</td>\n      <td>2564946</td>\n      <td>1927156</td>\n      <td>133.09</td>\n      <td>3.16</td>\n    </tr>\n    <tr>\n      <th>17</th>\n      <td>湖    南</td>\n      <td>19029894</td>\n      <td>18625710</td>\n      <td>404184</td>\n      <td>65700762</td>\n      <td>33776459</td>\n      <td>31924303</td>\n      <td>105.8</td>\n      <td>61911446</td>\n      <td>31611459</td>\n      <td>30299987</td>\n      <td>104.33</td>\n      <td>3789316</td>\n      <td>2165000</td>\n      <td>1624316</td>\n      <td>133.29</td>\n      <td>3.32</td>\n    </tr>\n    <tr>\n      <th>18</th>\n      <td>广    东</td>\n      <td>32222752</td>\n      <td>28630609</td>\n      <td>3592143</td>\n      <td>104320459</td>\n      <td>54400538</td>\n      <td>49919921</td>\n      <td>108.98</td>\n      <td>88979305</td>\n      <td>45465958</td>\n      <td>43513347</td>\n      <td>104.49</td>\n      <td>15341154</td>\n      <td>8934580</td>\n      <td>6406574</td>\n      <td>139.46</td>\n      <td>3.11</td>\n    </tr>\n    <tr>\n      <th>19</th>\n      <td>广    西</td>\n      <td>13467663</td>\n      <td>13151404</td>\n      <td>316259</td>\n      <td>46023761</td>\n      <td>23924704</td>\n      <td>22099057</td>\n      <td>108.26</td>\n      <td>43970320</td>\n      <td>22733969</td>\n      <td>21236351</td>\n      <td>107.05</td>\n      <td>2053441</td>\n      <td>1190735</td>\n      <td>862706</td>\n      <td>138.02</td>\n      <td>3.34</td>\n    </tr>\n    <tr>\n      <th>20</th>\n      <td>海    南</td>\n      <td>2451819</td>\n      <td>2331149</td>\n      <td>120670</td>\n      <td>8671485</td>\n      <td>4592283</td>\n      <td>4079202</td>\n      <td>112.58</td>\n      <td>8060519</td>\n      <td>4231490</td>\n      <td>3829029</td>\n      <td>110.51</td>\n      <td>610966</td>\n      <td>360793</td>\n      <td>250173</td>\n      <td>144.22</td>\n      <td>3.46</td>\n    </tr>\n    <tr>\n      <th>21</th>\n      <td>重    庆</td>\n      <td>10272559</td>\n      <td>10000965</td>\n      <td>271594</td>\n      <td>28846170</td>\n      <td>14608870</td>\n      <td>14237300</td>\n      <td>102.61</td>\n      <td>26994017</td>\n      <td>13542424</td>\n      <td>13451593</td>\n      <td>100.68</td>\n      <td>1852153</td>\n      <td>1066446</td>\n      <td>785707</td>\n      <td>135.73</td>\n      <td>2.7</td>\n    </tr>\n    <tr>\n      <th>22</th>\n      <td>四    川</td>\n      <td>26383458</td>\n      <td>25794161</td>\n      <td>589297</td>\n      <td>80417528</td>\n      <td>40827834</td>\n      <td>39589694</td>\n      <td>103.13</td>\n      <td>76207174</td>\n      <td>38380622</td>\n      <td>37826552</td>\n      <td>101.46</td>\n      <td>4210354</td>\n      <td>2447212</td>\n      <td>1763142</td>\n      <td>138.8</td>\n      <td>2.95</td>\n    </tr>\n    <tr>\n      <th>23</th>\n      <td>贵    州</td>\n      <td>10745630</td>\n      <td>10558461</td>\n      <td>187169</td>\n      <td>34748556</td>\n      <td>17905471</td>\n      <td>16843085</td>\n      <td>106.31</td>\n      <td>33571308</td>\n      <td>17153547</td>\n      <td>16417761</td>\n      <td>104.48</td>\n      <td>1177248</td>\n      <td>751924</td>\n      <td>425324</td>\n      <td>176.79</td>\n      <td>3.18</td>\n    </tr>\n    <tr>\n      <th>24</th>\n      <td>云    南</td>\n      <td>12695396</td>\n      <td>12339961</td>\n      <td>355435</td>\n      <td>45966766</td>\n      <td>23856696</td>\n      <td>22110070</td>\n      <td>107.9</td>\n      <td>43626674</td>\n      <td>22391253</td>\n      <td>21235421</td>\n      <td>105.44</td>\n      <td>2340092</td>\n      <td>1465443</td>\n      <td>874649</td>\n      <td>167.55</td>\n      <td>3.54</td>\n    </tr>\n    <tr>\n      <th>25</th>\n      <td>西    藏</td>\n      <td>689521</td>\n      <td>670838</td>\n      <td>18683</td>\n      <td>3002165</td>\n      <td>1542652</td>\n      <td>1459513</td>\n      <td>105.7</td>\n      <td>2837769</td>\n      <td>1429541</td>\n      <td>1408228</td>\n      <td>101.51</td>\n      <td>164396</td>\n      <td>113111</td>\n      <td>51285</td>\n      <td>220.55</td>\n      <td>4.23</td>\n    </tr>\n    <tr>\n      <th>26</th>\n      <td>陕    西</td>\n      <td>11084516</td>\n      <td>10718563</td>\n      <td>365953</td>\n      <td>37327379</td>\n      <td>19287575</td>\n      <td>18039804</td>\n      <td>106.92</td>\n      <td>34462115</td>\n      <td>17556257</td>\n      <td>16905858</td>\n      <td>103.85</td>\n      <td>2865264</td>\n      <td>1731318</td>\n      <td>1133946</td>\n      <td>152.68</td>\n      <td>3.22</td>\n    </tr>\n    <tr>\n      <th>27</th>\n      <td>甘    肃</td>\n      <td>7113833</td>\n      <td>6900369</td>\n      <td>213464</td>\n      <td>25575263</td>\n      <td>13064193</td>\n      <td>12511070</td>\n      <td>104.42</td>\n      <td>24052594</td>\n      <td>12141360</td>\n      <td>11911234</td>\n      <td>101.93</td>\n      <td>1522669</td>\n      <td>922833</td>\n      <td>599836</td>\n      <td>153.85</td>\n      <td>3.49</td>\n    </tr>\n    <tr>\n      <th>28</th>\n      <td>青    海</td>\n      <td>1586635</td>\n      <td>1529039</td>\n      <td>57596</td>\n      <td>5626723</td>\n      <td>2913793</td>\n      <td>2712930</td>\n      <td>107.4</td>\n      <td>5284525</td>\n      <td>2675766</td>\n      <td>2608759</td>\n      <td>102.57</td>\n      <td>342198</td>\n      <td>238027</td>\n      <td>104171</td>\n      <td>228.5</td>\n      <td>3.46</td>\n    </tr>\n    <tr>\n      <th>29</th>\n      <td>宁    夏</td>\n      <td>1945064</td>\n      <td>1882205</td>\n      <td>62859</td>\n      <td>6301350</td>\n      <td>3227404</td>\n      <td>3073946</td>\n      <td>104.99</td>\n      <td>5970133</td>\n      <td>3015722</td>\n      <td>2954411</td>\n      <td>102.08</td>\n      <td>331217</td>\n      <td>211682</td>\n      <td>119535</td>\n      <td>177.09</td>\n      <td>3.17</td>\n    </tr>\n    <tr>\n      <th>30</th>\n      <td>新    疆</td>\n      <td>6902850</td>\n      <td>6705607</td>\n      <td>197243</td>\n      <td>21815815</td>\n      <td>11270147</td>\n      <td>10545668</td>\n      <td>106.87</td>\n      <td>20802249</td>\n      <td>10620499</td>\n      <td>10181750</td>\n      <td>104.31</td>\n      <td>1013566</td>\n      <td>649648</td>\n      <td>363918</td>\n      <td>178.51</td>\n      <td>3.1</td>\n    </tr>\n  </tbody>\n</table>\n</div>"
     },
     "execution_count": 118,
     "metadata": {},
     "output_type": "execute_result"
    }
   ],
   "source": [
    "df\n"
   ],
   "metadata": {
    "collapsed": false,
    "pycharm": {
     "name": "#%%\n"
    }
   }
  },
  {
   "cell_type": "code",
   "execution_count": 112,
   "outputs": [
    {
     "data": {
      "text/plain": "      Area AccountTotal Avg_Family_Size\n2   河    北     20813492            3.36\n3   山    西     10654162            3.24\n13  江    西     11847841            3.65\n15  河    南     26404973            3.47\n16  湖    北     17253385            3.16\n17  湖    南     19029894            3.32\n18  广    东     32222752            3.11\n19  广    西     13467663            3.34\n23  贵    州     10745630            3.18\n24  云    南     12695396            3.54\n26  陕    西     11084516            3.22",
      "text/html": "<div>\n<style scoped>\n    .dataframe tbody tr th:only-of-type {\n        vertical-align: middle;\n    }\n\n    .dataframe tbody tr th {\n        vertical-align: top;\n    }\n\n    .dataframe thead th {\n        text-align: right;\n    }\n</style>\n<table border=\"1\" class=\"dataframe\">\n  <thead>\n    <tr style=\"text-align: right;\">\n      <th></th>\n      <th>Area</th>\n      <th>AccountTotal</th>\n      <th>Avg_Family_Size</th>\n    </tr>\n  </thead>\n  <tbody>\n    <tr>\n      <th>2</th>\n      <td>河    北</td>\n      <td>20813492</td>\n      <td>3.36</td>\n    </tr>\n    <tr>\n      <th>3</th>\n      <td>山    西</td>\n      <td>10654162</td>\n      <td>3.24</td>\n    </tr>\n    <tr>\n      <th>13</th>\n      <td>江    西</td>\n      <td>11847841</td>\n      <td>3.65</td>\n    </tr>\n    <tr>\n      <th>15</th>\n      <td>河    南</td>\n      <td>26404973</td>\n      <td>3.47</td>\n    </tr>\n    <tr>\n      <th>16</th>\n      <td>湖    北</td>\n      <td>17253385</td>\n      <td>3.16</td>\n    </tr>\n    <tr>\n      <th>17</th>\n      <td>湖    南</td>\n      <td>19029894</td>\n      <td>3.32</td>\n    </tr>\n    <tr>\n      <th>18</th>\n      <td>广    东</td>\n      <td>32222752</td>\n      <td>3.11</td>\n    </tr>\n    <tr>\n      <th>19</th>\n      <td>广    西</td>\n      <td>13467663</td>\n      <td>3.34</td>\n    </tr>\n    <tr>\n      <th>23</th>\n      <td>贵    州</td>\n      <td>10745630</td>\n      <td>3.18</td>\n    </tr>\n    <tr>\n      <th>24</th>\n      <td>云    南</td>\n      <td>12695396</td>\n      <td>3.54</td>\n    </tr>\n    <tr>\n      <th>26</th>\n      <td>陕    西</td>\n      <td>11084516</td>\n      <td>3.22</td>\n    </tr>\n  </tbody>\n</table>\n</div>"
     },
     "execution_count": 112,
     "metadata": {},
     "output_type": "execute_result"
    }
   ],
   "source": [
    "df[['Area','AccountTotal','Avg_Family_Size']][(df.AccountTotal>10000000)&(df.Avg_Family_Size >3)]"
   ],
   "metadata": {
    "collapsed": false,
    "pycharm": {
     "name": "#%%\n"
    }
   }
  },
  {
   "cell_type": "code",
   "execution_count": 115,
   "outputs": [
    {
     "data": {
      "text/plain": "      Area AccountTotal Avg_Family_Size\n0   北    京      7355291            2.45\n1   天    津      3963604             2.8\n4    内 蒙 古      8470472            2.81\n5   辽    宁     15334912            2.78\n6   吉    林      9162183            2.94\n7    黑 龙 江     13192935            2.84\n8   上    海      8893483             2.5\n9   江    苏     25635291            2.94\n10  浙    江     20060115            2.62\n11  安    徽     19322432               3\n12  福    建     11971873            2.98\n14  山    东     30794664            2.98\n21  重    庆     10272559             2.7\n22  四    川     26383458            2.95",
      "text/html": "<div>\n<style scoped>\n    .dataframe tbody tr th:only-of-type {\n        vertical-align: middle;\n    }\n\n    .dataframe tbody tr th {\n        vertical-align: top;\n    }\n\n    .dataframe thead th {\n        text-align: right;\n    }\n</style>\n<table border=\"1\" class=\"dataframe\">\n  <thead>\n    <tr style=\"text-align: right;\">\n      <th></th>\n      <th>Area</th>\n      <th>AccountTotal</th>\n      <th>Avg_Family_Size</th>\n    </tr>\n  </thead>\n  <tbody>\n    <tr>\n      <th>0</th>\n      <td>北    京</td>\n      <td>7355291</td>\n      <td>2.45</td>\n    </tr>\n    <tr>\n      <th>1</th>\n      <td>天    津</td>\n      <td>3963604</td>\n      <td>2.8</td>\n    </tr>\n    <tr>\n      <th>4</th>\n      <td>内 蒙 古</td>\n      <td>8470472</td>\n      <td>2.81</td>\n    </tr>\n    <tr>\n      <th>5</th>\n      <td>辽    宁</td>\n      <td>15334912</td>\n      <td>2.78</td>\n    </tr>\n    <tr>\n      <th>6</th>\n      <td>吉    林</td>\n      <td>9162183</td>\n      <td>2.94</td>\n    </tr>\n    <tr>\n      <th>7</th>\n      <td>黑 龙 江</td>\n      <td>13192935</td>\n      <td>2.84</td>\n    </tr>\n    <tr>\n      <th>8</th>\n      <td>上    海</td>\n      <td>8893483</td>\n      <td>2.5</td>\n    </tr>\n    <tr>\n      <th>9</th>\n      <td>江    苏</td>\n      <td>25635291</td>\n      <td>2.94</td>\n    </tr>\n    <tr>\n      <th>10</th>\n      <td>浙    江</td>\n      <td>20060115</td>\n      <td>2.62</td>\n    </tr>\n    <tr>\n      <th>11</th>\n      <td>安    徽</td>\n      <td>19322432</td>\n      <td>3</td>\n    </tr>\n    <tr>\n      <th>12</th>\n      <td>福    建</td>\n      <td>11971873</td>\n      <td>2.98</td>\n    </tr>\n    <tr>\n      <th>14</th>\n      <td>山    东</td>\n      <td>30794664</td>\n      <td>2.98</td>\n    </tr>\n    <tr>\n      <th>21</th>\n      <td>重    庆</td>\n      <td>10272559</td>\n      <td>2.7</td>\n    </tr>\n    <tr>\n      <th>22</th>\n      <td>四    川</td>\n      <td>26383458</td>\n      <td>2.95</td>\n    </tr>\n  </tbody>\n</table>\n</div>"
     },
     "execution_count": 115,
     "metadata": {},
     "output_type": "execute_result"
    }
   ],
   "source": [
    "df[['Area','AccountTotal','Avg_Family_Size']][df.Avg_Family_Size.between(2,3,inclusive=True)]"
   ],
   "metadata": {
    "collapsed": false,
    "pycharm": {
     "name": "#%%\n"
    }
   }
  },
  {
   "cell_type": "code",
   "execution_count": 167,
   "outputs": [
    {
     "data": {
      "text/plain": "     Area\n0  北    京",
      "text/html": "<div>\n<style scoped>\n    .dataframe tbody tr th:only-of-type {\n        vertical-align: middle;\n    }\n\n    .dataframe tbody tr th {\n        vertical-align: top;\n    }\n\n    .dataframe thead th {\n        text-align: right;\n    }\n</style>\n<table border=\"1\" class=\"dataframe\">\n  <thead>\n    <tr style=\"text-align: right;\">\n      <th></th>\n      <th>Area</th>\n    </tr>\n  </thead>\n  <tbody>\n    <tr>\n      <th>0</th>\n      <td>北    京</td>\n    </tr>\n  </tbody>\n</table>\n</div>"
     },
     "execution_count": 167,
     "metadata": {},
     "output_type": "execute_result"
    }
   ],
   "source": [
    "\n",
    "df[['Area']][df['Area'].isin(['北    京'])]"
   ],
   "metadata": {
    "collapsed": false,
    "pycharm": {
     "name": "#%%\n"
    }
   }
  },
  {
   "cell_type": "code",
   "execution_count": 171,
   "outputs": [
    {
     "data": {
      "text/plain": "0     False\n1     False\n2     False\n3     False\n4     False\n5     False\n6     False\n7     False\n8     False\n9     False\n10    False\n11    False\n12    False\n13    False\n14    False\n15    False\n16    False\n17    False\n18     True\n19     True\n20    False\n21    False\n22    False\n23    False\n24    False\n25    False\n26    False\n27    False\n28    False\n29    False\n30    False\nName: Area, dtype: bool"
     },
     "execution_count": 171,
     "metadata": {},
     "output_type": "execute_result"
    }
   ],
   "source": [
    "df['Area'].str.contains('广')\n"
   ],
   "metadata": {
    "collapsed": false,
    "pycharm": {
     "name": "#%%\n"
    }
   }
  },
  {
   "cell_type": "code",
   "execution_count": 180,
   "outputs": [
    {
     "ename": "TypeError",
     "evalue": "replace() got an unexpected keyword argument 'inplace'",
     "output_type": "error",
     "traceback": [
      "\u001B[1;31m---------------------------------------------------------------------------\u001B[0m",
      "\u001B[1;31mTypeError\u001B[0m                                 Traceback (most recent call last)",
      "\u001B[1;32m<ipython-input-180-2a96d3aab76e>\u001B[0m in \u001B[0;36m<module>\u001B[1;34m\u001B[0m\n\u001B[1;32m----> 1\u001B[1;33m \u001B[0mdf\u001B[0m\u001B[1;33m.\u001B[0m\u001B[0mArea\u001B[0m\u001B[1;33m.\u001B[0m\u001B[0mstr\u001B[0m\u001B[1;33m.\u001B[0m\u001B[0mreplace\u001B[0m\u001B[1;33m(\u001B[0m\u001B[1;34m' '\u001B[0m\u001B[1;33m,\u001B[0m\u001B[1;34m''\u001B[0m\u001B[1;33m,\u001B[0m \u001B[0minplace\u001B[0m\u001B[1;33m=\u001B[0m\u001B[1;32mTrue\u001B[0m\u001B[1;33m)\u001B[0m\u001B[1;33m\u001B[0m\u001B[1;33m\u001B[0m\u001B[0m\n\u001B[0m",
      "\u001B[1;32mc:\\users\\jonescy\\onedrive\\文档\\pycharmprojects\\dataanalysis\\lib\\site-packages\\pandas\\core\\strings.py\u001B[0m in \u001B[0;36mwrapper\u001B[1;34m(self, *args, **kwargs)\u001B[0m\n\u001B[0;32m   1999\u001B[0m                 )\n\u001B[0;32m   2000\u001B[0m                 \u001B[1;32mraise\u001B[0m \u001B[0mTypeError\u001B[0m\u001B[1;33m(\u001B[0m\u001B[0mmsg\u001B[0m\u001B[1;33m)\u001B[0m\u001B[1;33m\u001B[0m\u001B[1;33m\u001B[0m\u001B[0m\n\u001B[1;32m-> 2001\u001B[1;33m             \u001B[1;32mreturn\u001B[0m \u001B[0mfunc\u001B[0m\u001B[1;33m(\u001B[0m\u001B[0mself\u001B[0m\u001B[1;33m,\u001B[0m \u001B[1;33m*\u001B[0m\u001B[0margs\u001B[0m\u001B[1;33m,\u001B[0m \u001B[1;33m**\u001B[0m\u001B[0mkwargs\u001B[0m\u001B[1;33m)\u001B[0m\u001B[1;33m\u001B[0m\u001B[1;33m\u001B[0m\u001B[0m\n\u001B[0m\u001B[0;32m   2002\u001B[0m \u001B[1;33m\u001B[0m\u001B[0m\n\u001B[0;32m   2003\u001B[0m         \u001B[0mwrapper\u001B[0m\u001B[1;33m.\u001B[0m\u001B[0m__name__\u001B[0m \u001B[1;33m=\u001B[0m \u001B[0mfunc_name\u001B[0m\u001B[1;33m\u001B[0m\u001B[1;33m\u001B[0m\u001B[0m\n",
      "\u001B[1;31mTypeError\u001B[0m: replace() got an unexpected keyword argument 'inplace'"
     ]
    }
   ],
   "source": [
    "df.Area.str.replace(' ','', inplace=True)"
   ],
   "metadata": {
    "collapsed": false,
    "pycharm": {
     "name": "#%%\n"
    }
   }
  },
  {
   "cell_type": "code",
   "execution_count": 3,
   "outputs": [],
   "source": [
    "import pandas as pd"
   ],
   "metadata": {
    "collapsed": false,
    "pycharm": {
     "name": "#%%\n"
    }
   }
  },
  {
   "cell_type": "code",
   "execution_count": 2,
   "outputs": [],
   "source": [
    "ages = [20, 22, 25, 27, 21, 23, 37, 31, 61, 45, 41, 32]\n",
    "bins = [18,25,35,60,100]\n"
   ],
   "metadata": {
    "collapsed": false,
    "pycharm": {
     "name": "#%%\n"
    }
   }
  },
  {
   "cell_type": "code",
   "execution_count": 32,
   "outputs": [
    {
     "data": {
      "text/plain": "[(18, 25], (18, 25], (18, 25], (25, 35], (18, 25], ..., (25, 35], (60, 100], (35, 60], (35, 60], (25, 35]]\nLength: 12\nCategories (4, interval[int64]): [(18, 25] < (25, 35] < (35, 60] < (60, 100]]"
     },
     "execution_count": 32,
     "metadata": {},
     "output_type": "execute_result"
    }
   ],
   "source": [
    "cats = pd.cut(ages, bins,precision=2)\n",
    "cats"
   ],
   "metadata": {
    "collapsed": false,
    "pycharm": {
     "name": "#%%\n"
    }
   }
  },
  {
   "cell_type": "code",
   "execution_count": 33,
   "outputs": [
    {
     "data": {
      "text/plain": "(18, 25]     5\n(25, 35]     3\n(35, 60]     3\n(60, 100]    1\ndtype: int64"
     },
     "execution_count": 33,
     "metadata": {},
     "output_type": "execute_result"
    }
   ],
   "source": [
    "cats.value_counts()"
   ],
   "metadata": {
    "collapsed": false,
    "pycharm": {
     "name": "#%%\n"
    }
   }
  },
  {
   "cell_type": "code",
   "execution_count": 16,
   "outputs": [
    {
     "data": {
      "text/plain": "IntervalIndex([[18, 25), [25, 35), [35, 60), [60, 100)],\n              closed='left',\n              dtype='interval[int64]')"
     },
     "execution_count": 16,
     "metadata": {},
     "output_type": "execute_result"
    }
   ],
   "source": [
    "cats.categories"
   ],
   "metadata": {
    "collapsed": false,
    "pycharm": {
     "name": "#%%\n"
    }
   }
  },
  {
   "cell_type": "code",
   "execution_count": 28,
   "outputs": [
    {
     "data": {
      "text/plain": "<AxesSubplot:>"
     },
     "execution_count": 28,
     "metadata": {},
     "output_type": "execute_result"
    },
    {
     "data": {
      "text/plain": "<Figure size 432x288 with 1 Axes>",
      "image/png": "[encoded data removed]"
     },
     "metadata": {
      "needs_background": "light"
     },
     "output_type": "display_data"
    }
   ],
   "source": [
    "pd.value_counts(cats).hist()"
   ],
   "metadata": {
    "collapsed": false,
    "pycharm": {
     "name": "#%%\n"
    }
   }
  },
  {
   "cell_type": "code",
   "execution_count": 24,
   "outputs": [],
   "source": [
    "import numpy as np\n",
    "cats2 =pd.qcut(np.random.randn(1000),4)"
   ],
   "metadata": {
    "collapsed": false,
    "pycharm": {
     "name": "#%%\n"
    }
   }
  },
  {
   "cell_type": "code",
   "execution_count": 30,
   "outputs": [
    {
     "data": {
      "text/plain": "(-3.004, -0.685]     250\n(-0.685, -0.0224]    250\n(-0.0224, 0.626]     250\n(0.626, 3.659]       250\ndtype: int64"
     },
     "execution_count": 30,
     "metadata": {},
     "output_type": "execute_result"
    }
   ],
   "source": [
    "cats2.value_counts()\n"
   ],
   "metadata": {
    "collapsed": false,
    "pycharm": {
     "name": "#%%\n"
    }
   }
  },
  {
   "cell_type": "code",
   "execution_count": 31,
   "outputs": [
    {
     "ename": "AttributeError",
     "evalue": "'list' object has no attribute 'quantile'",
     "output_type": "error",
     "traceback": [
      "\u001B[1;31m---------------------------------------------------------------------------\u001B[0m",
      "\u001B[1;31mAttributeError\u001B[0m                            Traceback (most recent call last)",
      "\u001B[1;32m<ipython-input-31-0bc79cd53847>\u001B[0m in \u001B[0;36m<module>\u001B[1;34m\u001B[0m\n\u001B[0;32m      1\u001B[0m \u001B[0mk\u001B[0m \u001B[1;33m=\u001B[0m \u001B[1;36m4\u001B[0m\u001B[1;33m\u001B[0m\u001B[1;33m\u001B[0m\u001B[0m\n\u001B[1;32m----> 2\u001B[1;33m \u001B[0mw3\u001B[0m \u001B[1;33m=\u001B[0m \u001B[0mages\u001B[0m\u001B[1;33m.\u001B[0m\u001B[0mquantile\u001B[0m\u001B[1;33m(\u001B[0m\u001B[1;33m[\u001B[0m\u001B[0mi\u001B[0m\u001B[1;33m/\u001B[0m\u001B[0mk\u001B[0m \u001B[1;32mfor\u001B[0m \u001B[0mi\u001B[0m \u001B[1;32min\u001B[0m \u001B[0mrange\u001B[0m\u001B[1;33m(\u001B[0m\u001B[0mk\u001B[0m\u001B[1;33m+\u001B[0m\u001B[1;36m1\u001B[0m\u001B[1;33m)\u001B[0m\u001B[1;33m]\u001B[0m\u001B[1;33m)\u001B[0m\u001B[1;33m\u001B[0m\u001B[1;33m\u001B[0m\u001B[0m\n\u001B[0m\u001B[0;32m      3\u001B[0m \u001B[0mw3\u001B[0m\u001B[1;33m\u001B[0m\u001B[1;33m\u001B[0m\u001B[0m\n",
      "\u001B[1;31mAttributeError\u001B[0m: 'list' object has no attribute 'quantile'"
     ]
    }
   ],
   "source": [
    "k = 4\n",
    "w3 = ages.quantile([i/k for i in range(k+1)])\n",
    "w3"
   ],
   "metadata": {
    "collapsed": false,
    "pycharm": {
     "name": "#%%\n"
    }
   }
  }
 ],
 "metadata": {
  "kernelspec": {
   "display_name": "Python 3",
   "language": "python",
   "name": "python3"
  },
  "language_info": {
   "codemirror_mode": {
    "name": "ipython",
    "version": 2
   },
   "file_extension": ".py",
   "mimetype": "text/x-python",
   "name": "python",
   "nbconvert_exporter": "python",
   "pygments_lexer": "ipython2",
   "version": "2.7.6"
  }
 },
 "nbformat": 4,
 "nbformat_minor": 0
}