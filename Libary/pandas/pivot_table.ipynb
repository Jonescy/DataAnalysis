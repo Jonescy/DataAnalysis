{
 "cells": [
  {
   "cell_type": "code",
   "execution_count": 3,
   "metadata": {
    "collapsed": true
   },
   "outputs": [],
   "source": [
    "import pandas as pd\n",
    "import numpy as np\n"
   ]
  },
  {
   "cell_type": "code",
   "execution_count": 10,
   "outputs": [
    {
     "data": {
      "text/plain": "  Date_reported Country_code      Country WHO_region  New_cases  \\\n0    2020-02-24           AF  Afghanistan       EMRO          5   \n1    2020-02-25           AF  Afghanistan       EMRO          0   \n2    2020-02-26           AF  Afghanistan       EMRO          0   \n3    2020-02-27           AF  Afghanistan       EMRO          0   \n4    2020-02-28           AF  Afghanistan       EMRO          0   \n\n   Cumulative_cases  New_deaths  Cumulative_deaths  \n0                 5           0                  0  \n1                 5           0                  0  \n2                 5           0                  0  \n3                 5           0                  0  \n4                 5           0                  0  ",
      "text/html": "<div>\n<style scoped>\n    .dataframe tbody tr th:only-of-type {\n        vertical-align: middle;\n    }\n\n    .dataframe tbody tr th {\n        vertical-align: top;\n    }\n\n    .dataframe thead th {\n        text-align: right;\n    }\n</style>\n<table border=\"1\" class=\"dataframe\">\n  <thead>\n    <tr style=\"text-align: right;\">\n      <th></th>\n      <th>Date_reported</th>\n      <th>Country_code</th>\n      <th>Country</th>\n      <th>WHO_region</th>\n      <th>New_cases</th>\n      <th>Cumulative_cases</th>\n      <th>New_deaths</th>\n      <th>Cumulative_deaths</th>\n    </tr>\n  </thead>\n  <tbody>\n    <tr>\n      <th>0</th>\n      <td>2020-02-24</td>\n      <td>AF</td>\n      <td>Afghanistan</td>\n      <td>EMRO</td>\n      <td>5</td>\n      <td>5</td>\n      <td>0</td>\n      <td>0</td>\n    </tr>\n    <tr>\n      <th>1</th>\n      <td>2020-02-25</td>\n      <td>AF</td>\n      <td>Afghanistan</td>\n      <td>EMRO</td>\n      <td>0</td>\n      <td>5</td>\n      <td>0</td>\n      <td>0</td>\n    </tr>\n    <tr>\n      <th>2</th>\n      <td>2020-02-26</td>\n      <td>AF</td>\n      <td>Afghanistan</td>\n      <td>EMRO</td>\n      <td>0</td>\n      <td>5</td>\n      <td>0</td>\n      <td>0</td>\n    </tr>\n    <tr>\n      <th>3</th>\n      <td>2020-02-27</td>\n      <td>AF</td>\n      <td>Afghanistan</td>\n      <td>EMRO</td>\n      <td>0</td>\n      <td>5</td>\n      <td>0</td>\n      <td>0</td>\n    </tr>\n    <tr>\n      <th>4</th>\n      <td>2020-02-28</td>\n      <td>AF</td>\n      <td>Afghanistan</td>\n      <td>EMRO</td>\n      <td>0</td>\n      <td>5</td>\n      <td>0</td>\n      <td>0</td>\n    </tr>\n  </tbody>\n</table>\n</div>"
     },
     "execution_count": 10,
     "metadata": {},
     "output_type": "execute_result"
    }
   ],
   "source": [
    "df = pd.read_csv(r'c:/users/jonescy/Downloads/WHO-COVID-19-global-data.csv')\n",
    "df.head(5)"
   ],
   "metadata": {
    "collapsed": false,
    "pycharm": {
     "name": "#%%\n"
    }
   }
  },
  {
   "cell_type": "code",
   "execution_count": 15,
   "outputs": [
    {
     "data": {
      "text/plain": "                                                                 Country_code  \\\nDate_reported Country                                                           \n2020-01-04    China                                                        CN   \n2020-01-05    China                                                        CN   \n2020-01-06    China                                                        CN   \n2020-01-07    China                                                        CN   \n2020-01-08    China                                                        CN   \n...                                                                       ...   \n2020-09-16    Viet Nam                                                     VN   \n              Yemen                                                        YE   \n              Zambia                                                       ZM   \n              Zimbabwe                                                     ZW   \n              occupied Palestinian territory, including east ...           PS   \n\n                                                                  Cumulative_cases  \\\nDate_reported Country                                                                \n2020-01-04    China                                                              1   \n2020-01-05    China                                                              1   \n2020-01-06    China                                                              4   \n2020-01-07    China                                                              4   \n2020-01-08    China                                                              4   \n...                                                                            ...   \n2020-09-16    Viet Nam                                                        1063   \n              Yemen                                                           2020   \n              Zambia                                                         13819   \n              Zimbabwe                                                        7576   \n              occupied Palestinian territory, including east ...             41416   \n\n                                                                  Cumulative_deaths  \\\nDate_reported Country                                                                 \n2020-01-04    China                                                               0   \n2020-01-05    China                                                               0   \n2020-01-06    China                                                               0   \n2020-01-07    China                                                               0   \n2020-01-08    China                                                               0   \n...                                                                             ...   \n2020-09-16    Viet Nam                                                           35   \n              Yemen                                                             584   \n              Zambia                                                            324   \n              Zimbabwe                                                          224   \n              occupied Palestinian territory, including east ...                261   \n\n                                                                  New_cases  \\\nDate_reported Country                                                         \n2020-01-04    China                                                       1   \n2020-01-05    China                                                       0   \n2020-01-06    China                                                       3   \n2020-01-07    China                                                       0   \n2020-01-08    China                                                       0   \n...                                                                     ...   \n2020-09-16    Viet Nam                                                    0   \n              Yemen                                                       3   \n              Zambia                                                     99   \n              Zimbabwe                                                   45   \n              occupied Palestinian territory, including east ...       1118   \n\n                                                                  New_deaths  \\\nDate_reported Country                                                          \n2020-01-04    China                                                        0   \n2020-01-05    China                                                        0   \n2020-01-06    China                                                        0   \n2020-01-07    China                                                        0   \n2020-01-08    China                                                        0   \n...                                                                      ...   \n2020-09-16    Viet Nam                                                     0   \n              Yemen                                                        0   \n              Zambia                                                       4   \n              Zimbabwe                                                     0   \n              occupied Palestinian territory, including east ...           6   \n\n                                                                 WHO_region  \nDate_reported Country                                                        \n2020-01-04    China                                                    WPRO  \n2020-01-05    China                                                    WPRO  \n2020-01-06    China                                                    WPRO  \n2020-01-07    China                                                    WPRO  \n2020-01-08    China                                                    WPRO  \n...                                                                     ...  \n2020-09-16    Viet Nam                                                 WPRO  \n              Yemen                                                    EMRO  \n              Zambia                                                   AFRO  \n              Zimbabwe                                                 AFRO  \n              occupied Palestinian territory, including east ...       EMRO  \n\n[42025 rows x 6 columns]",
      "text/html": "<div>\n<style scoped>\n    .dataframe tbody tr th:only-of-type {\n        vertical-align: middle;\n    }\n\n    .dataframe tbody tr th {\n        vertical-align: top;\n    }\n\n    .dataframe thead th {\n        text-align: right;\n    }\n</style>\n<table border=\"1\" class=\"dataframe\">\n  <thead>\n    <tr style=\"text-align: right;\">\n      <th></th>\n      <th></th>\n      <th>Country_code</th>\n      <th>Cumulative_cases</th>\n      <th>Cumulative_deaths</th>\n      <th>New_cases</th>\n      <th>New_deaths</th>\n      <th>WHO_region</th>\n    </tr>\n    <tr>\n      <th>Date_reported</th>\n      <th>Country</th>\n      <th></th>\n      <th></th>\n      <th></th>\n      <th></th>\n      <th></th>\n      <th></th>\n    </tr>\n  </thead>\n  <tbody>\n    <tr>\n      <th>2020-01-04</th>\n      <th>China</th>\n      <td>CN</td>\n      <td>1</td>\n      <td>0</td>\n      <td>1</td>\n      <td>0</td>\n      <td>WPRO</td>\n    </tr>\n    <tr>\n      <th>2020-01-05</th>\n      <th>China</th>\n      <td>CN</td>\n      <td>1</td>\n      <td>0</td>\n      <td>0</td>\n      <td>0</td>\n      <td>WPRO</td>\n    </tr>\n    <tr>\n      <th>2020-01-06</th>\n      <th>China</th>\n      <td>CN</td>\n      <td>4</td>\n      <td>0</td>\n      <td>3</td>\n      <td>0</td>\n      <td>WPRO</td>\n    </tr>\n    <tr>\n      <th>2020-01-07</th>\n      <th>China</th>\n      <td>CN</td>\n      <td>4</td>\n      <td>0</td>\n      <td>0</td>\n      <td>0</td>\n      <td>WPRO</td>\n    </tr>\n    <tr>\n      <th>2020-01-08</th>\n      <th>China</th>\n      <td>CN</td>\n      <td>4</td>\n      <td>0</td>\n      <td>0</td>\n      <td>0</td>\n      <td>WPRO</td>\n    </tr>\n    <tr>\n      <th>...</th>\n      <th>...</th>\n      <td>...</td>\n      <td>...</td>\n      <td>...</td>\n      <td>...</td>\n      <td>...</td>\n      <td>...</td>\n    </tr>\n    <tr>\n      <th rowspan=\"5\" valign=\"top\">2020-09-16</th>\n      <th>Viet Nam</th>\n      <td>VN</td>\n      <td>1063</td>\n      <td>35</td>\n      <td>0</td>\n      <td>0</td>\n      <td>WPRO</td>\n    </tr>\n    <tr>\n      <th>Yemen</th>\n      <td>YE</td>\n      <td>2020</td>\n      <td>584</td>\n      <td>3</td>\n      <td>0</td>\n      <td>EMRO</td>\n    </tr>\n    <tr>\n      <th>Zambia</th>\n      <td>ZM</td>\n      <td>13819</td>\n      <td>324</td>\n      <td>99</td>\n      <td>4</td>\n      <td>AFRO</td>\n    </tr>\n    <tr>\n      <th>Zimbabwe</th>\n      <td>ZW</td>\n      <td>7576</td>\n      <td>224</td>\n      <td>45</td>\n      <td>0</td>\n      <td>AFRO</td>\n    </tr>\n    <tr>\n      <th>occupied Palestinian territory, including east Jerusalem</th>\n      <td>PS</td>\n      <td>41416</td>\n      <td>261</td>\n      <td>1118</td>\n      <td>6</td>\n      <td>EMRO</td>\n    </tr>\n  </tbody>\n</table>\n<p>42025 rows × 6 columns</p>\n</div>"
     },
     "execution_count": 15,
     "metadata": {},
     "output_type": "execute_result"
    }
   ],
   "source": [
    "pd.pivot_table(data=df,index=['Date_reported','Country'],aggfunc=np.sort)"
   ],
   "metadata": {
    "collapsed": false,
    "pycharm": {
     "name": "#%%\n"
    }
   }
  },
  {
   "cell_type": "code",
   "execution_count": 18,
   "outputs": [
    {
     "data": {
      "text/plain": "Country        Afghanistan  Albania  Algeria  Andorra  Angola  Anguilla  \\\nDate_reported                                                             \n2020-01-04               0        0        0        0       0         0   \n2020-01-05               0        0        0        0       0         0   \n2020-01-06               0        0        0        0       0         0   \n2020-01-07               0        0        0        0       0         0   \n2020-01-08               0        0        0        0       0         0   \n...                    ...      ...      ...      ...     ...       ...   \n2020-09-12               1        1        1        1       1         1   \n2020-09-13               1        1        1        1       1         1   \n2020-09-14               1        1        1        1       1         1   \n2020-09-15               1        1        1        1       1         1   \n2020-09-16               1        1        1        1       1         1   \n\nCountry        Antigua and Barbuda  Argentina  Armenia  Aruba  ...  \\\nDate_reported                                                  ...   \n2020-01-04                       0          0        0      0  ...   \n2020-01-05                       0          0        0      0  ...   \n2020-01-06                       0          0        0      0  ...   \n2020-01-07                       0          0        0      0  ...   \n2020-01-08                       0          0        0      0  ...   \n...                            ...        ...      ...    ...  ...   \n2020-09-12                       1          1        1      1  ...   \n2020-09-13                       1          1        1      1  ...   \n2020-09-14                       1          1        1      1  ...   \n2020-09-15                       1          1        1      1  ...   \n2020-09-16                       1          1        1      1  ...   \n\nCountry        United States Virgin Islands  United States of America  \\\nDate_reported                                                           \n2020-01-04                                0                         0   \n2020-01-05                                0                         0   \n2020-01-06                                0                         0   \n2020-01-07                                0                         0   \n2020-01-08                                0                         0   \n...                                     ...                       ...   \n2020-09-12                                1                         1   \n2020-09-13                                1                         1   \n2020-09-14                                1                         1   \n2020-09-15                                1                         1   \n2020-09-16                                1                         1   \n\nCountry        Uruguay  Uzbekistan  Venezuela (Bolivarian Republic of)  \\\nDate_reported                                                            \n2020-01-04           0           0                                   0   \n2020-01-05           0           0                                   0   \n2020-01-06           0           0                                   0   \n2020-01-07           0           0                                   0   \n2020-01-08           0           0                                   0   \n...                ...         ...                                 ...   \n2020-09-12           1           1                                   1   \n2020-09-13           1           1                                   1   \n2020-09-14           1           1                                   1   \n2020-09-15           1           1                                   1   \n2020-09-16           1           1                                   1   \n\nCountry        Viet Nam  Yemen  Zambia  Zimbabwe  \\\nDate_reported                                      \n2020-01-04            0      0       0         0   \n2020-01-05            0      0       0         0   \n2020-01-06            0      0       0         0   \n2020-01-07            0      0       0         0   \n2020-01-08            0      0       0         0   \n...                 ...    ...     ...       ...   \n2020-09-12            1      1       1         1   \n2020-09-13            1      1       1         1   \n2020-09-14            1      1       1         1   \n2020-09-15            1      1       1         1   \n2020-09-16            1      1       1         1   \n\nCountry        occupied Palestinian territory, including east Jerusalem  \nDate_reported                                                            \n2020-01-04                                                     0         \n2020-01-05                                                     0         \n2020-01-06                                                     0         \n2020-01-07                                                     0         \n2020-01-08                                                     0         \n...                                                          ...         \n2020-09-12                                                     1         \n2020-09-13                                                     1         \n2020-09-14                                                     1         \n2020-09-15                                                     1         \n2020-09-16                                                     1         \n\n[257 rows x 216 columns]",
      "text/html": "<div>\n<style scoped>\n    .dataframe tbody tr th:only-of-type {\n        vertical-align: middle;\n    }\n\n    .dataframe tbody tr th {\n        vertical-align: top;\n    }\n\n    .dataframe thead th {\n        text-align: right;\n    }\n</style>\n<table border=\"1\" class=\"dataframe\">\n  <thead>\n    <tr style=\"text-align: right;\">\n      <th>Country</th>\n      <th>Afghanistan</th>\n      <th>Albania</th>\n      <th>Algeria</th>\n      <th>Andorra</th>\n      <th>Angola</th>\n      <th>Anguilla</th>\n      <th>Antigua and Barbuda</th>\n      <th>Argentina</th>\n      <th>Armenia</th>\n      <th>Aruba</th>\n      <th>...</th>\n      <th>United States Virgin Islands</th>\n      <th>United States of America</th>\n      <th>Uruguay</th>\n      <th>Uzbekistan</th>\n      <th>Venezuela (Bolivarian Republic of)</th>\n      <th>Viet Nam</th>\n      <th>Yemen</th>\n      <th>Zambia</th>\n      <th>Zimbabwe</th>\n      <th>occupied Palestinian territory, including east Jerusalem</th>\n    </tr>\n    <tr>\n      <th>Date_reported</th>\n      <th></th>\n      <th></th>\n      <th></th>\n      <th></th>\n      <th></th>\n      <th></th>\n      <th></th>\n      <th></th>\n      <th></th>\n      <th></th>\n      <th></th>\n      <th></th>\n      <th></th>\n      <th></th>\n      <th></th>\n      <th></th>\n      <th></th>\n      <th></th>\n      <th></th>\n      <th></th>\n      <th></th>\n    </tr>\n  </thead>\n  <tbody>\n    <tr>\n      <th>2020-01-04</th>\n      <td>0</td>\n      <td>0</td>\n      <td>0</td>\n      <td>0</td>\n      <td>0</td>\n      <td>0</td>\n      <td>0</td>\n      <td>0</td>\n      <td>0</td>\n      <td>0</td>\n      <td>...</td>\n      <td>0</td>\n      <td>0</td>\n      <td>0</td>\n      <td>0</td>\n      <td>0</td>\n      <td>0</td>\n      <td>0</td>\n      <td>0</td>\n      <td>0</td>\n      <td>0</td>\n    </tr>\n    <tr>\n      <th>2020-01-05</th>\n      <td>0</td>\n      <td>0</td>\n      <td>0</td>\n      <td>0</td>\n      <td>0</td>\n      <td>0</td>\n      <td>0</td>\n      <td>0</td>\n      <td>0</td>\n      <td>0</td>\n      <td>...</td>\n      <td>0</td>\n      <td>0</td>\n      <td>0</td>\n      <td>0</td>\n      <td>0</td>\n      <td>0</td>\n      <td>0</td>\n      <td>0</td>\n      <td>0</td>\n      <td>0</td>\n    </tr>\n    <tr>\n      <th>2020-01-06</th>\n      <td>0</td>\n      <td>0</td>\n      <td>0</td>\n      <td>0</td>\n      <td>0</td>\n      <td>0</td>\n      <td>0</td>\n      <td>0</td>\n      <td>0</td>\n      <td>0</td>\n      <td>...</td>\n      <td>0</td>\n      <td>0</td>\n      <td>0</td>\n      <td>0</td>\n      <td>0</td>\n      <td>0</td>\n      <td>0</td>\n      <td>0</td>\n      <td>0</td>\n      <td>0</td>\n    </tr>\n    <tr>\n      <th>2020-01-07</th>\n      <td>0</td>\n      <td>0</td>\n      <td>0</td>\n      <td>0</td>\n      <td>0</td>\n      <td>0</td>\n      <td>0</td>\n      <td>0</td>\n      <td>0</td>\n      <td>0</td>\n      <td>...</td>\n      <td>0</td>\n      <td>0</td>\n      <td>0</td>\n      <td>0</td>\n      <td>0</td>\n      <td>0</td>\n      <td>0</td>\n      <td>0</td>\n      <td>0</td>\n      <td>0</td>\n    </tr>\n    <tr>\n      <th>2020-01-08</th>\n      <td>0</td>\n      <td>0</td>\n      <td>0</td>\n      <td>0</td>\n      <td>0</td>\n      <td>0</td>\n      <td>0</td>\n      <td>0</td>\n      <td>0</td>\n      <td>0</td>\n      <td>...</td>\n      <td>0</td>\n      <td>0</td>\n      <td>0</td>\n      <td>0</td>\n      <td>0</td>\n      <td>0</td>\n      <td>0</td>\n      <td>0</td>\n      <td>0</td>\n      <td>0</td>\n    </tr>\n    <tr>\n      <th>...</th>\n      <td>...</td>\n      <td>...</td>\n      <td>...</td>\n      <td>...</td>\n      <td>...</td>\n      <td>...</td>\n      <td>...</td>\n      <td>...</td>\n      <td>...</td>\n      <td>...</td>\n      <td>...</td>\n      <td>...</td>\n      <td>...</td>\n      <td>...</td>\n      <td>...</td>\n      <td>...</td>\n      <td>...</td>\n      <td>...</td>\n      <td>...</td>\n      <td>...</td>\n      <td>...</td>\n    </tr>\n    <tr>\n      <th>2020-09-12</th>\n      <td>1</td>\n      <td>1</td>\n      <td>1</td>\n      <td>1</td>\n      <td>1</td>\n      <td>1</td>\n      <td>1</td>\n      <td>1</td>\n      <td>1</td>\n      <td>1</td>\n      <td>...</td>\n      <td>1</td>\n      <td>1</td>\n      <td>1</td>\n      <td>1</td>\n      <td>1</td>\n      <td>1</td>\n      <td>1</td>\n      <td>1</td>\n      <td>1</td>\n      <td>1</td>\n    </tr>\n    <tr>\n      <th>2020-09-13</th>\n      <td>1</td>\n      <td>1</td>\n      <td>1</td>\n      <td>1</td>\n      <td>1</td>\n      <td>1</td>\n      <td>1</td>\n      <td>1</td>\n      <td>1</td>\n      <td>1</td>\n      <td>...</td>\n      <td>1</td>\n      <td>1</td>\n      <td>1</td>\n      <td>1</td>\n      <td>1</td>\n      <td>1</td>\n      <td>1</td>\n      <td>1</td>\n      <td>1</td>\n      <td>1</td>\n    </tr>\n    <tr>\n      <th>2020-09-14</th>\n      <td>1</td>\n      <td>1</td>\n      <td>1</td>\n      <td>1</td>\n      <td>1</td>\n      <td>1</td>\n      <td>1</td>\n      <td>1</td>\n      <td>1</td>\n      <td>1</td>\n      <td>...</td>\n      <td>1</td>\n      <td>1</td>\n      <td>1</td>\n      <td>1</td>\n      <td>1</td>\n      <td>1</td>\n      <td>1</td>\n      <td>1</td>\n      <td>1</td>\n      <td>1</td>\n    </tr>\n    <tr>\n      <th>2020-09-15</th>\n      <td>1</td>\n      <td>1</td>\n      <td>1</td>\n      <td>1</td>\n      <td>1</td>\n      <td>1</td>\n      <td>1</td>\n      <td>1</td>\n      <td>1</td>\n      <td>1</td>\n      <td>...</td>\n      <td>1</td>\n      <td>1</td>\n      <td>1</td>\n      <td>1</td>\n      <td>1</td>\n      <td>1</td>\n      <td>1</td>\n      <td>1</td>\n      <td>1</td>\n      <td>1</td>\n    </tr>\n    <tr>\n      <th>2020-09-16</th>\n      <td>1</td>\n      <td>1</td>\n      <td>1</td>\n      <td>1</td>\n      <td>1</td>\n      <td>1</td>\n      <td>1</td>\n      <td>1</td>\n      <td>1</td>\n      <td>1</td>\n      <td>...</td>\n      <td>1</td>\n      <td>1</td>\n      <td>1</td>\n      <td>1</td>\n      <td>1</td>\n      <td>1</td>\n      <td>1</td>\n      <td>1</td>\n      <td>1</td>\n      <td>1</td>\n    </tr>\n  </tbody>\n</table>\n<p>257 rows × 216 columns</p>\n</div>"
     },
     "execution_count": 18,
     "metadata": {},
     "output_type": "execute_result"
    }
   ],
   "source": [
    "pd.crosstab(index=df['Date_reported'],columns=df['Country'])"
   ],
   "metadata": {
    "collapsed": false,
    "pycharm": {
     "name": "#%%\n"
    }
   }
  },
  {
   "cell_type": "code",
   "execution_count": 27,
   "outputs": [
    {
     "data": {
      "text/plain": "Date_reported        datetime64[ns]\nCountry_code                 object\nCountry                      object\nWHO_region                   object\nNew_cases                     int64\nCumulative_cases              int64\nNew_deaths                    int64\nCumulative_deaths             int64\ndtype: object"
     },
     "execution_count": 27,
     "metadata": {},
     "output_type": "execute_result"
    }
   ],
   "source": [
    "df.dtypes"
   ],
   "metadata": {
    "collapsed": false,
    "pycharm": {
     "name": "#%%\n"
    }
   }
  },
  {
   "cell_type": "code",
   "execution_count": 28,
   "outputs": [],
   "source": [
    "df['Date_reported'] = pd.to_datetime(df['Date_reported'],format='%Y-%m-%d',errors='coerce')"
   ],
   "metadata": {
    "collapsed": false,
    "pycharm": {
     "name": "#%%\n"
    }
   }
  },
  {
   "cell_type": "code",
   "execution_count": 34,
   "outputs": [
    {
     "name": "stderr",
     "output_type": "stream",
     "text": [
      "c:\\users\\jonescy\\onedrive\\文档\\pycharmprojects\\dataanalysis\\lib\\site-packages\\ipykernel_launcher.py:1: FutureWarning: Treating datetime data as categorical rather than numeric in `.describe` is deprecated and will be removed in a future version of pandas. Specify `datetime_is_numeric=True` to silence this warning and adopt the future behavior now.\n",
      "  \"\"\"Entry point for launching an IPython kernel.\n"
     ]
    },
    {
     "data": {
      "text/plain": "              Date_reported Country_code Country WHO_region     New_cases  \\\ncount                 42025        41838   42025      42025  42025.000000   \nunique                  257          215     216          7           NaN   \ntop     2020-07-20 00:00:00           CN   China       EURO           NaN   \nfreq                    216          257     257      12251           NaN   \nfirst   2020-01-04 00:00:00          NaN     NaN        NaN           NaN   \nlast    2020-09-16 00:00:00          NaN     NaN        NaN           NaN   \nmean                    NaN          NaN     NaN        NaN    700.635289   \nstd                     NaN          NaN     NaN        NaN   4303.159402   \nmin                     NaN          NaN     NaN        NaN  -8261.000000   \n25%                     NaN          NaN     NaN        NaN      0.000000   \n50%                     NaN          NaN     NaN        NaN     11.000000   \n75%                     NaN          NaN     NaN        NaN    156.000000   \nmax                     NaN          NaN     NaN        NaN  97570.000000   \n\n        Cumulative_cases    New_deaths  Cumulative_deaths  \ncount       4.202500e+04  42025.000000       42025.000000  \nunique               NaN           NaN                NaN  \ntop                  NaN           NaN                NaN  \nfreq                 NaN           NaN                NaN  \nfirst                NaN           NaN                NaN  \nlast                 NaN           NaN                NaN  \nmean        4.673796e+04     22.161118        1965.295491  \nstd         2.907533e+05    129.145662       10479.505804  \nmin         1.000000e+00   -514.000000           0.000000  \n25%         8.400000e+01      0.000000           1.000000  \n50%         1.047000e+03      0.000000          20.000000  \n75%         1.005300e+04      3.000000         215.000000  \nmax         6.496246e+06   6409.000000      193494.000000  ",
      "text/html": "<div>\n<style scoped>\n    .dataframe tbody tr th:only-of-type {\n        vertical-align: middle;\n    }\n\n    .dataframe tbody tr th {\n        vertical-align: top;\n    }\n\n    .dataframe thead th {\n        text-align: right;\n    }\n</style>\n<table border=\"1\" class=\"dataframe\">\n  <thead>\n    <tr style=\"text-align: right;\">\n      <th></th>\n      <th>Date_reported</th>\n      <th>Country_code</th>\n      <th>Country</th>\n      <th>WHO_region</th>\n      <th>New_cases</th>\n      <th>Cumulative_cases</th>\n      <th>New_deaths</th>\n      <th>Cumulative_deaths</th>\n    </tr>\n  </thead>\n  <tbody>\n    <tr>\n      <th>count</th>\n      <td>42025</td>\n      <td>41838</td>\n      <td>42025</td>\n      <td>42025</td>\n      <td>42025.000000</td>\n      <td>4.202500e+04</td>\n      <td>42025.000000</td>\n      <td>42025.000000</td>\n    </tr>\n    <tr>\n      <th>unique</th>\n      <td>257</td>\n      <td>215</td>\n      <td>216</td>\n      <td>7</td>\n      <td>NaN</td>\n      <td>NaN</td>\n      <td>NaN</td>\n      <td>NaN</td>\n    </tr>\n    <tr>\n      <th>top</th>\n      <td>2020-07-20 00:00:00</td>\n      <td>CN</td>\n      <td>China</td>\n      <td>EURO</td>\n      <td>NaN</td>\n      <td>NaN</td>\n      <td>NaN</td>\n      <td>NaN</td>\n    </tr>\n    <tr>\n      <th>freq</th>\n      <td>216</td>\n      <td>257</td>\n      <td>257</td>\n      <td>12251</td>\n      <td>NaN</td>\n      <td>NaN</td>\n      <td>NaN</td>\n      <td>NaN</td>\n    </tr>\n    <tr>\n      <th>first</th>\n      <td>2020-01-04 00:00:00</td>\n      <td>NaN</td>\n      <td>NaN</td>\n      <td>NaN</td>\n      <td>NaN</td>\n      <td>NaN</td>\n      <td>NaN</td>\n      <td>NaN</td>\n    </tr>\n    <tr>\n      <th>last</th>\n      <td>2020-09-16 00:00:00</td>\n      <td>NaN</td>\n      <td>NaN</td>\n      <td>NaN</td>\n      <td>NaN</td>\n      <td>NaN</td>\n      <td>NaN</td>\n      <td>NaN</td>\n    </tr>\n    <tr>\n      <th>mean</th>\n      <td>NaN</td>\n      <td>NaN</td>\n      <td>NaN</td>\n      <td>NaN</td>\n      <td>700.635289</td>\n      <td>4.673796e+04</td>\n      <td>22.161118</td>\n      <td>1965.295491</td>\n    </tr>\n    <tr>\n      <th>std</th>\n      <td>NaN</td>\n      <td>NaN</td>\n      <td>NaN</td>\n      <td>NaN</td>\n      <td>4303.159402</td>\n      <td>2.907533e+05</td>\n      <td>129.145662</td>\n      <td>10479.505804</td>\n    </tr>\n    <tr>\n      <th>min</th>\n      <td>NaN</td>\n      <td>NaN</td>\n      <td>NaN</td>\n      <td>NaN</td>\n      <td>-8261.000000</td>\n      <td>1.000000e+00</td>\n      <td>-514.000000</td>\n      <td>0.000000</td>\n    </tr>\n    <tr>\n      <th>25%</th>\n      <td>NaN</td>\n      <td>NaN</td>\n      <td>NaN</td>\n      <td>NaN</td>\n      <td>0.000000</td>\n      <td>8.400000e+01</td>\n      <td>0.000000</td>\n      <td>1.000000</td>\n    </tr>\n    <tr>\n      <th>50%</th>\n      <td>NaN</td>\n      <td>NaN</td>\n      <td>NaN</td>\n      <td>NaN</td>\n      <td>11.000000</td>\n      <td>1.047000e+03</td>\n      <td>0.000000</td>\n      <td>20.000000</td>\n    </tr>\n    <tr>\n      <th>75%</th>\n      <td>NaN</td>\n      <td>NaN</td>\n      <td>NaN</td>\n      <td>NaN</td>\n      <td>156.000000</td>\n      <td>1.005300e+04</td>\n      <td>3.000000</td>\n      <td>215.000000</td>\n    </tr>\n    <tr>\n      <th>max</th>\n      <td>NaN</td>\n      <td>NaN</td>\n      <td>NaN</td>\n      <td>NaN</td>\n      <td>97570.000000</td>\n      <td>6.496246e+06</td>\n      <td>6409.000000</td>\n      <td>193494.000000</td>\n    </tr>\n  </tbody>\n</table>\n</div>"
     },
     "execution_count": 34,
     "metadata": {},
     "output_type": "execute_result"
    }
   ],
   "source": [
    "df.describe(include='all')\n"
   ],
   "metadata": {
    "collapsed": false,
    "pycharm": {
     "name": "#%%\n"
    }
   }
  },
  {
   "cell_type": "code",
   "execution_count": 43,
   "outputs": [
    {
     "name": "stderr",
     "output_type": "stream",
     "text": [
      "c:\\users\\jonescy\\onedrive\\文档\\pycharmprojects\\dataanalysis\\lib\\site-packages\\ipykernel_launcher.py:1: FutureWarning: The pandas.datetime class is deprecated and will be removed from pandas in a future version. Import from datetime module instead.\n",
      "  \"\"\"Entry point for launching an IPython kernel.\n"
     ]
    }
   ],
   "source": [
    "dtime = pd.datetime.today() - df['Date_reported']"
   ],
   "metadata": {
    "collapsed": false,
    "pycharm": {
     "name": "#%%\n"
    }
   }
  },
  {
   "cell_type": "code",
   "execution_count": 54,
   "outputs": [
    {
     "data": {
      "text/plain": "0        0.566605\n1        0.563865\n2        0.561125\n3        0.558386\n4        0.555646\n           ...   \n42020    0.015920\n42021    0.013180\n42022    0.010440\n42023    0.007701\n42024    0.004961\nName: Date_reported, Length: 42025, dtype: float64"
     },
     "execution_count": 54,
     "metadata": {},
     "output_type": "execute_result"
    }
   ],
   "source": [
    "dtime/np.timedelta64(365,'D')"
   ],
   "metadata": {
    "collapsed": false,
    "pycharm": {
     "name": "#%%\n"
    }
   }
  },
  {
   "cell_type": "code",
   "execution_count": 56,
   "outputs": [
    {
     "data": {
      "text/plain": "0       206 days 19:27:28.550335\n1       205 days 19:27:28.550335\n2       204 days 19:27:28.550335\n3       203 days 19:27:28.550335\n4       202 days 19:27:28.550335\n                  ...           \n42020     5 days 19:27:28.550335\n42021     4 days 19:27:28.550335\n42022     3 days 19:27:28.550335\n42023     2 days 19:27:28.550335\n42024     1 days 19:27:28.550335\nName: Date_reported, Length: 42025, dtype: timedelta64[ns]"
     },
     "execution_count": 56,
     "metadata": {},
     "output_type": "execute_result"
    }
   ],
   "source": [
    "dtime"
   ],
   "metadata": {
    "collapsed": false,
    "pycharm": {
     "name": "#%%\n"
    }
   }
  },
  {
   "cell_type": "code",
   "execution_count": 57,
   "outputs": [
    {
     "data": {
      "text/plain": "      Date_reported Country_code            Country WHO_region  New_cases  \\\n31423    2020-06-26           KR  Republic of Korea       WPRO         39   \n\n       Cumulative_cases  New_deaths  Cumulative_deaths  \n31423             12602           0                282  ",
      "text/html": "<div>\n<style scoped>\n    .dataframe tbody tr th:only-of-type {\n        vertical-align: middle;\n    }\n\n    .dataframe tbody tr th {\n        vertical-align: top;\n    }\n\n    .dataframe thead th {\n        text-align: right;\n    }\n</style>\n<table border=\"1\" class=\"dataframe\">\n  <thead>\n    <tr style=\"text-align: right;\">\n      <th></th>\n      <th>Date_reported</th>\n      <th>Country_code</th>\n      <th>Country</th>\n      <th>WHO_region</th>\n      <th>New_cases</th>\n      <th>Cumulative_cases</th>\n      <th>New_deaths</th>\n      <th>Cumulative_deaths</th>\n    </tr>\n  </thead>\n  <tbody>\n    <tr>\n      <th>31423</th>\n      <td>2020-06-26</td>\n      <td>KR</td>\n      <td>Republic of Korea</td>\n      <td>WPRO</td>\n      <td>39</td>\n      <td>12602</td>\n      <td>0</td>\n      <td>282</td>\n    </tr>\n  </tbody>\n</table>\n</div>"
     },
     "execution_count": 57,
     "metadata": {},
     "output_type": "execute_result"
    }
   ],
   "source": [
    "df.shift()"
   ],
   "metadata": {
    "collapsed": false,
    "pycharm": {
     "name": "#%%\n"
    }
   }
  },
  {
   "cell_type": "code",
   "execution_count": 58,
   "outputs": [
    {
     "data": {
      "text/plain": "      Date_reported Country_code      Country WHO_region  New_cases  \\\n0        2020-02-24           AF  Afghanistan       EMRO          5   \n1        2020-02-25           AF  Afghanistan       EMRO          0   \n2        2020-02-26           AF  Afghanistan       EMRO          0   \n3        2020-02-27           AF  Afghanistan       EMRO          0   \n4        2020-02-28           AF  Afghanistan       EMRO          0   \n...             ...          ...          ...        ...        ...   \n42020    2020-09-12           ZW     Zimbabwe       AFRO         26   \n42021    2020-09-13           ZW     Zimbabwe       AFRO         29   \n42022    2020-09-14           ZW     Zimbabwe       AFRO         18   \n42023    2020-09-15           ZW     Zimbabwe       AFRO          5   \n42024    2020-09-16           ZW     Zimbabwe       AFRO         45   \n\n       Cumulative_cases  New_deaths  Cumulative_deaths  \n0                     5           0                  0  \n1                     5           0                  0  \n2                     5           0                  0  \n3                     5           0                  0  \n4                     5           0                  0  \n...                 ...         ...                ...  \n42020              7479           2                224  \n42021              7508           0                224  \n42022              7526           0                224  \n42023              7531           0                224  \n42024              7576           0                224  \n\n[42025 rows x 8 columns]",
      "text/html": "<div>\n<style scoped>\n    .dataframe tbody tr th:only-of-type {\n        vertical-align: middle;\n    }\n\n    .dataframe tbody tr th {\n        vertical-align: top;\n    }\n\n    .dataframe thead th {\n        text-align: right;\n    }\n</style>\n<table border=\"1\" class=\"dataframe\">\n  <thead>\n    <tr style=\"text-align: right;\">\n      <th></th>\n      <th>Date_reported</th>\n      <th>Country_code</th>\n      <th>Country</th>\n      <th>WHO_region</th>\n      <th>New_cases</th>\n      <th>Cumulative_cases</th>\n      <th>New_deaths</th>\n      <th>Cumulative_deaths</th>\n    </tr>\n  </thead>\n  <tbody>\n    <tr>\n      <th>0</th>\n      <td>2020-02-24</td>\n      <td>AF</td>\n      <td>Afghanistan</td>\n      <td>EMRO</td>\n      <td>5</td>\n      <td>5</td>\n      <td>0</td>\n      <td>0</td>\n    </tr>\n    <tr>\n      <th>1</th>\n      <td>2020-02-25</td>\n      <td>AF</td>\n      <td>Afghanistan</td>\n      <td>EMRO</td>\n      <td>0</td>\n      <td>5</td>\n      <td>0</td>\n      <td>0</td>\n    </tr>\n    <tr>\n      <th>2</th>\n      <td>2020-02-26</td>\n      <td>AF</td>\n      <td>Afghanistan</td>\n      <td>EMRO</td>\n      <td>0</td>\n      <td>5</td>\n      <td>0</td>\n      <td>0</td>\n    </tr>\n    <tr>\n      <th>3</th>\n      <td>2020-02-27</td>\n      <td>AF</td>\n      <td>Afghanistan</td>\n      <td>EMRO</td>\n      <td>0</td>\n      <td>5</td>\n      <td>0</td>\n      <td>0</td>\n    </tr>\n    <tr>\n      <th>4</th>\n      <td>2020-02-28</td>\n      <td>AF</td>\n      <td>Afghanistan</td>\n      <td>EMRO</td>\n      <td>0</td>\n      <td>5</td>\n      <td>0</td>\n      <td>0</td>\n    </tr>\n    <tr>\n      <th>...</th>\n      <td>...</td>\n      <td>...</td>\n      <td>...</td>\n      <td>...</td>\n      <td>...</td>\n      <td>...</td>\n      <td>...</td>\n      <td>...</td>\n    </tr>\n    <tr>\n      <th>42020</th>\n      <td>2020-09-12</td>\n      <td>ZW</td>\n      <td>Zimbabwe</td>\n      <td>AFRO</td>\n      <td>26</td>\n      <td>7479</td>\n      <td>2</td>\n      <td>224</td>\n    </tr>\n    <tr>\n      <th>42021</th>\n      <td>2020-09-13</td>\n      <td>ZW</td>\n      <td>Zimbabwe</td>\n      <td>AFRO</td>\n      <td>29</td>\n      <td>7508</td>\n      <td>0</td>\n      <td>224</td>\n    </tr>\n    <tr>\n      <th>42022</th>\n      <td>2020-09-14</td>\n      <td>ZW</td>\n      <td>Zimbabwe</td>\n      <td>AFRO</td>\n      <td>18</td>\n      <td>7526</td>\n      <td>0</td>\n      <td>224</td>\n    </tr>\n    <tr>\n      <th>42023</th>\n      <td>2020-09-15</td>\n      <td>ZW</td>\n      <td>Zimbabwe</td>\n      <td>AFRO</td>\n      <td>5</td>\n      <td>7531</td>\n      <td>0</td>\n      <td>224</td>\n    </tr>\n    <tr>\n      <th>42024</th>\n      <td>2020-09-16</td>\n      <td>ZW</td>\n      <td>Zimbabwe</td>\n      <td>AFRO</td>\n      <td>45</td>\n      <td>7576</td>\n      <td>0</td>\n      <td>224</td>\n    </tr>\n  </tbody>\n</table>\n<p>42025 rows × 8 columns</p>\n</div>"
     },
     "execution_count": 58,
     "metadata": {},
     "output_type": "execute_result"
    }
   ],
   "source": [
    "df.drop_duplicates()"
   ],
   "metadata": {
    "collapsed": false,
    "pycharm": {
     "name": "#%%\n"
    }
   }
  },
  {
   "cell_type": "code",
   "execution_count": 64,
   "outputs": [
    {
     "data": {
      "text/plain": "Date_reported          0\nCountry_code         187\nCountry                0\nWHO_region             0\nNew_cases              0\nCumulative_cases       0\nNew_deaths             0\nCumulative_deaths      0\ndtype: int64"
     },
     "execution_count": 64,
     "metadata": {},
     "output_type": "execute_result"
    }
   ],
   "source": [
    "np.sum(df.isnull(),axis=0)"
   ],
   "metadata": {
    "collapsed": false,
    "pycharm": {
     "name": "#%%\n"
    }
   }
  },
  {
   "cell_type": "code",
   "execution_count": 66,
   "outputs": [
    {
     "data": {
      "text/plain": "Date_reported        0.00000\nCountry_code         0.00445\nCountry              0.00000\nWHO_region           0.00000\nNew_cases            0.00000\nCumulative_cases     0.00000\nNew_deaths           0.00000\nCumulative_deaths    0.00000\ndtype: float64"
     },
     "execution_count": 66,
     "metadata": {},
     "output_type": "execute_result"
    }
   ],
   "source": [
    "df.apply(lambda x:sum(x.isnull())/len(x),axis=0)"
   ],
   "metadata": {
    "collapsed": false,
    "pycharm": {
     "name": "#%%\n"
    }
   }
  },
  {
   "cell_type": "code",
   "execution_count": 76,
   "outputs": [
    {
     "data": {
      "text/plain": "      Date_reported Country_code      Country WHO_region  New_cases  \\\n0        2020-02-24           AF  Afghanistan       EMRO          5   \n1        2020-02-25           AF  Afghanistan       EMRO          0   \n2        2020-02-26           AF  Afghanistan       EMRO          0   \n3        2020-02-27           AF  Afghanistan       EMRO          0   \n4        2020-02-28           AF  Afghanistan       EMRO          0   \n...             ...          ...          ...        ...        ...   \n42020    2020-09-12           ZW     Zimbabwe       AFRO         26   \n42021    2020-09-13           ZW     Zimbabwe       AFRO         29   \n42022    2020-09-14           ZW     Zimbabwe       AFRO         18   \n42023    2020-09-15           ZW     Zimbabwe       AFRO          5   \n42024    2020-09-16           ZW     Zimbabwe       AFRO         45   \n\n       Cumulative_cases  New_deaths  Cumulative_deaths  \n0                     5           0                  0  \n1                     5           0                  0  \n2                     5           0                  0  \n3                     5           0                  0  \n4                     5           0                  0  \n...                 ...         ...                ...  \n42020              7479           2                224  \n42021              7508           0                224  \n42022              7526           0                224  \n42023              7531           0                224  \n42024              7576           0                224  \n\n[41838 rows x 8 columns]",
      "text/html": "<div>\n<style scoped>\n    .dataframe tbody tr th:only-of-type {\n        vertical-align: middle;\n    }\n\n    .dataframe tbody tr th {\n        vertical-align: top;\n    }\n\n    .dataframe thead th {\n        text-align: right;\n    }\n</style>\n<table border=\"1\" class=\"dataframe\">\n  <thead>\n    <tr style=\"text-align: right;\">\n      <th></th>\n      <th>Date_reported</th>\n      <th>Country_code</th>\n      <th>Country</th>\n      <th>WHO_region</th>\n      <th>New_cases</th>\n      <th>Cumulative_cases</th>\n      <th>New_deaths</th>\n      <th>Cumulative_deaths</th>\n    </tr>\n  </thead>\n  <tbody>\n    <tr>\n      <th>0</th>\n      <td>2020-02-24</td>\n      <td>AF</td>\n      <td>Afghanistan</td>\n      <td>EMRO</td>\n      <td>5</td>\n      <td>5</td>\n      <td>0</td>\n      <td>0</td>\n    </tr>\n    <tr>\n      <th>1</th>\n      <td>2020-02-25</td>\n      <td>AF</td>\n      <td>Afghanistan</td>\n      <td>EMRO</td>\n      <td>0</td>\n      <td>5</td>\n      <td>0</td>\n      <td>0</td>\n    </tr>\n    <tr>\n      <th>2</th>\n      <td>2020-02-26</td>\n      <td>AF</td>\n      <td>Afghanistan</td>\n      <td>EMRO</td>\n      <td>0</td>\n      <td>5</td>\n      <td>0</td>\n      <td>0</td>\n    </tr>\n    <tr>\n      <th>3</th>\n      <td>2020-02-27</td>\n      <td>AF</td>\n      <td>Afghanistan</td>\n      <td>EMRO</td>\n      <td>0</td>\n      <td>5</td>\n      <td>0</td>\n      <td>0</td>\n    </tr>\n    <tr>\n      <th>4</th>\n      <td>2020-02-28</td>\n      <td>AF</td>\n      <td>Afghanistan</td>\n      <td>EMRO</td>\n      <td>0</td>\n      <td>5</td>\n      <td>0</td>\n      <td>0</td>\n    </tr>\n    <tr>\n      <th>...</th>\n      <td>...</td>\n      <td>...</td>\n      <td>...</td>\n      <td>...</td>\n      <td>...</td>\n      <td>...</td>\n      <td>...</td>\n      <td>...</td>\n    </tr>\n    <tr>\n      <th>42020</th>\n      <td>2020-09-12</td>\n      <td>ZW</td>\n      <td>Zimbabwe</td>\n      <td>AFRO</td>\n      <td>26</td>\n      <td>7479</td>\n      <td>2</td>\n      <td>224</td>\n    </tr>\n    <tr>\n      <th>42021</th>\n      <td>2020-09-13</td>\n      <td>ZW</td>\n      <td>Zimbabwe</td>\n      <td>AFRO</td>\n      <td>29</td>\n      <td>7508</td>\n      <td>0</td>\n      <td>224</td>\n    </tr>\n    <tr>\n      <th>42022</th>\n      <td>2020-09-14</td>\n      <td>ZW</td>\n      <td>Zimbabwe</td>\n      <td>AFRO</td>\n      <td>18</td>\n      <td>7526</td>\n      <td>0</td>\n      <td>224</td>\n    </tr>\n    <tr>\n      <th>42023</th>\n      <td>2020-09-15</td>\n      <td>ZW</td>\n      <td>Zimbabwe</td>\n      <td>AFRO</td>\n      <td>5</td>\n      <td>7531</td>\n      <td>0</td>\n      <td>224</td>\n    </tr>\n    <tr>\n      <th>42024</th>\n      <td>2020-09-16</td>\n      <td>ZW</td>\n      <td>Zimbabwe</td>\n      <td>AFRO</td>\n      <td>45</td>\n      <td>7576</td>\n      <td>0</td>\n      <td>224</td>\n    </tr>\n  </tbody>\n</table>\n<p>41838 rows × 8 columns</p>\n</div>"
     },
     "execution_count": 76,
     "metadata": {},
     "output_type": "execute_result"
    }
   ],
   "source": [
    "df.dropna(how='all',axis=0)"
   ],
   "metadata": {
    "collapsed": false,
    "pycharm": {
     "name": "#%%\n"
    }
   }
  },
  {
   "cell_type": "code",
   "execution_count": 82,
   "outputs": [
    {
     "data": {
      "text/plain": "State/Territory          61\nTotal Cases              61\nConfirmed Cases          31\nProbable Cases           31\nCases in Last 7 Days     61\nCase Rate per 100000     61\nTotal Deaths             61\nConfirmed Deaths         31\nProbable Deaths          31\nDeath Rate per 100000    61\ndtype: int64"
     },
     "execution_count": 82,
     "metadata": {},
     "output_type": "execute_result"
    }
   ],
   "source": [
    "df2 = pd.read_csv(r'c:/users/jonescy/Downloads/united_states_covid19_cases_and_deaths_by_state.csv',header=2)\n",
    "df2.count()"
   ],
   "metadata": {
    "collapsed": false,
    "pycharm": {
     "name": "#%%\n"
    }
   }
  },
  {
   "cell_type": "code",
   "execution_count": 88,
   "outputs": [
    {
     "data": {
      "text/plain": "0       59511.0\n1      126813.0\n2       59511.0\n3       59511.0\n4      207220.0\n        ...    \n56      59511.0\n57      91304.0\n58      12672.0\n59       3762.0\n60    2419736.0\nName: Confirmed Cases, Length: 61, dtype: float64"
     },
     "execution_count": 88,
     "metadata": {},
     "output_type": "execute_result"
    }
   ],
   "source": [
    "df2['Confirmed Cases'].fillna(df2['Confirmed Cases'].median())"
   ],
   "metadata": {
    "collapsed": false,
    "pycharm": {
     "name": "#%%\n"
    }
   }
  },
  {
   "cell_type": "code",
   "execution_count": null,
   "outputs": [],
   "source": [],
   "metadata": {
    "collapsed": false,
    "pycharm": {
     "name": "#%%\n"
    }
   }
  }
 ],
 "metadata": {
  "kernelspec": {
   "display_name": "Python 3",
   "language": "python",
   "name": "python3"
  },
  "language_info": {
   "codemirror_mode": {
    "name": "ipython",
    "version": 2
   },
   "file_extension": ".py",
   "mimetype": "text/x-python",
   "name": "python",
   "nbconvert_exporter": "python",
   "pygments_lexer": "ipython2",
   "version": "2.7.6"
  }
 },
 "nbformat": 4,
 "nbformat_minor": 0
}