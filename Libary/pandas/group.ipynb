{
 "cells": [
  {
   "cell_type": "code",
   "execution_count": 1,
   "metadata": {
    "collapsed": true
   },
   "outputs": [],
   "source": [
    "import pandas as pd\n",
    "import numpy as np"
   ]
  },
  {
   "cell_type": "code",
   "execution_count": 2,
   "outputs": [],
   "source": [
    "df = pd.read_csv(r'C:\\Users\\jonescy\\OneDrive\\文档\\MySQL\\total.csv')"
   ],
   "metadata": {
    "collapsed": false,
    "pycharm": {
     "name": "#%%\n"
    }
   }
  },
  {
   "cell_type": "code",
   "execution_count": 3,
   "outputs": [
    {
     "data": {
      "text/plain": "HouseNum              0\nHouseHost             0\nHouseHostIDCardNum    0\nHousehostHometown     0\nAccountType           0\nAccountNum            0\nHomeAddress           0\nMaritalStatus         0\nSpouseName            0\nSpouseIDNum           0\nchildren1             0\nIdCardNumChildren1    0\nchildren2             0\nIdCardNumChildren2    0\nchildren3             0\nIdCardNumChildren3    0\nchildren4             0\nIdCardNumChildren4    0\ndtype: int64"
     },
     "execution_count": 3,
     "metadata": {},
     "output_type": "execute_result"
    }
   ],
   "source": [
    "np.sum(df.isnull(),axis=0)"
   ],
   "metadata": {
    "collapsed": false,
    "pycharm": {
     "name": "#%%\n"
    }
   }
  },
  {
   "cell_type": "code",
   "execution_count": 4,
   "outputs": [
    {
     "data": {
      "text/plain": "     HouseNum HouseHost  HouseHostIDCardNum HousehostHometown AccountType  \\\n0      LA0114       蓝伟明  440106197001020335            广东省广州市     居民户口家庭户   \n1      LD0117       李志发  440106195604110330            广东省广州市     居民户口家庭户   \n2      CJ0319       李世恒  440922196906223232            广东省高州市      农业家庭户口   \n3      CJ0319       李根深  440982199512082430            广东省化州市     居民户口家庭户   \n4      DB0001       廖志福  440106196601220352            广东省广州市     居民户口家庭户   \n...       ...       ...                 ...               ...         ...   \n2905   ZW0183       廖俊杰  440106198710160378            广东省广州市     居民户口家庭户   \n2906   ZW0183       陈长娣  440106195908220344            广东省广州市     居民户口家庭户   \n2907   ZW0184       廖晓瑜  440106198111230346            广东省广州市     居民户口家庭户   \n2908   ZW0184       廖晓莉  440106198212300382            广东省广州市     居民户口家庭户   \n2909   ZW0184       廖雄光  440106195503210316            广东省广州市     居民户口家庭户   \n\n      AccountNum              HomeAddress MaritalStatus SpouseName  \\\n0      225033056      广东省广州市天河区蓝屋一街2号201房                            \n1      225003042          广东省广州市天河区渔东路61号                            \n2       15213730           广东省镇江镇那射禾塘村33号            未婚              \n3          14044  广东省广州市天河区员村西街6号大院5号601房                            \n4          19062        广东省广州市天河区渔北路南三巷8号            已婚        郭秋娣   \n...          ...                      ...           ...        ...   \n2905       19066            广州市天河区渔北路188号                            \n2906   225027040          广东省广州市天河区渔东路93号            已婚        廖雄光   \n2907   225019106          广州市天河区渔北路188号二楼                            \n2908       19060          广州市天河区渔北路186号二楼                            \n2909   225027086     广东省广州市天河区渔沙坦张屋官山二巷7号            已婚        陈长娣   \n\n             SpouseIDNum children1  IdCardNumChildren1 children2  \\\n0                                                                  \n1                                                                  \n2                                                                  \n3                                                                  \n4     440111197209072741       廖瑞媚  440111199312282762       廖淄钧   \n...                  ...       ...                 ...       ...   \n2905                           廖诣辰  440106201611177312       廖千淼   \n2906  440106195503210316                                           \n2907                           冯熙霖  440106200612297311             \n2908                           叶泳童  440106201101197348             \n2909  440106195908220344                                           \n\n      IdCardNumChildren2 children3 IdCardNumChildren3 children4  \\\n0                                                                 \n1                                                                 \n2                                                                 \n3                                                                 \n4     440111199707142764                                          \n...                  ...       ...                ...       ...   \n2905  440106201807227342                                          \n2906                                                              \n2907                                                              \n2908                                                              \n2909                                                              \n\n     IdCardNumChildren4  \n0                        \n1                        \n2                        \n3                        \n4                        \n...                 ...  \n2905                     \n2906                     \n2907                     \n2908                     \n2909                     \n\n[2910 rows x 18 columns]",
      "text/html": "<div>\n<style scoped>\n    .dataframe tbody tr th:only-of-type {\n        vertical-align: middle;\n    }\n\n    .dataframe tbody tr th {\n        vertical-align: top;\n    }\n\n    .dataframe thead th {\n        text-align: right;\n    }\n</style>\n<table border=\"1\" class=\"dataframe\">\n  <thead>\n    <tr style=\"text-align: right;\">\n      <th></th>\n      <th>HouseNum</th>\n      <th>HouseHost</th>\n      <th>HouseHostIDCardNum</th>\n      <th>HousehostHometown</th>\n      <th>AccountType</th>\n      <th>AccountNum</th>\n      <th>HomeAddress</th>\n      <th>MaritalStatus</th>\n      <th>SpouseName</th>\n      <th>SpouseIDNum</th>\n      <th>children1</th>\n      <th>IdCardNumChildren1</th>\n      <th>children2</th>\n      <th>IdCardNumChildren2</th>\n      <th>children3</th>\n      <th>IdCardNumChildren3</th>\n      <th>children4</th>\n      <th>IdCardNumChildren4</th>\n    </tr>\n  </thead>\n  <tbody>\n    <tr>\n      <th>0</th>\n      <td>LA0114</td>\n      <td>蓝伟明</td>\n      <td>440106197001020335</td>\n      <td>广东省广州市</td>\n      <td>居民户口家庭户</td>\n      <td>225033056</td>\n      <td>广东省广州市天河区蓝屋一街2号201房</td>\n      <td></td>\n      <td></td>\n      <td></td>\n      <td></td>\n      <td></td>\n      <td></td>\n      <td></td>\n      <td></td>\n      <td></td>\n      <td></td>\n      <td></td>\n    </tr>\n    <tr>\n      <th>1</th>\n      <td>LD0117</td>\n      <td>李志发</td>\n      <td>440106195604110330</td>\n      <td>广东省广州市</td>\n      <td>居民户口家庭户</td>\n      <td>225003042</td>\n      <td>广东省广州市天河区渔东路61号</td>\n      <td></td>\n      <td></td>\n      <td></td>\n      <td></td>\n      <td></td>\n      <td></td>\n      <td></td>\n      <td></td>\n      <td></td>\n      <td></td>\n      <td></td>\n    </tr>\n    <tr>\n      <th>2</th>\n      <td>CJ0319</td>\n      <td>李世恒</td>\n      <td>440922196906223232</td>\n      <td>广东省高州市</td>\n      <td>农业家庭户口</td>\n      <td>15213730</td>\n      <td>广东省镇江镇那射禾塘村33号</td>\n      <td>未婚</td>\n      <td></td>\n      <td></td>\n      <td></td>\n      <td></td>\n      <td></td>\n      <td></td>\n      <td></td>\n      <td></td>\n      <td></td>\n      <td></td>\n    </tr>\n    <tr>\n      <th>3</th>\n      <td>CJ0319</td>\n      <td>李根深</td>\n      <td>440982199512082430</td>\n      <td>广东省化州市</td>\n      <td>居民户口家庭户</td>\n      <td>14044</td>\n      <td>广东省广州市天河区员村西街6号大院5号601房</td>\n      <td></td>\n      <td></td>\n      <td></td>\n      <td></td>\n      <td></td>\n      <td></td>\n      <td></td>\n      <td></td>\n      <td></td>\n      <td></td>\n      <td></td>\n    </tr>\n    <tr>\n      <th>4</th>\n      <td>DB0001</td>\n      <td>廖志福</td>\n      <td>440106196601220352</td>\n      <td>广东省广州市</td>\n      <td>居民户口家庭户</td>\n      <td>19062</td>\n      <td>广东省广州市天河区渔北路南三巷8号</td>\n      <td>已婚</td>\n      <td>郭秋娣</td>\n      <td>440111197209072741</td>\n      <td>廖瑞媚</td>\n      <td>440111199312282762</td>\n      <td>廖淄钧</td>\n      <td>440111199707142764</td>\n      <td></td>\n      <td></td>\n      <td></td>\n      <td></td>\n    </tr>\n    <tr>\n      <th>...</th>\n      <td>...</td>\n      <td>...</td>\n      <td>...</td>\n      <td>...</td>\n      <td>...</td>\n      <td>...</td>\n      <td>...</td>\n      <td>...</td>\n      <td>...</td>\n      <td>...</td>\n      <td>...</td>\n      <td>...</td>\n      <td>...</td>\n      <td>...</td>\n      <td>...</td>\n      <td>...</td>\n      <td>...</td>\n      <td>...</td>\n    </tr>\n    <tr>\n      <th>2905</th>\n      <td>ZW0183</td>\n      <td>廖俊杰</td>\n      <td>440106198710160378</td>\n      <td>广东省广州市</td>\n      <td>居民户口家庭户</td>\n      <td>19066</td>\n      <td>广州市天河区渔北路188号</td>\n      <td></td>\n      <td></td>\n      <td></td>\n      <td>廖诣辰</td>\n      <td>440106201611177312</td>\n      <td>廖千淼</td>\n      <td>440106201807227342</td>\n      <td></td>\n      <td></td>\n      <td></td>\n      <td></td>\n    </tr>\n    <tr>\n      <th>2906</th>\n      <td>ZW0183</td>\n      <td>陈长娣</td>\n      <td>440106195908220344</td>\n      <td>广东省广州市</td>\n      <td>居民户口家庭户</td>\n      <td>225027040</td>\n      <td>广东省广州市天河区渔东路93号</td>\n      <td>已婚</td>\n      <td>廖雄光</td>\n      <td>440106195503210316</td>\n      <td></td>\n      <td></td>\n      <td></td>\n      <td></td>\n      <td></td>\n      <td></td>\n      <td></td>\n      <td></td>\n    </tr>\n    <tr>\n      <th>2907</th>\n      <td>ZW0184</td>\n      <td>廖晓瑜</td>\n      <td>440106198111230346</td>\n      <td>广东省广州市</td>\n      <td>居民户口家庭户</td>\n      <td>225019106</td>\n      <td>广州市天河区渔北路188号二楼</td>\n      <td></td>\n      <td></td>\n      <td></td>\n      <td>冯熙霖</td>\n      <td>440106200612297311</td>\n      <td></td>\n      <td></td>\n      <td></td>\n      <td></td>\n      <td></td>\n      <td></td>\n    </tr>\n    <tr>\n      <th>2908</th>\n      <td>ZW0184</td>\n      <td>廖晓莉</td>\n      <td>440106198212300382</td>\n      <td>广东省广州市</td>\n      <td>居民户口家庭户</td>\n      <td>19060</td>\n      <td>广州市天河区渔北路186号二楼</td>\n      <td></td>\n      <td></td>\n      <td></td>\n      <td>叶泳童</td>\n      <td>440106201101197348</td>\n      <td></td>\n      <td></td>\n      <td></td>\n      <td></td>\n      <td></td>\n      <td></td>\n    </tr>\n    <tr>\n      <th>2909</th>\n      <td>ZW0184</td>\n      <td>廖雄光</td>\n      <td>440106195503210316</td>\n      <td>广东省广州市</td>\n      <td>居民户口家庭户</td>\n      <td>225027086</td>\n      <td>广东省广州市天河区渔沙坦张屋官山二巷7号</td>\n      <td>已婚</td>\n      <td>陈长娣</td>\n      <td>440106195908220344</td>\n      <td></td>\n      <td></td>\n      <td></td>\n      <td></td>\n      <td></td>\n      <td></td>\n      <td></td>\n      <td></td>\n    </tr>\n  </tbody>\n</table>\n<p>2910 rows × 18 columns</p>\n</div>"
     },
     "execution_count": 4,
     "metadata": {},
     "output_type": "execute_result"
    }
   ],
   "source": [
    "df.sort_values(['HouseNum','HouseHost'],ascending=True,na_position='last',ignore_index=True)"
   ],
   "metadata": {
    "collapsed": false,
    "pycharm": {
     "name": "#%%\n"
    }
   }
  },
  {
   "cell_type": "code",
   "execution_count": 5,
   "outputs": [
    {
     "ename": "KeyError",
     "evalue": "\"['Unnamed: 0'] not found in axis\"",
     "output_type": "error",
     "traceback": [
      "\u001B[1;31m---------------------------------------------------------------------------\u001B[0m",
      "\u001B[1;31mKeyError\u001B[0m                                  Traceback (most recent call last)",
      "\u001B[1;32m<ipython-input-5-55169b54c656>\u001B[0m in \u001B[0;36m<module>\u001B[1;34m\u001B[0m\n\u001B[0;32m      1\u001B[0m \u001B[0mdf2\u001B[0m \u001B[1;33m=\u001B[0m \u001B[0mpd\u001B[0m\u001B[1;33m.\u001B[0m\u001B[0mread_csv\u001B[0m\u001B[1;33m(\u001B[0m\u001B[1;34m'各地区户数、人口数和性别比.csv'\u001B[0m\u001B[1;33m)\u001B[0m\u001B[1;33m\u001B[0m\u001B[1;33m\u001B[0m\u001B[0m\n\u001B[1;32m----> 2\u001B[1;33m \u001B[0mdf2\u001B[0m\u001B[1;33m.\u001B[0m\u001B[0mdrop\u001B[0m\u001B[1;33m(\u001B[0m\u001B[0mcolumns\u001B[0m\u001B[1;33m=\u001B[0m\u001B[1;34m'Unnamed: 0'\u001B[0m\u001B[1;33m,\u001B[0m\u001B[0minplace\u001B[0m\u001B[1;33m=\u001B[0m\u001B[1;32mTrue\u001B[0m\u001B[1;33m)\u001B[0m\u001B[1;33m\u001B[0m\u001B[1;33m\u001B[0m\u001B[0m\n\u001B[0m\u001B[0;32m      3\u001B[0m \u001B[1;33m\u001B[0m\u001B[0m\n",
      "\u001B[1;32mc:\\users\\jonescy\\onedrive\\文档\\pycharmprojects\\dataanalysis\\lib\\site-packages\\pandas\\core\\frame.py\u001B[0m in \u001B[0;36mdrop\u001B[1;34m(self, labels, axis, index, columns, level, inplace, errors)\u001B[0m\n\u001B[0;32m   4167\u001B[0m             \u001B[0mlevel\u001B[0m\u001B[1;33m=\u001B[0m\u001B[0mlevel\u001B[0m\u001B[1;33m,\u001B[0m\u001B[1;33m\u001B[0m\u001B[1;33m\u001B[0m\u001B[0m\n\u001B[0;32m   4168\u001B[0m             \u001B[0minplace\u001B[0m\u001B[1;33m=\u001B[0m\u001B[0minplace\u001B[0m\u001B[1;33m,\u001B[0m\u001B[1;33m\u001B[0m\u001B[1;33m\u001B[0m\u001B[0m\n\u001B[1;32m-> 4169\u001B[1;33m             \u001B[0merrors\u001B[0m\u001B[1;33m=\u001B[0m\u001B[0merrors\u001B[0m\u001B[1;33m,\u001B[0m\u001B[1;33m\u001B[0m\u001B[1;33m\u001B[0m\u001B[0m\n\u001B[0m\u001B[0;32m   4170\u001B[0m         )\n\u001B[0;32m   4171\u001B[0m \u001B[1;33m\u001B[0m\u001B[0m\n",
      "\u001B[1;32mc:\\users\\jonescy\\onedrive\\文档\\pycharmprojects\\dataanalysis\\lib\\site-packages\\pandas\\core\\generic.py\u001B[0m in \u001B[0;36mdrop\u001B[1;34m(self, labels, axis, index, columns, level, inplace, errors)\u001B[0m\n\u001B[0;32m   3882\u001B[0m         \u001B[1;32mfor\u001B[0m \u001B[0maxis\u001B[0m\u001B[1;33m,\u001B[0m \u001B[0mlabels\u001B[0m \u001B[1;32min\u001B[0m \u001B[0maxes\u001B[0m\u001B[1;33m.\u001B[0m\u001B[0mitems\u001B[0m\u001B[1;33m(\u001B[0m\u001B[1;33m)\u001B[0m\u001B[1;33m:\u001B[0m\u001B[1;33m\u001B[0m\u001B[1;33m\u001B[0m\u001B[0m\n\u001B[0;32m   3883\u001B[0m             \u001B[1;32mif\u001B[0m \u001B[0mlabels\u001B[0m \u001B[1;32mis\u001B[0m \u001B[1;32mnot\u001B[0m \u001B[1;32mNone\u001B[0m\u001B[1;33m:\u001B[0m\u001B[1;33m\u001B[0m\u001B[1;33m\u001B[0m\u001B[0m\n\u001B[1;32m-> 3884\u001B[1;33m                 \u001B[0mobj\u001B[0m \u001B[1;33m=\u001B[0m \u001B[0mobj\u001B[0m\u001B[1;33m.\u001B[0m\u001B[0m_drop_axis\u001B[0m\u001B[1;33m(\u001B[0m\u001B[0mlabels\u001B[0m\u001B[1;33m,\u001B[0m \u001B[0maxis\u001B[0m\u001B[1;33m,\u001B[0m \u001B[0mlevel\u001B[0m\u001B[1;33m=\u001B[0m\u001B[0mlevel\u001B[0m\u001B[1;33m,\u001B[0m \u001B[0merrors\u001B[0m\u001B[1;33m=\u001B[0m\u001B[0merrors\u001B[0m\u001B[1;33m)\u001B[0m\u001B[1;33m\u001B[0m\u001B[1;33m\u001B[0m\u001B[0m\n\u001B[0m\u001B[0;32m   3885\u001B[0m \u001B[1;33m\u001B[0m\u001B[0m\n\u001B[0;32m   3886\u001B[0m         \u001B[1;32mif\u001B[0m \u001B[0minplace\u001B[0m\u001B[1;33m:\u001B[0m\u001B[1;33m\u001B[0m\u001B[1;33m\u001B[0m\u001B[0m\n",
      "\u001B[1;32mc:\\users\\jonescy\\onedrive\\文档\\pycharmprojects\\dataanalysis\\lib\\site-packages\\pandas\\core\\generic.py\u001B[0m in \u001B[0;36m_drop_axis\u001B[1;34m(self, labels, axis, level, errors)\u001B[0m\n\u001B[0;32m   3916\u001B[0m                 \u001B[0mnew_axis\u001B[0m \u001B[1;33m=\u001B[0m \u001B[0maxis\u001B[0m\u001B[1;33m.\u001B[0m\u001B[0mdrop\u001B[0m\u001B[1;33m(\u001B[0m\u001B[0mlabels\u001B[0m\u001B[1;33m,\u001B[0m \u001B[0mlevel\u001B[0m\u001B[1;33m=\u001B[0m\u001B[0mlevel\u001B[0m\u001B[1;33m,\u001B[0m \u001B[0merrors\u001B[0m\u001B[1;33m=\u001B[0m\u001B[0merrors\u001B[0m\u001B[1;33m)\u001B[0m\u001B[1;33m\u001B[0m\u001B[1;33m\u001B[0m\u001B[0m\n\u001B[0;32m   3917\u001B[0m             \u001B[1;32melse\u001B[0m\u001B[1;33m:\u001B[0m\u001B[1;33m\u001B[0m\u001B[1;33m\u001B[0m\u001B[0m\n\u001B[1;32m-> 3918\u001B[1;33m                 \u001B[0mnew_axis\u001B[0m \u001B[1;33m=\u001B[0m \u001B[0maxis\u001B[0m\u001B[1;33m.\u001B[0m\u001B[0mdrop\u001B[0m\u001B[1;33m(\u001B[0m\u001B[0mlabels\u001B[0m\u001B[1;33m,\u001B[0m \u001B[0merrors\u001B[0m\u001B[1;33m=\u001B[0m\u001B[0merrors\u001B[0m\u001B[1;33m)\u001B[0m\u001B[1;33m\u001B[0m\u001B[1;33m\u001B[0m\u001B[0m\n\u001B[0m\u001B[0;32m   3919\u001B[0m             \u001B[0mresult\u001B[0m \u001B[1;33m=\u001B[0m \u001B[0mself\u001B[0m\u001B[1;33m.\u001B[0m\u001B[0mreindex\u001B[0m\u001B[1;33m(\u001B[0m\u001B[1;33m**\u001B[0m\u001B[1;33m{\u001B[0m\u001B[0maxis_name\u001B[0m\u001B[1;33m:\u001B[0m \u001B[0mnew_axis\u001B[0m\u001B[1;33m}\u001B[0m\u001B[1;33m)\u001B[0m\u001B[1;33m\u001B[0m\u001B[1;33m\u001B[0m\u001B[0m\n\u001B[0;32m   3920\u001B[0m \u001B[1;33m\u001B[0m\u001B[0m\n",
      "\u001B[1;32mc:\\users\\jonescy\\onedrive\\文档\\pycharmprojects\\dataanalysis\\lib\\site-packages\\pandas\\core\\indexes\\base.py\u001B[0m in \u001B[0;36mdrop\u001B[1;34m(self, labels, errors)\u001B[0m\n\u001B[0;32m   5276\u001B[0m         \u001B[1;32mif\u001B[0m \u001B[0mmask\u001B[0m\u001B[1;33m.\u001B[0m\u001B[0many\u001B[0m\u001B[1;33m(\u001B[0m\u001B[1;33m)\u001B[0m\u001B[1;33m:\u001B[0m\u001B[1;33m\u001B[0m\u001B[1;33m\u001B[0m\u001B[0m\n\u001B[0;32m   5277\u001B[0m             \u001B[1;32mif\u001B[0m \u001B[0merrors\u001B[0m \u001B[1;33m!=\u001B[0m \u001B[1;34m\"ignore\"\u001B[0m\u001B[1;33m:\u001B[0m\u001B[1;33m\u001B[0m\u001B[1;33m\u001B[0m\u001B[0m\n\u001B[1;32m-> 5278\u001B[1;33m                 \u001B[1;32mraise\u001B[0m \u001B[0mKeyError\u001B[0m\u001B[1;33m(\u001B[0m\u001B[1;34mf\"{labels[mask]} not found in axis\"\u001B[0m\u001B[1;33m)\u001B[0m\u001B[1;33m\u001B[0m\u001B[1;33m\u001B[0m\u001B[0m\n\u001B[0m\u001B[0;32m   5279\u001B[0m             \u001B[0mindexer\u001B[0m \u001B[1;33m=\u001B[0m \u001B[0mindexer\u001B[0m\u001B[1;33m[\u001B[0m\u001B[1;33m~\u001B[0m\u001B[0mmask\u001B[0m\u001B[1;33m]\u001B[0m\u001B[1;33m\u001B[0m\u001B[1;33m\u001B[0m\u001B[0m\n\u001B[0;32m   5280\u001B[0m         \u001B[1;32mreturn\u001B[0m \u001B[0mself\u001B[0m\u001B[1;33m.\u001B[0m\u001B[0mdelete\u001B[0m\u001B[1;33m(\u001B[0m\u001B[0mindexer\u001B[0m\u001B[1;33m)\u001B[0m\u001B[1;33m\u001B[0m\u001B[1;33m\u001B[0m\u001B[0m\n",
      "\u001B[1;31mKeyError\u001B[0m: \"['Unnamed: 0'] not found in axis\""
     ]
    }
   ],
   "source": [
    "df2 = pd.read_csv('各地区户数、人口数和性别比.csv')\n",
    "df2.drop(columns='Unnamed: 0',inplace=True)"
   ],
   "metadata": {
    "collapsed": false,
    "pycharm": {
     "name": "#%%\n"
    }
   }
  },
  {
   "cell_type": "code",
   "execution_count": null,
   "outputs": [],
   "source": [
    "df2.to_csv('各地区户数、人口数和性别比.csv',index=False)"
   ],
   "metadata": {
    "collapsed": false,
    "pycharm": {
     "name": "#%%\n"
    }
   }
  },
  {
   "cell_type": "code",
   "execution_count": null,
   "outputs": [],
   "source": [
    "df2.columns"
   ],
   "metadata": {
    "collapsed": false,
    "pycharm": {
     "name": "#%%\n"
    }
   }
  },
  {
   "cell_type": "code",
   "execution_count": null,
   "outputs": [],
   "source": [
    "var_name = ['AccountTotal', 'AccountFamily', 'AccountGroup',\n",
    "       'Population_Total', 'Male', 'Female', 'M/F_Pro(%)', 'Family_Total',\n",
    "       'F_Male', 'F_Female', 'F_M/F_Pro(%)', 'Group_Total', 'G_Male',\n",
    "       'G_Female', 'G_M/F_Pro(%)', 'Avg_Family_Size']\n"
   ],
   "metadata": {
    "collapsed": false,
    "pycharm": {
     "name": "#%%\n"
    }
   }
  },
  {
   "cell_type": "code",
   "execution_count": null,
   "outputs": [],
   "source": [
    "df2.describe(include=['object'])"
   ],
   "metadata": {
    "collapsed": false,
    "pycharm": {
     "name": "#%%\n"
    }
   }
  },
  {
   "cell_type": "code",
   "execution_count": null,
   "outputs": [],
   "source": [
    "group = df.groupby(\"HouseNum\")"
   ],
   "metadata": {
    "collapsed": false,
    "pycharm": {
     "name": "#%%\n"
    }
   }
  },
  {
   "cell_type": "code",
   "execution_count": null,
   "outputs": [],
   "source": [
    "group.size()\n",
    "# np.max(df, axis=0)"
   ],
   "metadata": {
    "collapsed": false,
    "pycharm": {
     "name": "#%%\n"
    }
   }
  },
  {
   "cell_type": "code",
   "execution_count": null,
   "outputs": [],
   "source": [
    "group.cumcount()"
   ],
   "metadata": {
    "collapsed": false,
    "pycharm": {
     "name": "#%%\n"
    }
   }
  },
  {
   "cell_type": "code",
   "execution_count": null,
   "outputs": [],
   "source": [],
   "metadata": {
    "collapsed": false,
    "pycharm": {
     "name": "#%%\n"
    }
   }
  }
 ],
 "metadata": {
  "kernelspec": {
   "display_name": "Python 3",
   "language": "python",
   "name": "python3"
  },
  "language_info": {
   "codemirror_mode": {
    "name": "ipython",
    "version": 2
   },
   "file_extension": ".py",
   "mimetype": "text/x-python",
   "name": "python",
   "nbconvert_exporter": "python",
   "pygments_lexer": "ipython2",
   "version": "2.7.6"
  }
 },
 "nbformat": 4,
 "nbformat_minor": 0
}