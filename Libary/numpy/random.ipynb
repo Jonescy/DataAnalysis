{
 "cells": [
  {
   "cell_type": "code",
   "execution_count": 1,
   "metadata": {
    "collapsed": true
   },
   "outputs": [],
   "source": [
    "import numpy as np"
   ]
  },
  {
   "cell_type": "code",
   "execution_count": 8,
   "outputs": [
    {
     "data": {
      "text/plain": "array([[0.22381918, 0.89933423, 0.26373624, 0.65647853],\n       [0.2710812 , 0.76948464, 0.85413998, 0.46356865],\n       [0.56539501, 0.96636184, 0.22139354, 0.26838635]])"
     },
     "execution_count": 8,
     "metadata": {},
     "output_type": "execute_result"
    }
   ],
   "source": [
    "np.random.random((3,4))\n"
   ],
   "metadata": {
    "collapsed": false,
    "pycharm": {
     "name": "#%%\n"
    }
   }
  },
  {
   "cell_type": "code",
   "execution_count": 10,
   "outputs": [
    {
     "data": {
      "text/plain": "array([[0.54340494, 0.27836939, 0.42451759, 0.84477613],\n       [0.00471886, 0.12156912, 0.67074908, 0.82585276],\n       [0.13670659, 0.57509333, 0.89132195, 0.20920212]])"
     },
     "execution_count": 10,
     "metadata": {},
     "output_type": "execute_result"
    }
   ],
   "source": [
    "np.random.seed(100)\n",
    "np.random.random((3,4))"
   ],
   "metadata": {
    "collapsed": false,
    "pycharm": {
     "name": "#%%\n"
    }
   }
  },
  {
   "cell_type": "code",
   "execution_count": 14,
   "outputs": [
    {
     "data": {
      "text/plain": "array([[94, 45, 17, 52, 55, 56, 84, 43, 62, 38],\n       [81,  3, 63, 82, 17, 71, 54, 99, 97, 48],\n       [49, 10, 50, 54, 35,  4, 12, 50, 30, 37],\n       [94, 68, 27, 53, 37, 74, 32, 86, 93, 69],\n       [84, 72, 62, 94, 37, 43, 14, 49, 83, 33],\n       [39, 41, 54, 94, 15, 39, 87, 38,  1, 60],\n       [42, 45, 20, 77, 67, 14, 88, 66, 69, 55],\n       [ 1, 88, 84, 11, 66,  3, 88, 77, 40, 37],\n       [36, 27, 20,  5, 40, 88, 75, 80, 93, 53],\n       [45, 14, 34, 16, 18, 89, 24, 60,  9, 41]])"
     },
     "execution_count": 14,
     "metadata": {},
     "output_type": "execute_result"
    }
   ],
   "source": [
    "np.random.randint(1,100,size=[10,10])"
   ],
   "metadata": {
    "collapsed": false,
    "pycharm": {
     "name": "#%%\n"
    }
   }
  },
  {
   "cell_type": "code",
   "execution_count": 16,
   "outputs": [
    {
     "data": {
      "text/plain": "array([[70.45163022, 49.75106876, 10.34215554, 51.41631388, 62.76829228,\n        51.74183697, 26.46944005,  8.66959882, 71.98245726, 20.39413879],\n       [36.16638145, 77.7685414 , 88.1042226 , 30.27936925, 15.03827745,\n        73.81609983, 91.21589889, 93.62564913,  2.064955  , 47.27383828],\n       [ 4.60330415,  5.37053469, 63.77857482,  7.30084097, 99.14306336,\n        77.9529841 , 69.96321564, 12.89979948, 27.16941897, 59.9993007 ],\n       [61.86455345, 56.29452004, 65.27749117, 23.42567279, 31.60363579,\n        74.56147409, 87.2716013 , 48.28286365, 36.80122837,  9.65436586],\n       [68.81137364,  3.414638  ,  6.84865559, 90.95072819, 55.707376  ,\n        29.50211823, 73.31183749, 27.08576711, 86.97817851, 66.15484508],\n       [39.45512185, 15.04316123, 82.07904684, 46.20280287, 47.64667659,\n        59.31493678, 76.60000484, 99.33383895, 35.52196244,  6.0532644 ],\n       [25.35656371, 23.06351043, 73.36123626, 62.4465215 , 71.38727082,\n        71.35272254, 17.27195374, 34.27048792, 70.51063297, 30.72594144],\n       [27.1387082 , 40.81070546, 91.38298272, 23.10030108, 64.7876681 ,\n        38.96060141, 92.61054616, 51.62129428, 52.68663325, 25.91179712],\n       [79.87483843, 36.40076791, 54.9931148 ,  4.80813806, 41.51315845,\n         8.67117761, 27.16821217, 23.81862741, 35.75754502, 33.31183292],\n       [25.60262043, 80.85609081, 48.14567387,  6.56620413, 75.08518659,\n        42.3987139 , 13.16999947, 74.41564422, 94.31664468, 16.53161993]])"
     },
     "execution_count": 16,
     "metadata": {},
     "output_type": "execute_result"
    }
   ],
   "source": [
    "np.random.uniform(low=0,high=100,size=(10,10))"
   ],
   "metadata": {
    "collapsed": false,
    "pycharm": {
     "name": "#%%\n"
    }
   }
  },
  {
   "cell_type": "code",
   "execution_count": 23,
   "outputs": [
    {
     "data": {
      "text/plain": "array([[0.1334 , 0.10386, 0.65045],\n       [0.62511, 0.66955, 0.9012 ],\n       [0.26645, 0.65715, 0.74851],\n       [0.93454, 0.89698, 0.34362]])"
     },
     "execution_count": 23,
     "metadata": {},
     "output_type": "execute_result"
    }
   ],
   "source": [
    "np.set_printoptions(precision=5)\n",
    "np.random.rand(4,3)"
   ],
   "metadata": {
    "collapsed": false,
    "pycharm": {
     "name": "#%%\n"
    }
   }
  },
  {
   "cell_type": "code",
   "execution_count": 29,
   "outputs": [
    {
     "data": {
      "text/plain": "3.0111652632565673"
     },
     "execution_count": 29,
     "metadata": {},
     "output_type": "execute_result"
    }
   ],
   "source": [
    "np.std(np.random.normal(1,3,size=10000))"
   ],
   "metadata": {
    "collapsed": false,
    "pycharm": {
     "name": "#%%\n"
    }
   }
  },
  {
   "cell_type": "code",
   "execution_count": 32,
   "outputs": [
    {
     "data": {
      "text/plain": "array([-0.53268, -0.17441,  0.70529,  1.93195,  0.51882,  0.03376,\n        0.18766, -0.0602 ,  1.9441 ,  1.13497])"
     },
     "execution_count": 32,
     "metadata": {},
     "output_type": "execute_result"
    }
   ],
   "source": [
    "np.set_printoptions(precision=5)\n",
    "np.random.randn(10)"
   ],
   "metadata": {
    "collapsed": false,
    "pycharm": {
     "name": "#%%\n"
    }
   }
  },
  {
   "cell_type": "code",
   "execution_count": 34,
   "outputs": [
    {
     "data": {
      "text/plain": "array([[ 0.08581, -0.19587, -0.04115, -0.51932],\n       [ 0.44802, -0.18532,  0.83593,  0.14025],\n       [ 0.62916,  1.42602,  0.75444,  1.81683],\n       [ 0.87851,  1.38765,  0.88624,  1.77119]])"
     },
     "execution_count": 34,
     "metadata": {},
     "output_type": "execute_result"
    }
   ],
   "source": [
    "sample = np.random.normal(size=(4,4))"
   ],
   "metadata": {
    "collapsed": false,
    "pycharm": {
     "name": "#%%\n"
    }
   }
  },
  {
   "cell_type": "code",
   "execution_count": 36,
   "outputs": [],
   "source": [
    "s= np.array([1,2,5,6,7,9,10])"
   ],
   "metadata": {
    "collapsed": false,
    "pycharm": {
     "name": "#%%\n"
    }
   }
  },
  {
   "cell_type": "code",
   "execution_count": 41,
   "outputs": [
    {
     "data": {
      "text/plain": "array([ 5,  7,  2, 10,  1,  9,  6])"
     },
     "execution_count": 41,
     "metadata": {},
     "output_type": "execute_result"
    }
   ],
   "source": [
    "np.random.shuffle(s)\n",
    "s"
   ],
   "metadata": {
    "collapsed": false,
    "pycharm": {
     "name": "#%%\n"
    }
   }
  },
  {
   "cell_type": "code",
   "execution_count": 45,
   "outputs": [
    {
     "data": {
      "text/plain": "array([ 5,  2,  7, 10,  9,  1,  6])"
     },
     "execution_count": 45,
     "metadata": {},
     "output_type": "execute_result"
    }
   ],
   "source": [
    "np.random.permutation(s)"
   ],
   "metadata": {
    "collapsed": false,
    "pycharm": {
     "name": "#%%\n"
    }
   }
  },
  {
   "cell_type": "code",
   "execution_count": 44,
   "outputs": [
    {
     "data": {
      "text/plain": "array([ 5,  7,  2, 10,  1,  9,  6])"
     },
     "execution_count": 44,
     "metadata": {},
     "output_type": "execute_result"
    }
   ],
   "source": [
    "s"
   ],
   "metadata": {
    "collapsed": false,
    "pycharm": {
     "name": "#%%\n"
    }
   }
  }
 ],
 "metadata": {
  "kernelspec": {
   "display_name": "Python 3",
   "language": "python",
   "name": "python3"
  },
  "language_info": {
   "codemirror_mode": {
    "name": "ipython",
    "version": 2
   },
   "file_extension": ".py",
   "mimetype": "text/x-python",
   "name": "python",
   "nbconvert_exporter": "python",
   "pygments_lexer": "ipython2",
   "version": "2.7.6"
  }
 },
 "nbformat": 4,
 "nbformat_minor": 0
}