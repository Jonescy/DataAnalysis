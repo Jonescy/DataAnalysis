{
 "cells": [
  {
   "cell_type": "code",
   "execution_count": 140,
   "metadata": {
    "collapsed": true
   },
   "outputs": [],
   "source": [
    "import numpy as np"
   ]
  },
  {
   "cell_type": "code",
   "execution_count": 141,
   "outputs": [
    {
     "data": {
      "text/plain": "array([[ 2.3,  5. ,  2. ,  6. ,  5. ],\n       [ 4.5,  5. ,  6. , 78. , 12.5],\n       [ 3.5,  3. , 21. , 32. ,  7. ],\n       [ 7. , 21. ,  6. ,  7. ,  8. ],\n       [ 6. , 22. ,  2.5,  6.4,  2. ],\n       [ 9.5, 10. , 20. , 67. ,  1. ]])"
     },
     "execution_count": 141,
     "metadata": {},
     "output_type": "execute_result"
    }
   ],
   "source": [
    "data = ((2.3,5,2,6,5),(4.5,5,6,78,12.5),(3.5,3.,21,32,7),(7.,21,6,7,8),(6,22.,2.5,6.4,2),(9.5,10,20,67,1))\n",
    "arr = np.array(data)\n",
    "arr"
   ],
   "metadata": {
    "collapsed": false,
    "pycharm": {
     "name": "#%%\n"
    }
   }
  },
  {
   "cell_type": "code",
   "execution_count": 142,
   "outputs": [
    {
     "data": {
      "text/plain": "array([[ 2.3,  5. ,  2. ],\n       [ 6. ,  5. ,  4.5],\n       [ 5. ,  6. , 78. ],\n       [12.5,  3.5,  3. ],\n       [21. , 32. ,  7. ],\n       [ 7. , 21. ,  6. ],\n       [ 7. ,  8. ,  6. ],\n       [22. ,  2.5,  6.4],\n       [ 2. ,  9.5, 10. ],\n       [20. , 67. ,  1. ]])"
     },
     "execution_count": 142,
     "metadata": {},
     "output_type": "execute_result"
    }
   ],
   "source": [
    "arr.reshape(10,3)"
   ],
   "metadata": {
    "collapsed": false,
    "pycharm": {
     "name": "#%%\n"
    }
   }
  },
  {
   "cell_type": "code",
   "execution_count": 143,
   "outputs": [
    {
     "data": {
      "text/plain": "array([[ 2.3,  5. ,  2. ,  6. ,  5. ],\n       [ 4.5,  5. ,  6. , 78. , 12.5],\n       [ 3.5,  3. , 21. , 32. ,  7. ],\n       [ 7. , 21. ,  6. ,  7. ,  8. ],\n       [ 6. , 22. ,  2.5,  6.4,  2. ],\n       [ 9.5, 10. , 20. , 67. ,  1. ]])"
     },
     "execution_count": 143,
     "metadata": {},
     "output_type": "execute_result"
    }
   ],
   "source": [
    "# arr.reshape(4,10)\n",
    "arr"
   ],
   "metadata": {
    "collapsed": false,
    "pycharm": {
     "name": "#%%\n"
    }
   }
  },
  {
   "cell_type": "code",
   "execution_count": 144,
   "outputs": [],
   "source": [
    "arr1 = arr.resize(5,6)\n",
    "arr1"
   ],
   "metadata": {
    "collapsed": false,
    "pycharm": {
     "name": "#%%\n"
    }
   }
  },
  {
   "cell_type": "code",
   "execution_count": 145,
   "outputs": [
    {
     "data": {
      "text/plain": "array([[ 2.3,  5. ,  2. ,  6. ,  5. ,  4.5],\n       [ 5. ,  6. , 78. , 12.5,  3.5,  3. ],\n       [21. , 32. ,  7. ,  7. , 21. ,  6. ],\n       [ 7. ,  8. ,  6. , 22. ,  2.5,  6.4],\n       [ 2. ,  9.5, 10. , 20. , 67. ,  1. ]])"
     },
     "execution_count": 145,
     "metadata": {},
     "output_type": "execute_result"
    }
   ],
   "source": [
    "arr\n"
   ],
   "metadata": {
    "collapsed": false,
    "pycharm": {
     "name": "#%%\n"
    }
   }
  },
  {
   "cell_type": "code",
   "execution_count": 146,
   "outputs": [],
   "source": [
    "arr.shape = [10,3]"
   ],
   "metadata": {
    "collapsed": false,
    "pycharm": {
     "name": "#%%\n"
    }
   }
  },
  {
   "cell_type": "code",
   "execution_count": 147,
   "outputs": [
    {
     "data": {
      "text/plain": "array([ 2.3,  5. ,  2. ,  6. ,  5. ,  4.5,  5. ,  6. , 78. , 12.5,  3.5,\n        3. , 21. , 32. ,  7. ,  7. , 21. ,  6. ,  7. ,  8. ,  6. , 22. ,\n        2.5,  6.4,  2. ,  9.5, 10. , 20. , 67. ,  1. ])"
     },
     "execution_count": 147,
     "metadata": {},
     "output_type": "execute_result"
    }
   ],
   "source": [
    "arr.ravel()"
   ],
   "metadata": {
    "collapsed": false,
    "pycharm": {
     "name": "#%%\n"
    }
   }
  },
  {
   "cell_type": "code",
   "execution_count": 148,
   "outputs": [
    {
     "data": {
      "text/plain": "array([[ 2.3,  5. ,  2. ],\n       [ 6. ,  5. ,  4.5],\n       [ 5. ,  6. , 78. ],\n       [12.5,  3.5,  3. ],\n       [21. , 32. ,  7. ],\n       [ 7. , 21. ,  6. ],\n       [ 7. ,  8. ,  6. ],\n       [22. ,  2.5,  6.4],\n       [ 2. ,  9.5, 10. ],\n       [20. , 67. ,  1. ]])"
     },
     "execution_count": 148,
     "metadata": {},
     "output_type": "execute_result"
    }
   ],
   "source": [
    "arr\n"
   ],
   "metadata": {
    "collapsed": false,
    "pycharm": {
     "name": "#%%\n"
    }
   }
  },
  {
   "cell_type": "code",
   "execution_count": 149,
   "outputs": [
    {
     "data": {
      "text/plain": "array([ 2.3,  5. ,  2. ,  6. ,  5. ,  4.5,  5. ,  6. , 78. , 12.5,  3.5,\n        3. , 21. , 32. ,  7. ,  7. , 21. ,  6. ,  7. ,  8. ,  6. , 22. ,\n        2.5,  6.4,  2. ,  9.5, 10. , 20. , 67. ,  1. ])"
     },
     "execution_count": 149,
     "metadata": {},
     "output_type": "execute_result"
    }
   ],
   "source": [
    "arr.reshape(-1)\n"
   ],
   "metadata": {
    "collapsed": false,
    "pycharm": {
     "name": "#%%\n"
    }
   }
  },
  {
   "cell_type": "code",
   "execution_count": 150,
   "outputs": [
    {
     "data": {
      "text/plain": "array([[  2.3,   5. , 100. ],\n       [  6. ,   5. ,   4.5],\n       [  5. ,   6. ,  78. ],\n       [ 12.5,   3.5,   3. ],\n       [ 21. ,  32. ,   7. ],\n       [  7. ,  21. ,   6. ],\n       [  7. ,   8. ,   6. ],\n       [ 22. ,   2.5,   6.4],\n       [  2. ,   9.5,  10. ],\n       [ 20. ,  67. ,   1. ]])"
     },
     "execution_count": 150,
     "metadata": {},
     "output_type": "execute_result"
    }
   ],
   "source": [
    "arr.ravel()[2] = 100\n",
    "arr"
   ],
   "metadata": {
    "collapsed": false,
    "pycharm": {
     "name": "#%%\n"
    }
   }
  },
  {
   "cell_type": "code",
   "execution_count": 151,
   "outputs": [
    {
     "data": {
      "text/plain": "array([[  2.3,   5. , 100. ],\n       [  6. ,   5. ,   4.5],\n       [  5. ,   6. ,  78. ],\n       [ 12.5,   3.5,   3. ],\n       [ 21. ,  32. ,   7. ],\n       [  7. ,  21. ,   6. ],\n       [  7. ,   8. ,   6. ],\n       [ 22. ,   2.5,   6.4],\n       [  2. ,   9.5,  10. ],\n       [ 20. ,  67. ,   1. ]])"
     },
     "execution_count": 151,
     "metadata": {},
     "output_type": "execute_result"
    }
   ],
   "source": [
    "arr.flatten()\n",
    "arr\n"
   ],
   "metadata": {
    "collapsed": false,
    "pycharm": {
     "name": "#%%\n"
    }
   }
  },
  {
   "cell_type": "code",
   "execution_count": 152,
   "outputs": [
    {
     "data": {
      "text/plain": "2"
     },
     "execution_count": 152,
     "metadata": {},
     "output_type": "execute_result"
    }
   ],
   "source": [
    "arr2 = arr\n",
    "arr2.ndim"
   ],
   "metadata": {
    "collapsed": false,
    "pycharm": {
     "name": "#%%\n"
    }
   }
  },
  {
   "cell_type": "code",
   "execution_count": 153,
   "outputs": [
    {
     "data": {
      "text/plain": "3"
     },
     "execution_count": 153,
     "metadata": {},
     "output_type": "execute_result"
    }
   ],
   "source": [
    "arr2[:,np.newaxis].ndim"
   ],
   "metadata": {
    "collapsed": false,
    "pycharm": {
     "name": "#%%\n"
    }
   }
  },
  {
   "cell_type": "code",
   "execution_count": 154,
   "outputs": [
    {
     "data": {
      "text/plain": "1"
     },
     "execution_count": 154,
     "metadata": {},
     "output_type": "execute_result"
    }
   ],
   "source": [
    "x = np.arange(3)\n",
    "x.ndim"
   ],
   "metadata": {
    "collapsed": false,
    "pycharm": {
     "name": "#%%\n"
    }
   }
  },
  {
   "cell_type": "code",
   "execution_count": 155,
   "outputs": [
    {
     "data": {
      "text/plain": "array([[0],\n       [1],\n       [2]])"
     },
     "execution_count": 155,
     "metadata": {},
     "output_type": "execute_result"
    }
   ],
   "source": [
    "x[:,np.newaxis]"
   ],
   "metadata": {
    "collapsed": false,
    "pycharm": {
     "name": "#%%\n"
    }
   }
  },
  {
   "cell_type": "code",
   "execution_count": 156,
   "outputs": [
    {
     "data": {
      "text/plain": "array([[[0]],\n\n       [[1]],\n\n       [[2]]])"
     },
     "execution_count": 156,
     "metadata": {},
     "output_type": "execute_result"
    }
   ],
   "source": [
    "x[:,np.newaxis,np.newaxis]"
   ],
   "metadata": {
    "collapsed": false,
    "pycharm": {
     "name": "#%%\n"
    }
   }
  },
  {
   "cell_type": "code",
   "execution_count": 157,
   "outputs": [
    {
     "data": {
      "text/plain": "array([3, 4, 5])"
     },
     "execution_count": 157,
     "metadata": {},
     "output_type": "execute_result"
    }
   ],
   "source": [
    "y = np.arange(3,6)\n",
    "y"
   ],
   "metadata": {
    "collapsed": false,
    "pycharm": {
     "name": "#%%\n"
    }
   }
  },
  {
   "cell_type": "code",
   "execution_count": 158,
   "outputs": [
    {
     "data": {
      "text/plain": "array([[ 0,  0,  0],\n       [ 3,  4,  5],\n       [ 6,  8, 10]])"
     },
     "execution_count": 158,
     "metadata": {},
     "output_type": "execute_result"
    }
   ],
   "source": [
    "x[:,np.newaxis] * y"
   ],
   "metadata": {
    "collapsed": false,
    "pycharm": {
     "name": "#%%\n"
    }
   }
  },
  {
   "cell_type": "code",
   "execution_count": 159,
   "outputs": [
    {
     "data": {
      "text/plain": "array([[ 0,  1,  2,  3],\n       [ 4,  5,  6,  7],\n       [ 8,  9, 10, 11],\n       [12, 13, 14, 15],\n       [16, 17, 18, 19]])"
     },
     "execution_count": 159,
     "metadata": {},
     "output_type": "execute_result"
    }
   ],
   "source": [
    "arr1 = np.arange(20).reshape(5,4)\n",
    "arr1"
   ],
   "metadata": {
    "collapsed": false,
    "pycharm": {
     "name": "#%%\n"
    }
   }
  },
  {
   "cell_type": "code",
   "execution_count": 160,
   "outputs": [
    {
     "data": {
      "text/plain": "array([[  2.3,   5. , 100. ,   6. ,   5. ,   4.5],\n       [  5. ,   6. ,  78. ,  12.5,   3.5,   3. ],\n       [ 21. ,  32. ,   7. ,   7. ,  21. ,   6. ],\n       [  7. ,   8. ,   6. ,  22. ,   2.5,   6.4],\n       [  2. ,   9.5,  10. ,  20. ,  67. ,   1. ]])"
     },
     "execution_count": 160,
     "metadata": {},
     "output_type": "execute_result"
    }
   ],
   "source": [
    "arr2 = arr.reshape(5,6)\n",
    "arr2"
   ],
   "metadata": {
    "collapsed": false,
    "pycharm": {
     "name": "#%%\n"
    }
   }
  },
  {
   "cell_type": "code",
   "execution_count": 161,
   "outputs": [
    {
     "data": {
      "text/plain": "array([[  0. ,   1. ,   2. ,   3. ,   2.3,   5. , 100. ,   6. ,   5. ,\n          4.5],\n       [  4. ,   5. ,   6. ,   7. ,   5. ,   6. ,  78. ,  12.5,   3.5,\n          3. ],\n       [  8. ,   9. ,  10. ,  11. ,  21. ,  32. ,   7. ,   7. ,  21. ,\n          6. ],\n       [ 12. ,  13. ,  14. ,  15. ,   7. ,   8. ,   6. ,  22. ,   2.5,\n          6.4],\n       [ 16. ,  17. ,  18. ,  19. ,   2. ,   9.5,  10. ,  20. ,  67. ,\n          1. ]])"
     },
     "execution_count": 161,
     "metadata": {},
     "output_type": "execute_result"
    }
   ],
   "source": [
    "np.hstack((arr1,arr2))\n"
   ],
   "metadata": {
    "collapsed": false,
    "pycharm": {
     "name": "#%%\n"
    }
   }
  },
  {
   "cell_type": "code",
   "execution_count": 162,
   "outputs": [
    {
     "data": {
      "text/plain": "array([[ 23.6, 123. , 231. ,  65. ],\n       [  1.2,  23. ,  52. ,  12. ]])"
     },
     "execution_count": 162,
     "metadata": {},
     "output_type": "execute_result"
    }
   ],
   "source": [
    "arr3 = np.array([[23.6,123,231,65],[1.2,23,52,12]])\n",
    "arr3"
   ],
   "metadata": {
    "collapsed": false,
    "pycharm": {
     "name": "#%%\n"
    }
   }
  },
  {
   "cell_type": "code",
   "execution_count": 163,
   "outputs": [
    {
     "data": {
      "text/plain": "array([[  0. ,   1. ,   2. ,   3. ],\n       [  4. ,   5. ,   6. ,   7. ],\n       [  8. ,   9. ,  10. ,  11. ],\n       [ 12. ,  13. ,  14. ,  15. ],\n       [ 16. ,  17. ,  18. ,  19. ],\n       [ 23.6, 123. , 231. ,  65. ],\n       [  1.2,  23. ,  52. ,  12. ]])"
     },
     "execution_count": 163,
     "metadata": {},
     "output_type": "execute_result"
    }
   ],
   "source": [
    "np.vstack([arr1,arr3])\n"
   ],
   "metadata": {
    "collapsed": false,
    "pycharm": {
     "name": "#%%\n"
    }
   }
  },
  {
   "cell_type": "code",
   "execution_count": 164,
   "outputs": [
    {
     "data": {
      "text/plain": "array([[  0. ,   1. ,   2. ,   3. ,   2.3,   5. , 100. ,   6. ,   5. ,\n          4.5],\n       [  4. ,   5. ,   6. ,   7. ,   5. ,   6. ,  78. ,  12.5,   3.5,\n          3. ],\n       [  8. ,   9. ,  10. ,  11. ,  21. ,  32. ,   7. ,   7. ,  21. ,\n          6. ],\n       [ 12. ,  13. ,  14. ,  15. ,   7. ,   8. ,   6. ,  22. ,   2.5,\n          6.4],\n       [ 16. ,  17. ,  18. ,  19. ,   2. ,   9.5,  10. ,  20. ,  67. ,\n          1. ]])"
     },
     "execution_count": 164,
     "metadata": {},
     "output_type": "execute_result"
    }
   ],
   "source": [
    "np.concatenate((arr1,arr2),axis=1)\n"
   ],
   "metadata": {
    "collapsed": false,
    "pycharm": {
     "name": "#%%\n"
    }
   }
  },
  {
   "cell_type": "code",
   "execution_count": 165,
   "outputs": [
    {
     "data": {
      "text/plain": "array([[0, 1],\n       [2, 3]])"
     },
     "execution_count": 165,
     "metadata": {},
     "output_type": "execute_result"
    }
   ],
   "source": [
    "arr4 = np.array([[0,1],[2,3]])\n",
    "arr4"
   ],
   "metadata": {
    "collapsed": false,
    "pycharm": {
     "name": "#%%\n"
    }
   }
  },
  {
   "cell_type": "code",
   "execution_count": 166,
   "outputs": [
    {
     "data": {
      "text/plain": "array([[0, 1, 0, 1, 0, 1, 0, 1],\n       [2, 3, 2, 3, 2, 3, 2, 3],\n       [0, 1, 0, 1, 0, 1, 0, 1],\n       [2, 3, 2, 3, 2, 3, 2, 3],\n       [0, 1, 0, 1, 0, 1, 0, 1],\n       [2, 3, 2, 3, 2, 3, 2, 3],\n       [0, 1, 0, 1, 0, 1, 0, 1],\n       [2, 3, 2, 3, 2, 3, 2, 3]])"
     },
     "execution_count": 166,
     "metadata": {},
     "output_type": "execute_result"
    }
   ],
   "source": [
    "np.tile(arr4,(4,4))\n",
    "\n"
   ],
   "metadata": {
    "collapsed": false,
    "pycharm": {
     "name": "#%%\n"
    }
   }
  },
  {
   "cell_type": "code",
   "execution_count": 167,
   "outputs": [
    {
     "data": {
      "text/plain": "array([[[0, 1],\n        [2, 3]],\n\n       [[4, 5],\n        [6, 7]]])"
     },
     "execution_count": 167,
     "metadata": {},
     "output_type": "execute_result"
    }
   ],
   "source": [
    "arr5 = np.arange(8).reshape(2,2,2)\n",
    "arr5"
   ],
   "metadata": {
    "collapsed": false,
    "pycharm": {
     "name": "#%%\n"
    }
   }
  },
  {
   "cell_type": "code",
   "execution_count": 168,
   "outputs": [
    {
     "data": {
      "text/plain": "3"
     },
     "execution_count": 168,
     "metadata": {},
     "output_type": "execute_result"
    }
   ],
   "source": [
    "arr5.ndim"
   ],
   "metadata": {
    "collapsed": false,
    "pycharm": {
     "name": "#%%\n"
    }
   }
  },
  {
   "cell_type": "code",
   "execution_count": 169,
   "outputs": [
    {
     "data": {
      "text/plain": "(2, 2, 2)"
     },
     "execution_count": 169,
     "metadata": {},
     "output_type": "execute_result"
    }
   ],
   "source": [
    "arr5.shape"
   ],
   "metadata": {
    "collapsed": false,
    "pycharm": {
     "name": "#%%\n"
    }
   }
  },
  {
   "cell_type": "code",
   "execution_count": 172,
   "outputs": [
    {
     "data": {
      "text/plain": "0"
     },
     "execution_count": 172,
     "metadata": {},
     "output_type": "execute_result"
    }
   ],
   "source": [
    "arr5[0][0][0]\n"
   ],
   "metadata": {
    "collapsed": false,
    "pycharm": {
     "name": "#%%\n"
    }
   }
  }
 ],
 "metadata": {
  "kernelspec": {
   "display_name": "Python 3",
   "language": "python",
   "name": "python3"
  },
  "language_info": {
   "codemirror_mode": {
    "name": "ipython",
    "version": 2
   },
   "file_extension": ".py",
   "mimetype": "text/x-python",
   "name": "python",
   "nbconvert_exporter": "python",
   "pygments_lexer": "ipython2",
   "version": "2.7.6"
  }
 },
 "nbformat": 4,
 "nbformat_minor": 0
}